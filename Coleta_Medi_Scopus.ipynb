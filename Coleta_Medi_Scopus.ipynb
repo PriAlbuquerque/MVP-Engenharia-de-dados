{
 "cells": [
  {
   "cell_type": "code",
   "execution_count": 1,
   "id": "f7f791da",
   "metadata": {
    "scrolled": true
   },
   "outputs": [
    {
     "name": "stdout",
     "output_type": "stream",
     "text": [
      "Requirement already satisfied: pandas in /Users/priscilaalbuquerque/anaconda3/lib/python3.11/site-packages (1.5.3)\n",
      "Requirement already satisfied: python-dateutil>=2.8.1 in /Users/priscilaalbuquerque/anaconda3/lib/python3.11/site-packages (from pandas) (2.8.2)\n",
      "Requirement already satisfied: pytz>=2020.1 in /Users/priscilaalbuquerque/anaconda3/lib/python3.11/site-packages (from pandas) (2022.7)\n",
      "Requirement already satisfied: numpy>=1.21.0 in /Users/priscilaalbuquerque/anaconda3/lib/python3.11/site-packages (from pandas) (1.24.3)\n",
      "Requirement already satisfied: six>=1.5 in /Users/priscilaalbuquerque/anaconda3/lib/python3.11/site-packages (from python-dateutil>=2.8.1->pandas) (1.16.0)\n",
      "Note: you may need to restart the kernel to use updated packages.\n"
     ]
    }
   ],
   "source": [
    "pip install pandas"
   ]
  },
  {
   "cell_type": "code",
   "execution_count": 2,
   "id": "eaf00f8b",
   "metadata": {},
   "outputs": [
    {
     "name": "stdout",
     "output_type": "stream",
     "text": [
      "Requirement already satisfied: pybliometrics in /Users/priscilaalbuquerque/anaconda3/lib/python3.11/site-packages (3.5.2)\n",
      "Requirement already satisfied: requests in /Users/priscilaalbuquerque/anaconda3/lib/python3.11/site-packages (from pybliometrics) (2.29.0)\n",
      "Requirement already satisfied: tqdm in /Users/priscilaalbuquerque/anaconda3/lib/python3.11/site-packages (from pybliometrics) (4.65.0)\n",
      "Requirement already satisfied: urllib3 in /Users/priscilaalbuquerque/anaconda3/lib/python3.11/site-packages (from pybliometrics) (1.26.16)\n",
      "Requirement already satisfied: charset-normalizer<4,>=2 in /Users/priscilaalbuquerque/anaconda3/lib/python3.11/site-packages (from requests->pybliometrics) (2.0.4)\n",
      "Requirement already satisfied: idna<4,>=2.5 in /Users/priscilaalbuquerque/anaconda3/lib/python3.11/site-packages (from requests->pybliometrics) (3.4)\n",
      "Requirement already satisfied: certifi>=2017.4.17 in /Users/priscilaalbuquerque/anaconda3/lib/python3.11/site-packages (from requests->pybliometrics) (2023.5.7)\n",
      "Note: you may need to restart the kernel to use updated packages.\n"
     ]
    }
   ],
   "source": [
    "pip install pybliometrics"
   ]
  },
  {
   "cell_type": "code",
   "execution_count": 3,
   "id": "0e705dda",
   "metadata": {},
   "outputs": [],
   "source": [
    "from pybliometrics.scopus import ScopusSearch, AuthorSearch, config, utils\n",
    "\n",
    "import pandas as pd\n",
    "import time\n",
    "\n"
   ]
  },
  {
   "cell_type": "code",
   "execution_count": 4,
   "id": "d7ba0cb0",
   "metadata": {},
   "outputs": [
    {
     "name": "stdout",
     "output_type": "stream",
     "text": [
      "xxxxxxxxxxxxxxxxxxxxxxxxxx\n"
     ]
    }
   ],
   "source": [
    "print(config['Authentication']['APIKey'])  # Show keys"
   ]
  },
  {
   "cell_type": "code",
   "execution_count": 5,
   "id": "0195734b",
   "metadata": {},
   "outputs": [
    {
     "data": {
      "text/plain": [
       "<bound method Mapping.keys of <configparser.ConfigParser object at 0x1068789d0>>"
      ]
     },
     "execution_count": 5,
     "metadata": {},
     "output_type": "execute_result"
    }
   ],
   "source": [
    "utils.config.keys"
   ]
  },
  {
   "cell_type": "code",
   "execution_count": 6,
   "id": "813f70c6",
   "metadata": {},
   "outputs": [],
   "source": [
    "areas = [\"medi\"]\n",
    "years = range(2010,2020)"
   ]
  },
  {
   "cell_type": "code",
   "execution_count": 7,
   "id": "9359d2d8",
   "metadata": {},
   "outputs": [],
   "source": [
    "# areas = [\"nurs\", \"vete\", \"dent\", \"heal\", \"mult\", \"agri\", \"bioc\", \"immu\", \"neur\", \"phar\"]\n",
    "# areas = [\"vete\"]\n",
    "# years = range(2005,2022)\n",
    "# years = range(2010,2020)\n",
    "# years = range(2019,2020)"
   ]
  },
  {
   "cell_type": "code",
   "execution_count": 27,
   "id": "42e64863",
   "metadata": {},
   "outputs": [
    {
     "name": "stdout",
     "output_type": "stream",
     "text": [
      "medi, 2010, 142\n",
      "medi, 2011, 127\n",
      "medi, 2012, 150\n",
      "medi, 2013, 156\n",
      "medi, 2014, 188\n",
      "medi, 2015, 210\n",
      "medi, 2016, 274\n",
      "medi, 2017, 312\n",
      "medi, 2018, 313\n",
      "medi, 2019, 364\n",
      "nurs, 2010, 8\n",
      "nurs, 2011, 12\n",
      "nurs, 2012, 9\n",
      "nurs, 2013, 7\n",
      "nurs, 2014, 12\n",
      "nurs, 2015, 9\n",
      "nurs, 2016, 15\n",
      "nurs, 2017, 13\n",
      "nurs, 2018, 9\n",
      "nurs, 2019, 15\n",
      "vete, 2010, 11\n",
      "vete, 2011, 12\n",
      "vete, 2012, 17\n",
      "vete, 2013, 19\n",
      "vete, 2014, 19\n",
      "vete, 2015, 14\n",
      "vete, 2016, 14\n",
      "vete, 2017, 21\n",
      "vete, 2018, 26\n",
      "vete, 2019, 20\n",
      "dent, 2010, 0\n",
      "dent, 2011, 0\n",
      "dent, 2012, 0\n",
      "dent, 2013, 0\n",
      "dent, 2014, 0\n",
      "dent, 2015, 0\n",
      "dent, 2016, 1\n",
      "dent, 2017, 0\n",
      "dent, 2018, 0\n",
      "dent, 2019, 0\n",
      "heal, 2010, 2\n",
      "heal, 2011, 0\n",
      "heal, 2012, 6\n",
      "heal, 2013, 0\n",
      "heal, 2014, 7\n",
      "heal, 2015, 8\n",
      "heal, 2016, 11\n",
      "heal, 2017, 11\n",
      "heal, 2018, 10\n",
      "heal, 2019, 9\n",
      "mult, 2010, 2\n",
      "mult, 2011, 7\n",
      "mult, 2012, 11\n",
      "mult, 2013, 27\n",
      "mult, 2014, 39\n",
      "mult, 2015, 22\n",
      "mult, 2016, 32\n",
      "mult, 2017, 26\n",
      "mult, 2018, 42\n",
      "mult, 2019, 36\n",
      "agri, 2010, 95\n",
      "agri, 2011, 107\n",
      "agri, 2012, 139\n",
      "agri, 2013, 153\n",
      "agri, 2014, 164\n",
      "agri, 2015, 150\n",
      "agri, 2016, 197\n",
      "agri, 2017, 236\n",
      "agri, 2018, 218\n",
      "agri, 2019, 192\n",
      "bioc, 2010, 21\n",
      "bioc, 2011, 20\n",
      "bioc, 2012, 31\n",
      "bioc, 2013, 34\n",
      "bioc, 2014, 49\n",
      "bioc, 2015, 50\n",
      "bioc, 2016, 71\n",
      "bioc, 2017, 58\n",
      "bioc, 2018, 66\n",
      "bioc, 2019, 65\n",
      "immu, 2010, 39\n",
      "immu, 2011, 33\n",
      "immu, 2012, 39\n",
      "immu, 2013, 39\n",
      "immu, 2014, 41\n",
      "immu, 2015, 46\n",
      "immu, 2016, 77\n",
      "immu, 2017, 63\n",
      "immu, 2018, 58\n",
      "immu, 2019, 59\n",
      "neur, 2010, 3\n",
      "neur, 2011, 4\n",
      "neur, 2012, 1\n",
      "neur, 2013, 4\n",
      "neur, 2014, 2\n",
      "neur, 2015, 2\n",
      "neur, 2016, 8\n",
      "neur, 2017, 10\n",
      "neur, 2018, 10\n",
      "neur, 2019, 6\n",
      "phar, 2010, 6\n",
      "phar, 2011, 9\n",
      "phar, 2012, 18\n",
      "phar, 2013, 13\n",
      "phar, 2014, 16\n",
      "phar, 2015, 23\n",
      "phar, 2016, 23\n",
      "phar, 2017, 21\n",
      "phar, 2018, 8\n",
      "phar, 2019, 13\n"
     ]
    }
   ],
   "source": [
    "for a in areas:\n",
    "    for y in years:\n",
    "        query = \"SUBJAREA({}) AND (AFFILCOUNTRY(Brazil) AND PUBYEAR = {})\\\n",
    "        AND (LIMIT-TO(DOCTYPE, \\\"ar\\\") OR LIMIT-TO(DOCTYPE, \\\"re\\\"))\".format(a, y)\n",
    "\n",
    "        s = ScopusSearch(query)\n",
    "        pd.DataFrame(pd.DataFrame(s.results)).to_csv(\"{}-{}.csv\".format(a,y))\n",
    "        print(a + \", \" + str(y) + \", \" + str(s.get_results_size()))\n",
    "        #time.sleep(120)"
   ]
  },
  {
   "cell_type": "code",
   "execution_count": null,
   "id": "8f43053d",
   "metadata": {},
   "outputs": [],
   "source": []
  },
  {
   "cell_type": "code",
   "execution_count": null,
   "id": "f8f6eaf8",
   "metadata": {},
   "outputs": [],
   "source": []
  }
 ],
 "metadata": {
  "kernelspec": {
   "display_name": "Python 3 (ipykernel)",
   "language": "python",
   "name": "python3"
  },
  "language_info": {
   "codemirror_mode": {
    "name": "ipython",
    "version": 3
   },
   "file_extension": ".py",
   "mimetype": "text/x-python",
   "name": "python",
   "nbconvert_exporter": "python",
   "pygments_lexer": "ipython3",
   "version": "3.11.3"
  }
 },
 "nbformat": 4,
 "nbformat_minor": 5
}
