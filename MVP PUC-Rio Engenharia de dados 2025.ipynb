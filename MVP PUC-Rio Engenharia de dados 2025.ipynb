{
 "cells": [
  {
   "cell_type": "markdown",
   "metadata": {
    "application/vnd.databricks.v1+cell": {
     "cellMetadata": {
      "byteLimit": 2048000,
      "rowLimit": 10000
     },
     "inputWidgets": {},
     "nuid": "235b93db-603c-4f79-abdd-4d81dc440a67",
     "showTitle": false,
     "tableResultSettingsMap": {},
     "title": ""
    }
   },
   "source": [
    "# Coleta - API da Scopus\n",
    "Os dados foram coletados a partir do banco de dados Scopus (Elsevier B.V.), utilizando uma API de pesquisa. A biblioteca utilizada para extração, armazenamento em cache e manipulação dos dados foi a pybliometrics, uma API-Wrapper baseada em Python especificamente desenvolvida para interagir com o banco de dados Scopus, permitindo a recuperação eficiente de artigos científicos originais e publicações de revisão em um arquivo csv. \n",
    "\n",
    "- O código utilizado para a recuperação dos dados está disponível no repositório GitHub do projeto (Coleta_Medi_Scopus.ipynb). Para fins de documentação e validação técnica, os registros (logs) da execução dos notebooks também estão incluídos no documento anexo como evidências adicionais."
   ]
  },
  {
   "cell_type": "markdown",
   "metadata": {
    "application/vnd.databricks.v1+cell": {
     "cellMetadata": {
      "byteLimit": 2048000,
      "rowLimit": 10000
     },
     "inputWidgets": {},
     "nuid": "96da114f-4e0e-48ca-9992-3830d262d386",
     "showTitle": false,
     "tableResultSettingsMap": {},
     "title": ""
    }
   },
   "source": [
    "# Camada Bronze – Carregamento dos Dados RAW\n",
    "- Antes da criação das camadas foi necessário um ajuste mínimo dos nomes das colunas"
   ]
  },
  {
   "cell_type": "code",
   "execution_count": 0,
   "metadata": {
    "application/vnd.databricks.v1+cell": {
     "cellMetadata": {
      "byteLimit": 2048000,
      "rowLimit": 10000
     },
     "inputWidgets": {},
     "nuid": "a6cf4c56-641f-4a07-ba37-a5baf016d47b",
     "showTitle": false,
     "tableResultSettingsMap": {},
     "title": ""
    }
   },
   "outputs": [],
   "source": [
    "# Função para limpar o nome das colunas removendo caracteres inválidos\n",
    "def clean_column_name(col_name):\n",
    "    new_name = col_name.strip().replace(\" \", \"_\")\n",
    "    for char in [\"(\", \")\", \";\", \",\", \"{\", \"}\", \"=\", \"\\n\", \"\\t\"]:\n",
    "        new_name = new_name.replace(char, \"\")\n",
    "    return new_name\n",
    "\n",
    "# Função para ler o CSV e ajustar os nomes das colunas de forma mínima\n",
    "def load_raw_csv(path, delimiter=\";\"):\n",
    "    df = spark.read.format(\"csv\") \\\n",
    "        .option(\"header\", \"true\") \\\n",
    "        .option(\"inferSchema\", \"true\") \\\n",
    "        .option(\"delimiter\", delimiter) \\\n",
    "        .load(path)\n",
    "    # Ajuste mínimo dos nomes das colunas para evitar caracteres inválidos\n",
    "    df = df.toDF(*[clean_column_name(c) for c in df.columns])\n",
    "    return df\n",
    "\n",
    "# Definição dos caminhos dos arquivos CSV no DBFS\n",
    "fato_path = \"/FileStore/tables/fato_publications.csv\"\n",
    "dim_fund_path = \"/FileStore/tables/dim_fund.csv\"\n",
    "dim_author_affil_path = \"/FileStore/tables/dim_author_affil.csv\"\n",
    "\n",
    "# Carregar os arquivos RAW utilizando a função com ajuste mínimo\n",
    "fato_raw_df = load_raw_csv(fato_path)\n",
    "dim_fund_raw_df = load_raw_csv(dim_fund_path)\n",
    "dim_author_affil_raw_df = load_raw_csv(dim_author_affil_path)\n",
    "\n",
    "# Criação dos bancos de dados\n",
    "spark.sql(\"CREATE DATABASE IF NOT EXISTS bronze\")\n",
    "spark.sql(\"CREATE DATABASE IF NOT EXISTS silver\")\n",
    "spark.sql(\"CREATE DATABASE IF NOT EXISTS gold\")\n",
    "\n",
    "# Armazenar os DataFrames RAW na camada Bronze\n",
    "fato_raw_df.write.format(\"delta\").mode(\"overwrite\").saveAsTable(\"bronze.fato_publications_raw\")\n",
    "dim_fund_raw_df.write.format(\"delta\").mode(\"overwrite\").saveAsTable(\"bronze.dim_fund_raw\")\n",
    "dim_author_affil_raw_df.write.format(\"delta\").mode(\"overwrite\").saveAsTable(\"bronze.dim_author_affil_raw\")\n",
    "\n"
   ]
  },
  {
   "cell_type": "markdown",
   "metadata": {
    "application/vnd.databricks.v1+cell": {
     "cellMetadata": {
      "byteLimit": 2048000,
      "rowLimit": 10000
     },
     "inputWidgets": {},
     "nuid": "394e79c1-131a-4133-bc81-02d4f4b6e24d",
     "showTitle": false,
     "tableResultSettingsMap": {},
     "title": ""
    }
   },
   "source": [
    "# Camada Silver – Limpeza e Transformações\n",
    "## 1. Funções de Limpeza e Utilitárias"
   ]
  },
  {
   "cell_type": "code",
   "execution_count": 0,
   "metadata": {
    "application/vnd.databricks.v1+cell": {
     "cellMetadata": {
      "byteLimit": 2048000,
      "rowLimit": 10000
     },
     "inputWidgets": {},
     "nuid": "b7424b20-ec23-40aa-bffd-591fe0f341de",
     "showTitle": false,
     "tableResultSettingsMap": {},
     "title": ""
    }
   },
   "outputs": [],
   "source": [
    "from pyspark.sql.functions import col, trim, regexp_replace, split, expr\n",
    "\n",
    "# Função para limpar o nome das colunas: remove espaços e caracteres especiais.\n",
    "def clean_column_name(col_name):\n",
    "    new_name = col_name.strip().replace(\" \", \"_\")\n",
    "    for char in [\"(\", \")\", \";\", \",\", \"{\", \"}\", \"=\", \"\\n\", \"\\t\"]:\n",
    "        new_name = new_name.replace(char, \"\")\n",
    "    return new_name\n",
    "\n",
    "# Função para aplicar a limpeza dos nomes das colunas e remoção de espaços extras em colunas string.\n",
    "def apply_cleaning(df):\n",
    "    # Renomeia as colunas utilizando a função de limpeza\n",
    "    for col_name in df.columns:\n",
    "        df = df.withColumnRenamed(col_name, clean_column_name(col_name))\n",
    "    # Aplica trim nas colunas do tipo string\n",
    "    for c, dtype in df.dtypes:\n",
    "        if dtype == \"string\":\n",
    "            df = df.withColumn(c, trim(df[c]))\n",
    "    return df\n",
    "\n",
    "# Função para converter valores delimitados por \"|\" em arrays utilizando \";\".\n",
    "def convert_pipe_to_array(df, col_name):\n",
    "    # Substitui \"|\" por \";\" no conteúdo da coluna\n",
    "    df = df.withColumn(col_name, regexp_replace(col(col_name), \"\\\\|\", \";\"))\n",
    "    # Cria uma nova coluna com o array; o sufixo \"_array\" é adicionado à coluna original.\n",
    "    new_col = col_name + \"_array\"\n",
    "    df = df.withColumn(new_col, split(col(col_name), \";\"))\n",
    "    # Aplica trim em cada elemento do array\n",
    "    df = df.withColumn(new_col, expr(\"transform(\" + new_col + \", x -> trim(x))\"))\n",
    "    return df"
   ]
  },
  {
   "cell_type": "markdown",
   "metadata": {
    "application/vnd.databricks.v1+cell": {
     "cellMetadata": {
      "byteLimit": 2048000,
      "rowLimit": 10000
     },
     "inputWidgets": {},
     "nuid": "928baed8-e9ed-499e-a536-37250648c4c4",
     "showTitle": false,
     "tableResultSettingsMap": {},
     "title": ""
    }
   },
   "source": [
    "## 2. Transformação da Tabela Fato"
   ]
  },
  {
   "cell_type": "code",
   "execution_count": 0,
   "metadata": {
    "application/vnd.databricks.v1+cell": {
     "cellMetadata": {
      "byteLimit": 2048000,
      "rowLimit": 10000
     },
     "inputWidgets": {},
     "nuid": "b19a53ab-504e-487f-aa68-0551b1063dfb",
     "showTitle": false,
     "tableResultSettingsMap": {},
     "title": ""
    }
   },
   "outputs": [
    {
     "output_type": "display_data",
     "data": {
      "text/html": [
       "<style scoped>\n",
       "  .table-result-container {\n",
       "    max-height: 300px;\n",
       "    overflow: auto;\n",
       "  }\n",
       "  table, th, td {\n",
       "    border: 1px solid black;\n",
       "    border-collapse: collapse;\n",
       "  }\n",
       "  th, td {\n",
       "    padding: 5px;\n",
       "  }\n",
       "  th {\n",
       "    text-align: left;\n",
       "  }\n",
       "</style><div class='table-result-container'><table class='table-result'><thead style='background-color: white'><tr><th>N</th><th>eid</th><th>doi</th><th>pii</th><th>pubmed_id</th><th>title</th><th>subtype</th><th>subtypeDescription</th><th>creator</th><th>coverDate</th><th>Year_Cleaned</th><th>coverDisplayDate</th><th>publicationName</th><th>issn</th><th>source_id</th><th>eIssn</th><th>aggregationType</th><th>volume</th><th>issueIdentifier</th><th>article_number</th><th>pageRange</th><th>description</th><th>authkeywords</th><th>citedby_count</th><th>openaccess</th><th>freetoread</th><th>freetoreadLabel</th><th>Subject_Area</th></tr></thead><tbody><tr><td>541980</td><td>2-s2.0-10244279316</td><td>10.1016/j.cimid.2004.07.001</td><td>S0147957104000451</td><td>15563953.0</td><td>Molecular epidemiology of virulent Rhodococcus equi from foals in Brazil: Virulence plasmids of 85-kb type I, 87-kb type I, and a new variant, 87-kb type III</td><td>ar</td><td>Article</td><td>Garcia Ribeiro M.</td><td>null</td><td>2005</td><td>January 2005</td><td>Comparative Immunology, Microbiology and Infectious Diseases</td><td>1479571</td><td>19660.0</td><td>null</td><td>Journal</td><td>28</td><td>1</td><td>null</td><td>53-61</td><td>We investigated the prevalence of virulent Rhodococcus equi in clinical isolates from 41 foals (19 sporadic and seven endemic cases) in Brazil between 1991 and 2003. Of the 41 virulent isolates, six contained an 85-kb type I plasmid, 33 contained an 87-kb type I plasmid, both of which have been found in isolates from the Americas, and the remaining two contained a new variant, which did not display the EcoRI, EcoT22I and BamHI digestion patterns of the 11 representative plasmids already reported (85-kb types I-IV; 87-kb types I and II; 90-kb types I-V). We tentatively designated the new variant as the '87-kb type III' plasmid, because its BamHI digestion pattern is similar to that of the 87-kb type I plasmid. This is the first report of the molecular epidemiology surveillance of virulent R. equi in clinical isolates from Brazilian foals. © 2004 Elsevier Ltd. All rights reserved.</td><td>Brazil|Horse|Plasmid|Rhodococcus equi|Virulence</td><td>40</td><td>0</td><td>null</td><td>null</td><td>immu|medi|vete</td></tr><tr><td>541974</td><td>2-s2.0-10444262612</td><td>10.1016/j.clim.2004.09.005</td><td>S1521661604002918</td><td>15596413.0</td><td>The role of interleukin-10 in the differential expression of interleukin-12p70 and its β2 receptor on patients with active or treated paracoccidioidomycosis and healthy infected subjects</td><td>ar</td><td>Article</td><td>Romano C.C.</td><td>null</td><td>2005</td><td>January 2005</td><td>Clinical Immunology</td><td>15216616</td><td>20740.0</td><td>null</td><td>Journal</td><td>114</td><td>1</td><td>null</td><td>86-94</td><td>Paracoccidioidomycosis patients present an antigen-specific Th1 immunosuppression. To better understand this phenomenon, we evaluated the interleukin (IL)-12 pathway by measuring IL-12p70 production and CD3 + T cell expression of the IL-12 receptor (IL-12R)β1/β2 chains, induced with the main fungus antigen (gp43) and a control antigen, from Candida albicans (CMA). We showed that gp43-induced IL-12p70 production and IL-12Rβ2 expression were significantly decreased in acute and chronic patients as compared to healthy subjects cured from PCM or healthy infected subjects from endemic areas. Interestingly, the healthy infected subjects had higher gp43-induced IL-12p70 production and β2 expression than the cured subjects. The addition of a neutralizing anti-IL-10 antibody to the cultures increased IL-12p70 levels and β2 expression in acute and chronic patients to levels observed in cured subjects. Conversely, addition of the cytokine IL-10 strongly inhibited both parameters in the latter group. In conclusion, we have shown that paracoccidioidomycosis-related Th1 immunosuppression is associated with down-modulation of the IL-12 pathway, that IL-10 may participate in this process, and that patients cured from paracoccidioidomycosis may not fully recover their immune responsiveness. © 2004 Elsevier Inc. All rights reserved.</td><td>IL-12Rβ2 chain|Immunosuppression|Interleukin-10|Interleukin-12|Interleukin-12 receptor|Paracoccidioidomycosis</td><td>29</td><td>0</td><td>null</td><td>null</td><td>immu|medi</td></tr><tr><td>541961</td><td>2-s2.0-11144234375</td><td>10.1016/j.surneu.2004.09.014</td><td>S0090301904006871</td><td>15629343.0</td><td>A new device with pressure regulation for microsurgical suction: Technical note</td><td>ar</td><td>Article</td><td>Gusmão S.</td><td>null</td><td>2005</td><td>January 2005</td><td>Surgical Neurology</td><td>903019</td><td>19199.0</td><td>null</td><td>Journal</td><td>63</td><td>SUPPL. 1</td><td>null</td><td>null</td><td>A new suction tube that allows precise control of suction pressure during microsurgical procedures is described. The new device consists of a suction tube that has a series of small holes on its proximal end. These holes can be progressively opened or closed by a laterally placed sliding bar. The surgeon can readily adjust the suction pressure by slightly moving his thumb up and down with accordance to his convenience during the operation. This creates an easy and prompt way to regulate suction pressure, thus removing the need of suction adjustment by the assistant or the scrub nurse. This new device provides an easy, precise, and quick suction regulation during the different stages of the microsurgical procedure. When the holes are totally closed, a maximum suction pressure is achieved, and when the holes are fully opened the suction pressure can be brought to zero. This device is very simple and ergonomic and allows an adjustable suction pressure mechanism that is regulated by the surgeon. By smoothly using the thumb to move the sliding bar up and down, the suction pressure may vary within the range of a maximum to zero almost instantaneously providing the appropriate suction pressure at any surgical time. © 2005 Elsevier Inc. All rights reserved.</td><td>Instrumentation|Microsucker|Microsurgery|Suction tube</td><td>3</td><td>0</td><td>null</td><td>null</td><td>medi</td></tr><tr><td>541947</td><td>2-s2.0-11144305904</td><td>10.1016/j.joms.2004.04.025</td><td>S0278239104012686</td><td>15635552.0</td><td>Botulinum toxin type A in the management of masseter muscle hypertrophy</td><td>ar</td><td>Article</td><td>Castro W.H.</td><td>null</td><td>2005</td><td>January 2005</td><td>Journal of Oral and Maxillofacial Surgery</td><td>2782391</td><td>26152.0</td><td>null</td><td>Journal</td><td>63</td><td>1</td><td>null</td><td>20-24</td><td>We sought to evaluate the response of 6 patients with masseter muscle hypertrophy to botulinum toxin type A therapy. Six patients with unilateral or bilateral masseter muscle hypertrophy received intramuscular injection of the botulinum toxin type A. The functional and cosmetic results were evaluated as well as recurrence. In all patients, satisfactory regression of the masseter muscle hypertrophy occurred and mild muscular pain was relieved. Recurrence was observed in 2 cases. The use of botulinum toxin type A in masseter muscle hypertrophy therapy was shown to be a successful and safe treatment method. This procedure to control parafunctional activities involving the masticatory muscles of patients appears to be useful. © 2005 American Association of Oral and Maxillofacial Surgeons.</td><td>null</td><td>42</td><td>0</td><td>null</td><td>null</td><td>dent|medi</td></tr><tr><td>538019</td><td>2-s2.0-11244306322</td><td>10.1016/j.jhin.2004.06.033</td><td>S0195670104002981</td><td>15620452.0</td><td>High frequency of Candida parapsilosis on the hands of healthy hosts</td><td>ar</td><td>Article</td><td>Bonassoli L.</td><td>null</td><td>2005</td><td>February 2005</td><td>Journal of Hospital Infection</td><td>1956701</td><td>22427.0</td><td>null</td><td>Journal</td><td>59</td><td>2</td><td>null</td><td>159-162</td><td>The presence of yeasts on the hands of 86 healthy hosts (62 hospital workers and 24 healthy members of the community with no hospital exposure) was investigated. A high rate of colonization was found (59.3%). Candida parapsilosis was the most frequently isolated species (51%), independent of the origin of the samples. The potential virulence and resistance to antifungals of the 26 C. parapsilosis isolates were determined. All were proteinase producers and formed biofilms. The haemolytic activity was variable, with a predominance of total haemolysis of sheep erythrocytes. All isolates were susceptible to amphotericin B but two showed reduced susceptibility to fluconazole. Healthy people may be colonized by a species of yeast with a high capacity for adhesion to plastic surfaces, providing an infection risk to susceptible individuals. © 2004 The Hospital Infection Society. Published by Elsevier Ltd. All rights reserved.</td><td>Candida parapsilosis|Hand carriage|Nosocomial infections|Susceptibility|Virulence</td><td>102</td><td>0</td><td>null</td><td>null</td><td>medi</td></tr></tbody></table></div>"
      ]
     },
     "metadata": {
      "application/vnd.databricks.v1+output": {
       "addedWidgets": {},
       "aggData": [],
       "aggError": "",
       "aggOverflow": false,
       "aggSchema": [],
       "aggSeriesLimitReached": false,
       "aggType": "",
       "arguments": {},
       "columnCustomDisplayInfos": {},
       "data": [
        [
         "541980",
         "2-s2.0-10244279316",
         "10.1016/j.cimid.2004.07.001",
         "S0147957104000451",
         "15563953.0",
         "Molecular epidemiology of virulent Rhodococcus equi from foals in Brazil: Virulence plasmids of 85-kb type I, 87-kb type I, and a new variant, 87-kb type III",
         "ar",
         "Article",
         "Garcia Ribeiro M.",
         null,
         2005,
         "January 2005",
         "Comparative Immunology, Microbiology and Infectious Diseases",
         "1479571",
         "19660.0",
         null,
         "Journal",
         "28",
         "1",
         null,
         "53-61",
         "We investigated the prevalence of virulent Rhodococcus equi in clinical isolates from 41 foals (19 sporadic and seven endemic cases) in Brazil between 1991 and 2003. Of the 41 virulent isolates, six contained an 85-kb type I plasmid, 33 contained an 87-kb type I plasmid, both of which have been found in isolates from the Americas, and the remaining two contained a new variant, which did not display the EcoRI, EcoT22I and BamHI digestion patterns of the 11 representative plasmids already reported (85-kb types I-IV; 87-kb types I and II; 90-kb types I-V). We tentatively designated the new variant as the '87-kb type III' plasmid, because its BamHI digestion pattern is similar to that of the 87-kb type I plasmid. This is the first report of the molecular epidemiology surveillance of virulent R. equi in clinical isolates from Brazilian foals. © 2004 Elsevier Ltd. All rights reserved.",
         "Brazil|Horse|Plasmid|Rhodococcus equi|Virulence",
         40,
         "0",
         null,
         null,
         "immu|medi|vete"
        ],
        [
         "541974",
         "2-s2.0-10444262612",
         "10.1016/j.clim.2004.09.005",
         "S1521661604002918",
         "15596413.0",
         "The role of interleukin-10 in the differential expression of interleukin-12p70 and its β2 receptor on patients with active or treated paracoccidioidomycosis and healthy infected subjects",
         "ar",
         "Article",
         "Romano C.C.",
         null,
         2005,
         "January 2005",
         "Clinical Immunology",
         "15216616",
         "20740.0",
         null,
         "Journal",
         "114",
         "1",
         null,
         "86-94",
         "Paracoccidioidomycosis patients present an antigen-specific Th1 immunosuppression. To better understand this phenomenon, we evaluated the interleukin (IL)-12 pathway by measuring IL-12p70 production and CD3 + T cell expression of the IL-12 receptor (IL-12R)β1/β2 chains, induced with the main fungus antigen (gp43) and a control antigen, from Candida albicans (CMA). We showed that gp43-induced IL-12p70 production and IL-12Rβ2 expression were significantly decreased in acute and chronic patients as compared to healthy subjects cured from PCM or healthy infected subjects from endemic areas. Interestingly, the healthy infected subjects had higher gp43-induced IL-12p70 production and β2 expression than the cured subjects. The addition of a neutralizing anti-IL-10 antibody to the cultures increased IL-12p70 levels and β2 expression in acute and chronic patients to levels observed in cured subjects. Conversely, addition of the cytokine IL-10 strongly inhibited both parameters in the latter group. In conclusion, we have shown that paracoccidioidomycosis-related Th1 immunosuppression is associated with down-modulation of the IL-12 pathway, that IL-10 may participate in this process, and that patients cured from paracoccidioidomycosis may not fully recover their immune responsiveness. © 2004 Elsevier Inc. All rights reserved.",
         "IL-12Rβ2 chain|Immunosuppression|Interleukin-10|Interleukin-12|Interleukin-12 receptor|Paracoccidioidomycosis",
         29,
         "0",
         null,
         null,
         "immu|medi"
        ],
        [
         "541961",
         "2-s2.0-11144234375",
         "10.1016/j.surneu.2004.09.014",
         "S0090301904006871",
         "15629343.0",
         "A new device with pressure regulation for microsurgical suction: Technical note",
         "ar",
         "Article",
         "Gusmão S.",
         null,
         2005,
         "January 2005",
         "Surgical Neurology",
         "903019",
         "19199.0",
         null,
         "Journal",
         "63",
         "SUPPL. 1",
         null,
         null,
         "A new suction tube that allows precise control of suction pressure during microsurgical procedures is described. The new device consists of a suction tube that has a series of small holes on its proximal end. These holes can be progressively opened or closed by a laterally placed sliding bar. The surgeon can readily adjust the suction pressure by slightly moving his thumb up and down with accordance to his convenience during the operation. This creates an easy and prompt way to regulate suction pressure, thus removing the need of suction adjustment by the assistant or the scrub nurse. This new device provides an easy, precise, and quick suction regulation during the different stages of the microsurgical procedure. When the holes are totally closed, a maximum suction pressure is achieved, and when the holes are fully opened the suction pressure can be brought to zero. This device is very simple and ergonomic and allows an adjustable suction pressure mechanism that is regulated by the surgeon. By smoothly using the thumb to move the sliding bar up and down, the suction pressure may vary within the range of a maximum to zero almost instantaneously providing the appropriate suction pressure at any surgical time. © 2005 Elsevier Inc. All rights reserved.",
         "Instrumentation|Microsucker|Microsurgery|Suction tube",
         3,
         "0",
         null,
         null,
         "medi"
        ],
        [
         "541947",
         "2-s2.0-11144305904",
         "10.1016/j.joms.2004.04.025",
         "S0278239104012686",
         "15635552.0",
         "Botulinum toxin type A in the management of masseter muscle hypertrophy",
         "ar",
         "Article",
         "Castro W.H.",
         null,
         2005,
         "January 2005",
         "Journal of Oral and Maxillofacial Surgery",
         "2782391",
         "26152.0",
         null,
         "Journal",
         "63",
         "1",
         null,
         "20-24",
         "We sought to evaluate the response of 6 patients with masseter muscle hypertrophy to botulinum toxin type A therapy. Six patients with unilateral or bilateral masseter muscle hypertrophy received intramuscular injection of the botulinum toxin type A. The functional and cosmetic results were evaluated as well as recurrence. In all patients, satisfactory regression of the masseter muscle hypertrophy occurred and mild muscular pain was relieved. Recurrence was observed in 2 cases. The use of botulinum toxin type A in masseter muscle hypertrophy therapy was shown to be a successful and safe treatment method. This procedure to control parafunctional activities involving the masticatory muscles of patients appears to be useful. © 2005 American Association of Oral and Maxillofacial Surgeons.",
         null,
         42,
         "0",
         null,
         null,
         "dent|medi"
        ],
        [
         "538019",
         "2-s2.0-11244306322",
         "10.1016/j.jhin.2004.06.033",
         "S0195670104002981",
         "15620452.0",
         "High frequency of Candida parapsilosis on the hands of healthy hosts",
         "ar",
         "Article",
         "Bonassoli L.",
         null,
         2005,
         "February 2005",
         "Journal of Hospital Infection",
         "1956701",
         "22427.0",
         null,
         "Journal",
         "59",
         "2",
         null,
         "159-162",
         "The presence of yeasts on the hands of 86 healthy hosts (62 hospital workers and 24 healthy members of the community with no hospital exposure) was investigated. A high rate of colonization was found (59.3%). Candida parapsilosis was the most frequently isolated species (51%), independent of the origin of the samples. The potential virulence and resistance to antifungals of the 26 C. parapsilosis isolates were determined. All were proteinase producers and formed biofilms. The haemolytic activity was variable, with a predominance of total haemolysis of sheep erythrocytes. All isolates were susceptible to amphotericin B but two showed reduced susceptibility to fluconazole. Healthy people may be colonized by a species of yeast with a high capacity for adhesion to plastic surfaces, providing an infection risk to susceptible individuals. © 2004 The Hospital Infection Society. Published by Elsevier Ltd. All rights reserved.",
         "Candida parapsilosis|Hand carriage|Nosocomial infections|Susceptibility|Virulence",
         102,
         "0",
         null,
         null,
         "medi"
        ]
       ],
       "datasetInfos": [],
       "dbfsResultPath": null,
       "isJsonSchema": true,
       "metadata": {},
       "overflow": false,
       "plotOptions": {
        "customPlotOptions": {},
        "displayType": "table",
        "pivotAggregation": null,
        "pivotColumns": null,
        "xColumns": null,
        "yColumns": null
       },
       "removedWidgets": [],
       "schema": [
        {
         "metadata": "{}",
         "name": "N",
         "type": "\"string\""
        },
        {
         "metadata": "{}",
         "name": "eid",
         "type": "\"string\""
        },
        {
         "metadata": "{}",
         "name": "doi",
         "type": "\"string\""
        },
        {
         "metadata": "{}",
         "name": "pii",
         "type": "\"string\""
        },
        {
         "metadata": "{}",
         "name": "pubmed_id",
         "type": "\"string\""
        },
        {
         "metadata": "{}",
         "name": "title",
         "type": "\"string\""
        },
        {
         "metadata": "{}",
         "name": "subtype",
         "type": "\"string\""
        },
        {
         "metadata": "{}",
         "name": "subtypeDescription",
         "type": "\"string\""
        },
        {
         "metadata": "{}",
         "name": "creator",
         "type": "\"string\""
        },
        {
         "metadata": "{}",
         "name": "coverDate",
         "type": "\"date\""
        },
        {
         "metadata": "{}",
         "name": "Year_Cleaned",
         "type": "\"integer\""
        },
        {
         "metadata": "{}",
         "name": "coverDisplayDate",
         "type": "\"string\""
        },
        {
         "metadata": "{}",
         "name": "publicationName",
         "type": "\"string\""
        },
        {
         "metadata": "{}",
         "name": "issn",
         "type": "\"string\""
        },
        {
         "metadata": "{}",
         "name": "source_id",
         "type": "\"string\""
        },
        {
         "metadata": "{}",
         "name": "eIssn",
         "type": "\"string\""
        },
        {
         "metadata": "{}",
         "name": "aggregationType",
         "type": "\"string\""
        },
        {
         "metadata": "{}",
         "name": "volume",
         "type": "\"string\""
        },
        {
         "metadata": "{}",
         "name": "issueIdentifier",
         "type": "\"string\""
        },
        {
         "metadata": "{}",
         "name": "article_number",
         "type": "\"string\""
        },
        {
         "metadata": "{}",
         "name": "pageRange",
         "type": "\"string\""
        },
        {
         "metadata": "{}",
         "name": "description",
         "type": "\"string\""
        },
        {
         "metadata": "{}",
         "name": "authkeywords",
         "type": "\"string\""
        },
        {
         "metadata": "{}",
         "name": "citedby_count",
         "type": "\"integer\""
        },
        {
         "metadata": "{}",
         "name": "openaccess",
         "type": "\"string\""
        },
        {
         "metadata": "{}",
         "name": "freetoread",
         "type": "\"string\""
        },
        {
         "metadata": "{}",
         "name": "freetoreadLabel",
         "type": "\"string\""
        },
        {
         "metadata": "{}",
         "name": "Subject_Area",
         "type": "\"string\""
        }
       ],
       "type": "table"
      }
     },
     "output_type": "display_data"
    }
   ],
   "source": [
    "# Carregar a tabela RAW da camada Bronze\n",
    "silver_fato_df = spark.table(\"bronze.fato_publications_raw\")\n",
    "\n",
    "# Aplicar a limpeza: renomear colunas e remover espaços extras\n",
    "silver_fato_df = apply_cleaning(silver_fato_df)\n",
    "\n",
    "# Conversões de tipos: Converter 'Year_Cleaned' e 'citedby_count' para inteiro e 'coverDate' para data\n",
    "from pyspark.sql.functions import to_date\n",
    "silver_fato_df = silver_fato_df.withColumn(\"Year_Cleaned\", col(\"Year_Cleaned\").cast(\"integer\")) \\\n",
    "                                 .withColumn(\"citedby_count\", col(\"citedby_count\").cast(\"integer\")) \\\n",
    "                                 .withColumn(\"coverDate\", to_date(col(\"coverDate\"), \"yyyy-MM-dd\"))\n",
    "\n",
    "# Eliminar duplicatas com base na coluna 'eid'\n",
    "silver_fato_df = silver_fato_df.dropDuplicates([\"eid\"])\n",
    "\n",
    "# Tratar valores nulos: preencher nulos em 'citedby_count' com 0\n",
    "silver_fato_df = silver_fato_df.fillna({\"citedby_count\": 0})\n",
    "\n",
    "# Se houver colunas que possam conter múltiplos valores (pipe), converta-as para array.\n",
    "# Ajuste a lista de colunas conforme a estrutura dos seus dados.\n",
    "for field in [\"author_names\", \"author_ids\", \"author_afids\", \"subject_area\"]:\n",
    "    if field in silver_fato_df.columns:\n",
    "        silver_fato_df = convert_pipe_to_array(silver_fato_df, field)\n",
    "\n",
    "# Exibir visualização de teste (limitada a 5 linhas)\n",
    "display(silver_fato_df.limit(5))\n",
    "\n",
    "# Armazenar a tabela transformada na camada Silver\n",
    "silver_fato_df.write.format(\"delta\").mode(\"overwrite\").saveAsTable(\"silver.fato_publications\")\n"
   ]
  },
  {
   "cell_type": "markdown",
   "metadata": {
    "application/vnd.databricks.v1+cell": {
     "cellMetadata": {
      "byteLimit": 2048000,
      "rowLimit": 10000
     },
     "inputWidgets": {},
     "nuid": "c4f40db6-64be-4abb-aa65-e66ea50d5e89",
     "showTitle": false,
     "tableResultSettingsMap": {},
     "title": ""
    }
   },
   "source": [
    "## 3. Transformação da Tabela de Financiamento (dim_fund)"
   ]
  },
  {
   "cell_type": "code",
   "execution_count": 0,
   "metadata": {
    "application/vnd.databricks.v1+cell": {
     "cellMetadata": {
      "byteLimit": 2048000,
      "rowLimit": 10000
     },
     "inputWidgets": {},
     "nuid": "9a0c556d-917a-4c2a-9f3d-3aa3171f6b3b",
     "showTitle": false,
     "tableResultSettingsMap": {},
     "title": ""
    }
   },
   "outputs": [
    {
     "output_type": "display_data",
     "data": {
      "text/html": [
       "<style scoped>\n",
       "  .table-result-container {\n",
       "    max-height: 300px;\n",
       "    overflow: auto;\n",
       "  }\n",
       "  table, th, td {\n",
       "    border: 1px solid black;\n",
       "    border-collapse: collapse;\n",
       "  }\n",
       "  th, td {\n",
       "    padding: 5px;\n",
       "  }\n",
       "  th {\n",
       "    text-align: left;\n",
       "  }\n",
       "</style><div class='table-result-container'><table class='table-result'><thead style='background-color: white'><tr><th>N</th><th>eid</th><th>fund_acr</th><th>fund_no</th><th>fund_sponsor</th><th>Subject_Area</th><th>Subject_Area_array</th></tr></thead><tbody><tr><td>100014</td><td>2-s2.0-85112227970</td><td>CAPES</td><td>304687/2020-0</td><td>Coordenação de Aperfeiçoamento de Pessoal de Nível Superior</td><td>agri;immu;medi;vete</td><td>List(agri, immu, medi, vete)</td></tr><tr><td>100021</td><td>2-s2.0-85111853348</td><td>FAPERGS</td><td>undefined</td><td>Fundação de Amparo à Pesquisa do Estado do Rio Grande do Sul</td><td>agri;immu;medi;vete</td><td>List(agri, immu, medi, vete)</td></tr><tr><td>100070</td><td>2-s2.0-85109001875</td><td>FAPESP</td><td>2018/01890-3</td><td>Fundação de Amparo à Pesquisa do Estado de São Paulo</td><td>agri;bioc;immu;medi</td><td>List(agri, bioc, immu, medi)</td></tr><tr><td>100090</td><td>2-s2.0-85108259615</td><td>CAPES</td><td>304815/2017-9</td><td>Coordenação de Aperfeiçoamento de Pessoal de Nível Superior</td><td>agri;immu;medi;vete</td><td>List(agri, immu, medi, vete)</td></tr><tr><td>100102</td><td>2-s2.0-85107782653</td><td>null</td><td>undefined</td><td>null</td><td>agri;immu;medi</td><td>List(agri, immu, medi)</td></tr></tbody></table></div>"
      ]
     },
     "metadata": {
      "application/vnd.databricks.v1+output": {
       "addedWidgets": {},
       "aggData": [],
       "aggError": "",
       "aggOverflow": false,
       "aggSchema": [],
       "aggSeriesLimitReached": false,
       "aggType": "",
       "arguments": {},
       "columnCustomDisplayInfos": {},
       "data": [
        [
         "100014",
         "2-s2.0-85112227970",
         "CAPES",
         "304687/2020-0",
         "Coordenação de Aperfeiçoamento de Pessoal de Nível Superior",
         "agri;immu;medi;vete",
         [
          "agri",
          "immu",
          "medi",
          "vete"
         ]
        ],
        [
         "100021",
         "2-s2.0-85111853348",
         "FAPERGS",
         "undefined",
         "Fundação de Amparo à Pesquisa do Estado do Rio Grande do Sul",
         "agri;immu;medi;vete",
         [
          "agri",
          "immu",
          "medi",
          "vete"
         ]
        ],
        [
         "100070",
         "2-s2.0-85109001875",
         "FAPESP",
         "2018/01890-3",
         "Fundação de Amparo à Pesquisa do Estado de São Paulo",
         "agri;bioc;immu;medi",
         [
          "agri",
          "bioc",
          "immu",
          "medi"
         ]
        ],
        [
         "100090",
         "2-s2.0-85108259615",
         "CAPES",
         "304815/2017-9",
         "Coordenação de Aperfeiçoamento de Pessoal de Nível Superior",
         "agri;immu;medi;vete",
         [
          "agri",
          "immu",
          "medi",
          "vete"
         ]
        ],
        [
         "100102",
         "2-s2.0-85107782653",
         null,
         "undefined",
         null,
         "agri;immu;medi",
         [
          "agri",
          "immu",
          "medi"
         ]
        ]
       ],
       "datasetInfos": [],
       "dbfsResultPath": null,
       "isJsonSchema": true,
       "metadata": {},
       "overflow": false,
       "plotOptions": {
        "customPlotOptions": {},
        "displayType": "table",
        "pivotAggregation": null,
        "pivotColumns": null,
        "xColumns": null,
        "yColumns": null
       },
       "removedWidgets": [],
       "schema": [
        {
         "metadata": "{}",
         "name": "N",
         "type": "\"string\""
        },
        {
         "metadata": "{}",
         "name": "eid",
         "type": "\"string\""
        },
        {
         "metadata": "{}",
         "name": "fund_acr",
         "type": "\"string\""
        },
        {
         "metadata": "{}",
         "name": "fund_no",
         "type": "\"string\""
        },
        {
         "metadata": "{}",
         "name": "fund_sponsor",
         "type": "\"string\""
        },
        {
         "metadata": "{}",
         "name": "Subject_Area",
         "type": "\"string\""
        },
        {
         "metadata": "{}",
         "name": "Subject_Area_array",
         "type": "{\"type\":\"array\",\"elementType\":\"string\",\"containsNull\":false}"
        }
       ],
       "type": "table"
      }
     },
     "output_type": "display_data"
    }
   ],
   "source": [
    "# Carregar a tabela RAW da camada Bronze para dim_fund\n",
    "silver_dim_fund_df = spark.table(\"bronze.dim_fund_raw\")\n",
    "\n",
    "# Aplicar a limpeza dos nomes das colunas e remoção de espaços extras\n",
    "silver_dim_fund_df = apply_cleaning(silver_dim_fund_df)\n",
    "\n",
    "# Eliminar duplicatas com base na chave primária (supondo que 'N' seja a chave)\n",
    "silver_dim_fund_df = silver_dim_fund_df.dropDuplicates([\"N\"])\n",
    "\n",
    "# Se a coluna Subject_Area (ou outra que possua valores múltiplos) existir, converte os valores separados por \"|\" para array\n",
    "if \"Subject_Area\" in silver_dim_fund_df.columns:\n",
    "    silver_dim_fund_df = convert_pipe_to_array(silver_dim_fund_df, \"Subject_Area\")\n",
    "\n",
    "# Exibir visualização de teste (limitada a 5 linhas)\n",
    "display(silver_dim_fund_df.limit(5))\n",
    "\n",
    "# Armazenar a tabela transformada na camada Silver, sobrescrevendo o schema existente\n",
    "silver_dim_fund_df.write.format(\"delta\") \\\n",
    "    .option(\"overwriteSchema\", \"true\") \\\n",
    "    .mode(\"overwrite\") \\\n",
    "    .saveAsTable(\"silver.dim_fund\")\n"
   ]
  },
  {
   "cell_type": "markdown",
   "metadata": {
    "application/vnd.databricks.v1+cell": {
     "cellMetadata": {
      "byteLimit": 2048000,
      "rowLimit": 10000
     },
     "inputWidgets": {},
     "nuid": "56c2cbf8-0de6-4556-891f-64bc52f095fd",
     "showTitle": false,
     "tableResultSettingsMap": {},
     "title": ""
    }
   },
   "source": [
    "## 4. Transformação da Tabela de Autor/Afiliação (dim_author_affil)"
   ]
  },
  {
   "cell_type": "code",
   "execution_count": 0,
   "metadata": {
    "application/vnd.databricks.v1+cell": {
     "cellMetadata": {
      "byteLimit": 2048000,
      "rowLimit": 10000
     },
     "inputWidgets": {},
     "nuid": "ca87d96b-cc27-4f4e-bdf1-00ff65aa0ff3",
     "showTitle": false,
     "tableResultSettingsMap": {},
     "title": ""
    }
   },
   "outputs": [
    {
     "output_type": "display_data",
     "data": {
      "text/html": [
       "<style scoped>\n",
       "  .table-result-container {\n",
       "    max-height: 300px;\n",
       "    overflow: auto;\n",
       "  }\n",
       "  table, th, td {\n",
       "    border: 1px solid black;\n",
       "    border-collapse: collapse;\n",
       "  }\n",
       "  th, td {\n",
       "    padding: 5px;\n",
       "  }\n",
       "  th {\n",
       "    text-align: left;\n",
       "  }\n",
       "</style><div class='table-result-container'><table class='table-result'><thead style='background-color: white'><tr><th>N</th><th>eid</th><th>doi_dim</th><th>afid</th><th>affilname</th><th>affiliation_city</th><th>affiliation_country</th><th>affiliation_country_Cleaned</th><th>author_count</th><th>author_names</th><th>author_ids</th><th>author_afids</th><th>author_names_array</th><th>author_ids_array</th><th>author_afids_array</th><th>affiliation_country_array</th></tr></thead><tbody><tr><td>541980</td><td>2-s2.0-10244279316</td><td>10.1016/j.cimid.2004.07.001</td><td>60006028|60006321</td><td>\"Kitasato University|Universidade Estadual Paulista \"\"Júlio de Mesquita Filho\"\"\"</td><td>Sao Paulo|Tokyo</td><td>Brazil;Japan</td><td>Brazil|Japan</td><td>7.0</td><td>Garcia Ribeiro, Márcio;Kakuda, Tsutomu;Sasaki, Yukako;Seki, Izumi;Takai, Shinji;Tsubaki, Shiro;Yasuoka, Kaori</td><td>26654533000;7004836994;7006153474;7006382693;7201470915;7201715099;7404559659</td><td>60006028;60006321</td><td>List(Garcia Ribeiro, Márcio, Kakuda, Tsutomu, Sasaki, Yukako, Seki, Izumi, Takai, Shinji, Tsubaki, Shiro, Yasuoka, Kaori)</td><td>List(26654533000, 7004836994, 7006153474, 7006382693, 7201470915, 7201715099, 7404559659)</td><td>List(60006028, 60006321)</td><td>List(Brazil, Japan)</td></tr><tr><td>541974</td><td>2-s2.0-10444262612</td><td>10.1016/j.clim.2004.09.005</td><td>112897382|60006028|60008088</td><td>\"Lab. Alergia Imunologia Clin. e Exp.|Universidade de São Paulo|Universidade Estadual Paulista \"\"Júlio de Mesquita Filho\"\"\"</td><td>Sao Paulo</td><td>Brazil</td><td>Brazil</td><td>4.0</td><td>Benard, Gil;Duarte, Alberto J.S.;Mendes-Giannini, Maria J.S.;Romano, Carla C.</td><td>35612107700;7004159426;7102601934;8926873300</td><td>60006028;60008088;60008088-112897382</td><td>List(Benard, Gil, Duarte, Alberto J.S., Mendes-Giannini, Maria J.S., Romano, Carla C.)</td><td>List(35612107700, 7004159426, 7102601934, 8926873300)</td><td>List(60006028, 60008088, 60008088-112897382)</td><td>List(Brazil)</td></tr><tr><td>541961</td><td>2-s2.0-11144234375</td><td>10.1016/j.surneu.2004.09.014</td><td>101644228|101711688|60008088</td><td>Luxemburgo Hospital|Rua Padre Rolim|Universidade de São Paulo</td><td>Belo Horizonte|Sao Paulo</td><td>Brazil</td><td>Brazil</td><td>1.0</td><td>Gusmão, Sebastião</td><td>7006618472</td><td>60008088-101644228-101711688</td><td>List(Gusmão, Sebastião)</td><td>List(7006618472)</td><td>List(60008088-101644228-101711688)</td><td>List(Brazil)</td></tr><tr><td>541947</td><td>2-s2.0-11144305904</td><td>10.1016/j.joms.2004.04.025</td><td>101968616|112782662|60070740</td><td>Faculdade Odontol. Da Univ. Fed. M|Hospital Madre Teresa|MG</td><td>Belo Horizonte</td><td>Brazil</td><td>Brazil</td><td>5.0</td><td>Castro, Wagner Henriques;Da Silva Oliveira, Jacqueline;Gomez, Ricardo Santiago;Gomez, Rodrigo Santiago;Moura, Mariela Dutra Gontijo</td><td>16552117500;35749570800;57225739591;7006262734;7402250311</td><td>112782662;112782662-101968616;60070740</td><td>List(Castro, Wagner Henriques, Da Silva Oliveira, Jacqueline, Gomez, Ricardo Santiago, Gomez, Rodrigo Santiago, Moura, Mariela Dutra Gontijo)</td><td>List(16552117500, 35749570800, 57225739591, 7006262734, 7402250311)</td><td>List(112782662, 112782662-101968616, 60070740)</td><td>List(Brazil)</td></tr><tr><td>538019</td><td>2-s2.0-11244306322</td><td>10.1016/j.jhin.2004.06.033</td><td>60029498</td><td>Universidade Estadual de Maringa</td><td>Maringa</td><td>Brazil</td><td>Brazil</td><td>3.0</td><td>Bertoli, M.;Bonassoli, L. A.;Svidzinski, T. I.E.</td><td>12807300400;6603306368;7801511644</td><td>60029498</td><td>List(Bertoli, M., Bonassoli, L. A., Svidzinski, T. I.E.)</td><td>List(12807300400, 6603306368, 7801511644)</td><td>List(60029498)</td><td>List(Brazil)</td></tr></tbody></table></div>"
      ]
     },
     "metadata": {
      "application/vnd.databricks.v1+output": {
       "addedWidgets": {},
       "aggData": [],
       "aggError": "",
       "aggOverflow": false,
       "aggSchema": [],
       "aggSeriesLimitReached": false,
       "aggType": "",
       "arguments": {},
       "columnCustomDisplayInfos": {},
       "data": [
        [
         "541980",
         "2-s2.0-10244279316",
         "10.1016/j.cimid.2004.07.001",
         "60006028|60006321",
         "\"Kitasato University|Universidade Estadual Paulista \"\"Júlio de Mesquita Filho\"\"\"",
         "Sao Paulo|Tokyo",
         "Brazil;Japan",
         "Brazil|Japan",
         "7.0",
         "Garcia Ribeiro, Márcio;Kakuda, Tsutomu;Sasaki, Yukako;Seki, Izumi;Takai, Shinji;Tsubaki, Shiro;Yasuoka, Kaori",
         "26654533000;7004836994;7006153474;7006382693;7201470915;7201715099;7404559659",
         "60006028;60006321",
         [
          "Garcia Ribeiro, Márcio",
          "Kakuda, Tsutomu",
          "Sasaki, Yukako",
          "Seki, Izumi",
          "Takai, Shinji",
          "Tsubaki, Shiro",
          "Yasuoka, Kaori"
         ],
         [
          "26654533000",
          "7004836994",
          "7006153474",
          "7006382693",
          "7201470915",
          "7201715099",
          "7404559659"
         ],
         [
          "60006028",
          "60006321"
         ],
         [
          "Brazil",
          "Japan"
         ]
        ],
        [
         "541974",
         "2-s2.0-10444262612",
         "10.1016/j.clim.2004.09.005",
         "112897382|60006028|60008088",
         "\"Lab. Alergia Imunologia Clin. e Exp.|Universidade de São Paulo|Universidade Estadual Paulista \"\"Júlio de Mesquita Filho\"\"\"",
         "Sao Paulo",
         "Brazil",
         "Brazil",
         "4.0",
         "Benard, Gil;Duarte, Alberto J.S.;Mendes-Giannini, Maria J.S.;Romano, Carla C.",
         "35612107700;7004159426;7102601934;8926873300",
         "60006028;60008088;60008088-112897382",
         [
          "Benard, Gil",
          "Duarte, Alberto J.S.",
          "Mendes-Giannini, Maria J.S.",
          "Romano, Carla C."
         ],
         [
          "35612107700",
          "7004159426",
          "7102601934",
          "8926873300"
         ],
         [
          "60006028",
          "60008088",
          "60008088-112897382"
         ],
         [
          "Brazil"
         ]
        ],
        [
         "541961",
         "2-s2.0-11144234375",
         "10.1016/j.surneu.2004.09.014",
         "101644228|101711688|60008088",
         "Luxemburgo Hospital|Rua Padre Rolim|Universidade de São Paulo",
         "Belo Horizonte|Sao Paulo",
         "Brazil",
         "Brazil",
         "1.0",
         "Gusmão, Sebastião",
         "7006618472",
         "60008088-101644228-101711688",
         [
          "Gusmão, Sebastião"
         ],
         [
          "7006618472"
         ],
         [
          "60008088-101644228-101711688"
         ],
         [
          "Brazil"
         ]
        ],
        [
         "541947",
         "2-s2.0-11144305904",
         "10.1016/j.joms.2004.04.025",
         "101968616|112782662|60070740",
         "Faculdade Odontol. Da Univ. Fed. M|Hospital Madre Teresa|MG",
         "Belo Horizonte",
         "Brazil",
         "Brazil",
         "5.0",
         "Castro, Wagner Henriques;Da Silva Oliveira, Jacqueline;Gomez, Ricardo Santiago;Gomez, Rodrigo Santiago;Moura, Mariela Dutra Gontijo",
         "16552117500;35749570800;57225739591;7006262734;7402250311",
         "112782662;112782662-101968616;60070740",
         [
          "Castro, Wagner Henriques",
          "Da Silva Oliveira, Jacqueline",
          "Gomez, Ricardo Santiago",
          "Gomez, Rodrigo Santiago",
          "Moura, Mariela Dutra Gontijo"
         ],
         [
          "16552117500",
          "35749570800",
          "57225739591",
          "7006262734",
          "7402250311"
         ],
         [
          "112782662",
          "112782662-101968616",
          "60070740"
         ],
         [
          "Brazil"
         ]
        ],
        [
         "538019",
         "2-s2.0-11244306322",
         "10.1016/j.jhin.2004.06.033",
         "60029498",
         "Universidade Estadual de Maringa",
         "Maringa",
         "Brazil",
         "Brazil",
         "3.0",
         "Bertoli, M.;Bonassoli, L. A.;Svidzinski, T. I.E.",
         "12807300400;6603306368;7801511644",
         "60029498",
         [
          "Bertoli, M.",
          "Bonassoli, L. A.",
          "Svidzinski, T. I.E."
         ],
         [
          "12807300400",
          "6603306368",
          "7801511644"
         ],
         [
          "60029498"
         ],
         [
          "Brazil"
         ]
        ]
       ],
       "datasetInfos": [],
       "dbfsResultPath": null,
       "isJsonSchema": true,
       "metadata": {},
       "overflow": false,
       "plotOptions": {
        "customPlotOptions": {},
        "displayType": "table",
        "pivotAggregation": null,
        "pivotColumns": null,
        "xColumns": null,
        "yColumns": null
       },
       "removedWidgets": [],
       "schema": [
        {
         "metadata": "{}",
         "name": "N",
         "type": "\"string\""
        },
        {
         "metadata": "{}",
         "name": "eid",
         "type": "\"string\""
        },
        {
         "metadata": "{}",
         "name": "doi_dim",
         "type": "\"string\""
        },
        {
         "metadata": "{}",
         "name": "afid",
         "type": "\"string\""
        },
        {
         "metadata": "{}",
         "name": "affilname",
         "type": "\"string\""
        },
        {
         "metadata": "{}",
         "name": "affiliation_city",
         "type": "\"string\""
        },
        {
         "metadata": "{}",
         "name": "affiliation_country",
         "type": "\"string\""
        },
        {
         "metadata": "{}",
         "name": "affiliation_country_Cleaned",
         "type": "\"string\""
        },
        {
         "metadata": "{}",
         "name": "author_count",
         "type": "\"string\""
        },
        {
         "metadata": "{}",
         "name": "author_names",
         "type": "\"string\""
        },
        {
         "metadata": "{}",
         "name": "author_ids",
         "type": "\"string\""
        },
        {
         "metadata": "{}",
         "name": "author_afids",
         "type": "\"string\""
        },
        {
         "metadata": "{}",
         "name": "author_names_array",
         "type": "{\"type\":\"array\",\"elementType\":\"string\",\"containsNull\":false}"
        },
        {
         "metadata": "{}",
         "name": "author_ids_array",
         "type": "{\"type\":\"array\",\"elementType\":\"string\",\"containsNull\":false}"
        },
        {
         "metadata": "{}",
         "name": "author_afids_array",
         "type": "{\"type\":\"array\",\"elementType\":\"string\",\"containsNull\":false}"
        },
        {
         "metadata": "{}",
         "name": "affiliation_country_array",
         "type": "{\"type\":\"array\",\"elementType\":\"string\",\"containsNull\":false}"
        }
       ],
       "type": "table"
      }
     },
     "output_type": "display_data"
    }
   ],
   "source": [
    "# Carregar a tabela RAW da camada Bronze para dim_author_affil\n",
    "silver_dim_auth_df = spark.table(\"bronze.dim_author_affil_raw\")\n",
    "\n",
    "# Aplicar a limpeza dos nomes das colunas e remoção de espaços extras\n",
    "silver_dim_auth_df = apply_cleaning(silver_dim_auth_df)\n",
    "\n",
    "# Eliminar duplicatas com base na chave primária (supondo que 'eid' seja a chave)\n",
    "silver_dim_auth_df = silver_dim_auth_df.dropDuplicates([\"eid\"])\n",
    "\n",
    "# Renomear a coluna 'doi' para 'doi_dim'\n",
    "silver_dim_auth_df = silver_dim_auth_df.withColumnRenamed(\"doi\", \"doi_dim\")\n",
    "\n",
    "# Converter as colunas que possuem valores múltiplos separados por pipe para arrays.\n",
    "# Ajuste a lista de colunas conforme necessário.\n",
    "for field in [\"author_names\", \"author_ids\", \"author_afids\", \"affiliation_country\"]:\n",
    "    if field in silver_dim_auth_df.columns:\n",
    "        silver_dim_auth_df = convert_pipe_to_array(silver_dim_auth_df, field)\n",
    "\n",
    "# Exibir visualização de teste (limitada a 5 linhas)\n",
    "display(silver_dim_auth_df.limit(5))\n",
    "\n",
    "# Armazenar a tabela transformada na camada Silver (habilitando a evolução do schema, se necessário)\n",
    "silver_dim_auth_df.write.format(\"delta\") \\\n",
    "    .option(\"overwriteSchema\", \"true\") \\\n",
    "    .mode(\"overwrite\") \\\n",
    "    .saveAsTable(\"silver.dim_author_affil\")\n",
    "\n",
    "\n"
   ]
  },
  {
   "cell_type": "markdown",
   "metadata": {
    "application/vnd.databricks.v1+cell": {
     "cellMetadata": {
      "byteLimit": 2048000,
      "rowLimit": 10000
     },
     "inputWidgets": {},
     "nuid": "66015cea-ad97-463d-8824-50d0b00aa6f8",
     "showTitle": false,
     "tableResultSettingsMap": {},
     "title": ""
    }
   },
   "source": [
    "# Camada Gold: Integração e Join entre as Tabelas\n"
   ]
  },
  {
   "cell_type": "code",
   "execution_count": 0,
   "metadata": {
    "application/vnd.databricks.v1+cell": {
     "cellMetadata": {
      "byteLimit": 2048000,
      "rowLimit": 10000
     },
     "inputWidgets": {},
     "nuid": "31da4a6d-37f5-4373-a28f-aa128ca632b7",
     "showTitle": false,
     "tableResultSettingsMap": {},
     "title": ""
    }
   },
   "outputs": [
    {
     "output_type": "display_data",
     "data": {
      "text/html": [
       "<style scoped>\n",
       "  .table-result-container {\n",
       "    max-height: 300px;\n",
       "    overflow: auto;\n",
       "  }\n",
       "  table, th, td {\n",
       "    border: 1px solid black;\n",
       "    border-collapse: collapse;\n",
       "  }\n",
       "  th, td {\n",
       "    padding: 5px;\n",
       "  }\n",
       "  th {\n",
       "    text-align: left;\n",
       "  }\n",
       "</style><div class='table-result-container'><table class='table-result'><thead style='background-color: white'><tr><th>N</th><th>eid</th><th>doi</th><th>pii</th><th>pubmed_id</th><th>title</th><th>subtype</th><th>subtypeDescription</th><th>creator</th><th>coverDate</th><th>Year_Cleaned</th><th>coverDisplayDate</th><th>publicationName</th><th>issn</th><th>source_id</th><th>eIssn</th><th>aggregationType</th><th>volume</th><th>issueIdentifier</th><th>article_number</th><th>pageRange</th><th>description</th><th>authkeywords</th><th>citedby_count</th><th>openaccess</th><th>freetoread</th><th>freetoreadLabel</th><th>Subject_Area</th><th>fund_acr</th><th>fund_no</th><th>fund_sponsor</th><th>doi_dim</th><th>affilname</th><th>affiliation_city</th><th>affiliation_country</th></tr></thead><tbody><tr><td>541980</td><td>2-s2.0-10244279316</td><td>10.1016/j.cimid.2004.07.001</td><td>S0147957104000451</td><td>15563953.0</td><td>Molecular epidemiology of virulent Rhodococcus equi from foals in Brazil: Virulence plasmids of 85-kb type I, 87-kb type I, and a new variant, 87-kb type III</td><td>ar</td><td>Article</td><td>Garcia Ribeiro M.</td><td>null</td><td>2005</td><td>January 2005</td><td>Comparative Immunology, Microbiology and Infectious Diseases</td><td>1479571</td><td>19660.0</td><td>null</td><td>Journal</td><td>28</td><td>1</td><td>null</td><td>53-61</td><td>We investigated the prevalence of virulent Rhodococcus equi in clinical isolates from 41 foals (19 sporadic and seven endemic cases) in Brazil between 1991 and 2003. Of the 41 virulent isolates, six contained an 85-kb type I plasmid, 33 contained an 87-kb type I plasmid, both of which have been found in isolates from the Americas, and the remaining two contained a new variant, which did not display the EcoRI, EcoT22I and BamHI digestion patterns of the 11 representative plasmids already reported (85-kb types I-IV; 87-kb types I and II; 90-kb types I-V). We tentatively designated the new variant as the '87-kb type III' plasmid, because its BamHI digestion pattern is similar to that of the 87-kb type I plasmid. This is the first report of the molecular epidemiology surveillance of virulent R. equi in clinical isolates from Brazilian foals. © 2004 Elsevier Ltd. All rights reserved.</td><td>Brazil|Horse|Plasmid|Rhodococcus equi|Virulence</td><td>40</td><td>0</td><td>null</td><td>null</td><td>immu|medi|vete</td><td>MEXT</td><td>undefined</td><td>Ministry of Education, Culture, Sports, Science and Technology</td><td>10.1016/j.cimid.2004.07.001</td><td>\"Kitasato University|Universidade Estadual Paulista \"\"Júlio de Mesquita Filho\"\"\"</td><td>Sao Paulo|Tokyo</td><td>Brazil;Japan</td></tr><tr><td>541974</td><td>2-s2.0-10444262612</td><td>10.1016/j.clim.2004.09.005</td><td>S1521661604002918</td><td>15596413.0</td><td>The role of interleukin-10 in the differential expression of interleukin-12p70 and its β2 receptor on patients with active or treated paracoccidioidomycosis and healthy infected subjects</td><td>ar</td><td>Article</td><td>Romano C.C.</td><td>null</td><td>2005</td><td>January 2005</td><td>Clinical Immunology</td><td>15216616</td><td>20740.0</td><td>null</td><td>Journal</td><td>114</td><td>1</td><td>null</td><td>86-94</td><td>Paracoccidioidomycosis patients present an antigen-specific Th1 immunosuppression. To better understand this phenomenon, we evaluated the interleukin (IL)-12 pathway by measuring IL-12p70 production and CD3 + T cell expression of the IL-12 receptor (IL-12R)β1/β2 chains, induced with the main fungus antigen (gp43) and a control antigen, from Candida albicans (CMA). We showed that gp43-induced IL-12p70 production and IL-12Rβ2 expression were significantly decreased in acute and chronic patients as compared to healthy subjects cured from PCM or healthy infected subjects from endemic areas. Interestingly, the healthy infected subjects had higher gp43-induced IL-12p70 production and β2 expression than the cured subjects. The addition of a neutralizing anti-IL-10 antibody to the cultures increased IL-12p70 levels and β2 expression in acute and chronic patients to levels observed in cured subjects. Conversely, addition of the cytokine IL-10 strongly inhibited both parameters in the latter group. In conclusion, we have shown that paracoccidioidomycosis-related Th1 immunosuppression is associated with down-modulation of the IL-12 pathway, that IL-10 may participate in this process, and that patients cured from paracoccidioidomycosis may not fully recover their immune responsiveness. © 2004 Elsevier Inc. All rights reserved.</td><td>IL-12Rβ2 chain|Immunosuppression|Interleukin-10|Interleukin-12|Interleukin-12 receptor|Paracoccidioidomycosis</td><td>29</td><td>0</td><td>null</td><td>null</td><td>immu|medi</td><td>FAPESP</td><td>01/11415-0</td><td>Fundação de Amparo à Pesquisa do Estado de São Paulo</td><td>10.1016/j.clim.2004.09.005</td><td>\"Lab. Alergia Imunologia Clin. e Exp.|Universidade de São Paulo|Universidade Estadual Paulista \"\"Júlio de Mesquita Filho\"\"\"</td><td>Sao Paulo</td><td>Brazil</td></tr><tr><td>541961</td><td>2-s2.0-11144234375</td><td>10.1016/j.surneu.2004.09.014</td><td>S0090301904006871</td><td>15629343.0</td><td>A new device with pressure regulation for microsurgical suction: Technical note</td><td>ar</td><td>Article</td><td>Gusmão S.</td><td>null</td><td>2005</td><td>January 2005</td><td>Surgical Neurology</td><td>903019</td><td>19199.0</td><td>null</td><td>Journal</td><td>63</td><td>SUPPL. 1</td><td>null</td><td>null</td><td>A new suction tube that allows precise control of suction pressure during microsurgical procedures is described. The new device consists of a suction tube that has a series of small holes on its proximal end. These holes can be progressively opened or closed by a laterally placed sliding bar. The surgeon can readily adjust the suction pressure by slightly moving his thumb up and down with accordance to his convenience during the operation. This creates an easy and prompt way to regulate suction pressure, thus removing the need of suction adjustment by the assistant or the scrub nurse. This new device provides an easy, precise, and quick suction regulation during the different stages of the microsurgical procedure. When the holes are totally closed, a maximum suction pressure is achieved, and when the holes are fully opened the suction pressure can be brought to zero. This device is very simple and ergonomic and allows an adjustable suction pressure mechanism that is regulated by the surgeon. By smoothly using the thumb to move the sliding bar up and down, the suction pressure may vary within the range of a maximum to zero almost instantaneously providing the appropriate suction pressure at any surgical time. © 2005 Elsevier Inc. All rights reserved.</td><td>Instrumentation|Microsucker|Microsurgery|Suction tube</td><td>3</td><td>0</td><td>null</td><td>null</td><td>medi</td><td>null</td><td>undefined</td><td>null</td><td>10.1016/j.surneu.2004.09.014</td><td>Luxemburgo Hospital|Rua Padre Rolim|Universidade de São Paulo</td><td>Belo Horizonte|Sao Paulo</td><td>Brazil</td></tr><tr><td>541947</td><td>2-s2.0-11144305904</td><td>10.1016/j.joms.2004.04.025</td><td>S0278239104012686</td><td>15635552.0</td><td>Botulinum toxin type A in the management of masseter muscle hypertrophy</td><td>ar</td><td>Article</td><td>Castro W.H.</td><td>null</td><td>2005</td><td>January 2005</td><td>Journal of Oral and Maxillofacial Surgery</td><td>2782391</td><td>26152.0</td><td>null</td><td>Journal</td><td>63</td><td>1</td><td>null</td><td>20-24</td><td>We sought to evaluate the response of 6 patients with masseter muscle hypertrophy to botulinum toxin type A therapy. Six patients with unilateral or bilateral masseter muscle hypertrophy received intramuscular injection of the botulinum toxin type A. The functional and cosmetic results were evaluated as well as recurrence. In all patients, satisfactory regression of the masseter muscle hypertrophy occurred and mild muscular pain was relieved. Recurrence was observed in 2 cases. The use of botulinum toxin type A in masseter muscle hypertrophy therapy was shown to be a successful and safe treatment method. This procedure to control parafunctional activities involving the masticatory muscles of patients appears to be useful. © 2005 American Association of Oral and Maxillofacial Surgeons.</td><td>null</td><td>42</td><td>0</td><td>null</td><td>null</td><td>dent|medi</td><td>null</td><td>undefined</td><td>null</td><td>10.1016/j.joms.2004.04.025</td><td>Faculdade Odontol. Da Univ. Fed. M|Hospital Madre Teresa|MG</td><td>Belo Horizonte</td><td>Brazil</td></tr><tr><td>538019</td><td>2-s2.0-11244306322</td><td>10.1016/j.jhin.2004.06.033</td><td>S0195670104002981</td><td>15620452.0</td><td>High frequency of Candida parapsilosis on the hands of healthy hosts</td><td>ar</td><td>Article</td><td>Bonassoli L.</td><td>null</td><td>2005</td><td>February 2005</td><td>Journal of Hospital Infection</td><td>1956701</td><td>22427.0</td><td>null</td><td>Journal</td><td>59</td><td>2</td><td>null</td><td>159-162</td><td>The presence of yeasts on the hands of 86 healthy hosts (62 hospital workers and 24 healthy members of the community with no hospital exposure) was investigated. A high rate of colonization was found (59.3%). Candida parapsilosis was the most frequently isolated species (51%), independent of the origin of the samples. The potential virulence and resistance to antifungals of the 26 C. parapsilosis isolates were determined. All were proteinase producers and formed biofilms. The haemolytic activity was variable, with a predominance of total haemolysis of sheep erythrocytes. All isolates were susceptible to amphotericin B but two showed reduced susceptibility to fluconazole. Healthy people may be colonized by a species of yeast with a high capacity for adhesion to plastic surfaces, providing an infection risk to susceptible individuals. © 2004 The Hospital Infection Society. Published by Elsevier Ltd. All rights reserved.</td><td>Candida parapsilosis|Hand carriage|Nosocomial infections|Susceptibility|Virulence</td><td>102</td><td>0</td><td>null</td><td>null</td><td>medi</td><td>null</td><td>undefined</td><td>null</td><td>10.1016/j.jhin.2004.06.033</td><td>Universidade Estadual de Maringa</td><td>Maringa</td><td>Brazil</td></tr></tbody></table></div>"
      ]
     },
     "metadata": {
      "application/vnd.databricks.v1+output": {
       "addedWidgets": {},
       "aggData": [],
       "aggError": "",
       "aggOverflow": false,
       "aggSchema": [],
       "aggSeriesLimitReached": false,
       "aggType": "",
       "arguments": {},
       "columnCustomDisplayInfos": {},
       "data": [
        [
         "541980",
         "2-s2.0-10244279316",
         "10.1016/j.cimid.2004.07.001",
         "S0147957104000451",
         "15563953.0",
         "Molecular epidemiology of virulent Rhodococcus equi from foals in Brazil: Virulence plasmids of 85-kb type I, 87-kb type I, and a new variant, 87-kb type III",
         "ar",
         "Article",
         "Garcia Ribeiro M.",
         null,
         2005,
         "January 2005",
         "Comparative Immunology, Microbiology and Infectious Diseases",
         "1479571",
         "19660.0",
         null,
         "Journal",
         "28",
         "1",
         null,
         "53-61",
         "We investigated the prevalence of virulent Rhodococcus equi in clinical isolates from 41 foals (19 sporadic and seven endemic cases) in Brazil between 1991 and 2003. Of the 41 virulent isolates, six contained an 85-kb type I plasmid, 33 contained an 87-kb type I plasmid, both of which have been found in isolates from the Americas, and the remaining two contained a new variant, which did not display the EcoRI, EcoT22I and BamHI digestion patterns of the 11 representative plasmids already reported (85-kb types I-IV; 87-kb types I and II; 90-kb types I-V). We tentatively designated the new variant as the '87-kb type III' plasmid, because its BamHI digestion pattern is similar to that of the 87-kb type I plasmid. This is the first report of the molecular epidemiology surveillance of virulent R. equi in clinical isolates from Brazilian foals. © 2004 Elsevier Ltd. All rights reserved.",
         "Brazil|Horse|Plasmid|Rhodococcus equi|Virulence",
         40,
         "0",
         null,
         null,
         "immu|medi|vete",
         "MEXT",
         "undefined",
         "Ministry of Education, Culture, Sports, Science and Technology",
         "10.1016/j.cimid.2004.07.001",
         "\"Kitasato University|Universidade Estadual Paulista \"\"Júlio de Mesquita Filho\"\"\"",
         "Sao Paulo|Tokyo",
         "Brazil;Japan"
        ],
        [
         "541974",
         "2-s2.0-10444262612",
         "10.1016/j.clim.2004.09.005",
         "S1521661604002918",
         "15596413.0",
         "The role of interleukin-10 in the differential expression of interleukin-12p70 and its β2 receptor on patients with active or treated paracoccidioidomycosis and healthy infected subjects",
         "ar",
         "Article",
         "Romano C.C.",
         null,
         2005,
         "January 2005",
         "Clinical Immunology",
         "15216616",
         "20740.0",
         null,
         "Journal",
         "114",
         "1",
         null,
         "86-94",
         "Paracoccidioidomycosis patients present an antigen-specific Th1 immunosuppression. To better understand this phenomenon, we evaluated the interleukin (IL)-12 pathway by measuring IL-12p70 production and CD3 + T cell expression of the IL-12 receptor (IL-12R)β1/β2 chains, induced with the main fungus antigen (gp43) and a control antigen, from Candida albicans (CMA). We showed that gp43-induced IL-12p70 production and IL-12Rβ2 expression were significantly decreased in acute and chronic patients as compared to healthy subjects cured from PCM or healthy infected subjects from endemic areas. Interestingly, the healthy infected subjects had higher gp43-induced IL-12p70 production and β2 expression than the cured subjects. The addition of a neutralizing anti-IL-10 antibody to the cultures increased IL-12p70 levels and β2 expression in acute and chronic patients to levels observed in cured subjects. Conversely, addition of the cytokine IL-10 strongly inhibited both parameters in the latter group. In conclusion, we have shown that paracoccidioidomycosis-related Th1 immunosuppression is associated with down-modulation of the IL-12 pathway, that IL-10 may participate in this process, and that patients cured from paracoccidioidomycosis may not fully recover their immune responsiveness. © 2004 Elsevier Inc. All rights reserved.",
         "IL-12Rβ2 chain|Immunosuppression|Interleukin-10|Interleukin-12|Interleukin-12 receptor|Paracoccidioidomycosis",
         29,
         "0",
         null,
         null,
         "immu|medi",
         "FAPESP",
         "01/11415-0",
         "Fundação de Amparo à Pesquisa do Estado de São Paulo",
         "10.1016/j.clim.2004.09.005",
         "\"Lab. Alergia Imunologia Clin. e Exp.|Universidade de São Paulo|Universidade Estadual Paulista \"\"Júlio de Mesquita Filho\"\"\"",
         "Sao Paulo",
         "Brazil"
        ],
        [
         "541961",
         "2-s2.0-11144234375",
         "10.1016/j.surneu.2004.09.014",
         "S0090301904006871",
         "15629343.0",
         "A new device with pressure regulation for microsurgical suction: Technical note",
         "ar",
         "Article",
         "Gusmão S.",
         null,
         2005,
         "January 2005",
         "Surgical Neurology",
         "903019",
         "19199.0",
         null,
         "Journal",
         "63",
         "SUPPL. 1",
         null,
         null,
         "A new suction tube that allows precise control of suction pressure during microsurgical procedures is described. The new device consists of a suction tube that has a series of small holes on its proximal end. These holes can be progressively opened or closed by a laterally placed sliding bar. The surgeon can readily adjust the suction pressure by slightly moving his thumb up and down with accordance to his convenience during the operation. This creates an easy and prompt way to regulate suction pressure, thus removing the need of suction adjustment by the assistant or the scrub nurse. This new device provides an easy, precise, and quick suction regulation during the different stages of the microsurgical procedure. When the holes are totally closed, a maximum suction pressure is achieved, and when the holes are fully opened the suction pressure can be brought to zero. This device is very simple and ergonomic and allows an adjustable suction pressure mechanism that is regulated by the surgeon. By smoothly using the thumb to move the sliding bar up and down, the suction pressure may vary within the range of a maximum to zero almost instantaneously providing the appropriate suction pressure at any surgical time. © 2005 Elsevier Inc. All rights reserved.",
         "Instrumentation|Microsucker|Microsurgery|Suction tube",
         3,
         "0",
         null,
         null,
         "medi",
         null,
         "undefined",
         null,
         "10.1016/j.surneu.2004.09.014",
         "Luxemburgo Hospital|Rua Padre Rolim|Universidade de São Paulo",
         "Belo Horizonte|Sao Paulo",
         "Brazil"
        ],
        [
         "541947",
         "2-s2.0-11144305904",
         "10.1016/j.joms.2004.04.025",
         "S0278239104012686",
         "15635552.0",
         "Botulinum toxin type A in the management of masseter muscle hypertrophy",
         "ar",
         "Article",
         "Castro W.H.",
         null,
         2005,
         "January 2005",
         "Journal of Oral and Maxillofacial Surgery",
         "2782391",
         "26152.0",
         null,
         "Journal",
         "63",
         "1",
         null,
         "20-24",
         "We sought to evaluate the response of 6 patients with masseter muscle hypertrophy to botulinum toxin type A therapy. Six patients with unilateral or bilateral masseter muscle hypertrophy received intramuscular injection of the botulinum toxin type A. The functional and cosmetic results were evaluated as well as recurrence. In all patients, satisfactory regression of the masseter muscle hypertrophy occurred and mild muscular pain was relieved. Recurrence was observed in 2 cases. The use of botulinum toxin type A in masseter muscle hypertrophy therapy was shown to be a successful and safe treatment method. This procedure to control parafunctional activities involving the masticatory muscles of patients appears to be useful. © 2005 American Association of Oral and Maxillofacial Surgeons.",
         null,
         42,
         "0",
         null,
         null,
         "dent|medi",
         null,
         "undefined",
         null,
         "10.1016/j.joms.2004.04.025",
         "Faculdade Odontol. Da Univ. Fed. M|Hospital Madre Teresa|MG",
         "Belo Horizonte",
         "Brazil"
        ],
        [
         "538019",
         "2-s2.0-11244306322",
         "10.1016/j.jhin.2004.06.033",
         "S0195670104002981",
         "15620452.0",
         "High frequency of Candida parapsilosis on the hands of healthy hosts",
         "ar",
         "Article",
         "Bonassoli L.",
         null,
         2005,
         "February 2005",
         "Journal of Hospital Infection",
         "1956701",
         "22427.0",
         null,
         "Journal",
         "59",
         "2",
         null,
         "159-162",
         "The presence of yeasts on the hands of 86 healthy hosts (62 hospital workers and 24 healthy members of the community with no hospital exposure) was investigated. A high rate of colonization was found (59.3%). Candida parapsilosis was the most frequently isolated species (51%), independent of the origin of the samples. The potential virulence and resistance to antifungals of the 26 C. parapsilosis isolates were determined. All were proteinase producers and formed biofilms. The haemolytic activity was variable, with a predominance of total haemolysis of sheep erythrocytes. All isolates were susceptible to amphotericin B but two showed reduced susceptibility to fluconazole. Healthy people may be colonized by a species of yeast with a high capacity for adhesion to plastic surfaces, providing an infection risk to susceptible individuals. © 2004 The Hospital Infection Society. Published by Elsevier Ltd. All rights reserved.",
         "Candida parapsilosis|Hand carriage|Nosocomial infections|Susceptibility|Virulence",
         102,
         "0",
         null,
         null,
         "medi",
         null,
         "undefined",
         null,
         "10.1016/j.jhin.2004.06.033",
         "Universidade Estadual de Maringa",
         "Maringa",
         "Brazil"
        ]
       ],
       "datasetInfos": [],
       "dbfsResultPath": null,
       "isJsonSchema": true,
       "metadata": {},
       "overflow": false,
       "plotOptions": {
        "customPlotOptions": {},
        "displayType": "table",
        "pivotAggregation": null,
        "pivotColumns": null,
        "xColumns": null,
        "yColumns": null
       },
       "removedWidgets": [],
       "schema": [
        {
         "metadata": "{}",
         "name": "N",
         "type": "\"string\""
        },
        {
         "metadata": "{}",
         "name": "eid",
         "type": "\"string\""
        },
        {
         "metadata": "{}",
         "name": "doi",
         "type": "\"string\""
        },
        {
         "metadata": "{}",
         "name": "pii",
         "type": "\"string\""
        },
        {
         "metadata": "{}",
         "name": "pubmed_id",
         "type": "\"string\""
        },
        {
         "metadata": "{}",
         "name": "title",
         "type": "\"string\""
        },
        {
         "metadata": "{}",
         "name": "subtype",
         "type": "\"string\""
        },
        {
         "metadata": "{}",
         "name": "subtypeDescription",
         "type": "\"string\""
        },
        {
         "metadata": "{}",
         "name": "creator",
         "type": "\"string\""
        },
        {
         "metadata": "{}",
         "name": "coverDate",
         "type": "\"date\""
        },
        {
         "metadata": "{}",
         "name": "Year_Cleaned",
         "type": "\"integer\""
        },
        {
         "metadata": "{}",
         "name": "coverDisplayDate",
         "type": "\"string\""
        },
        {
         "metadata": "{}",
         "name": "publicationName",
         "type": "\"string\""
        },
        {
         "metadata": "{}",
         "name": "issn",
         "type": "\"string\""
        },
        {
         "metadata": "{}",
         "name": "source_id",
         "type": "\"string\""
        },
        {
         "metadata": "{}",
         "name": "eIssn",
         "type": "\"string\""
        },
        {
         "metadata": "{}",
         "name": "aggregationType",
         "type": "\"string\""
        },
        {
         "metadata": "{}",
         "name": "volume",
         "type": "\"string\""
        },
        {
         "metadata": "{}",
         "name": "issueIdentifier",
         "type": "\"string\""
        },
        {
         "metadata": "{}",
         "name": "article_number",
         "type": "\"string\""
        },
        {
         "metadata": "{}",
         "name": "pageRange",
         "type": "\"string\""
        },
        {
         "metadata": "{}",
         "name": "description",
         "type": "\"string\""
        },
        {
         "metadata": "{}",
         "name": "authkeywords",
         "type": "\"string\""
        },
        {
         "metadata": "{}",
         "name": "citedby_count",
         "type": "\"integer\""
        },
        {
         "metadata": "{}",
         "name": "openaccess",
         "type": "\"string\""
        },
        {
         "metadata": "{}",
         "name": "freetoread",
         "type": "\"string\""
        },
        {
         "metadata": "{}",
         "name": "freetoreadLabel",
         "type": "\"string\""
        },
        {
         "metadata": "{}",
         "name": "Subject_Area",
         "type": "\"string\""
        },
        {
         "metadata": "{}",
         "name": "fund_acr",
         "type": "\"string\""
        },
        {
         "metadata": "{}",
         "name": "fund_no",
         "type": "\"string\""
        },
        {
         "metadata": "{}",
         "name": "fund_sponsor",
         "type": "\"string\""
        },
        {
         "metadata": "{}",
         "name": "doi_dim",
         "type": "\"string\""
        },
        {
         "metadata": "{}",
         "name": "affilname",
         "type": "\"string\""
        },
        {
         "metadata": "{}",
         "name": "affiliation_city",
         "type": "\"string\""
        },
        {
         "metadata": "{}",
         "name": "affiliation_country",
         "type": "\"string\""
        }
       ],
       "type": "table"
      }
     },
     "output_type": "display_data"
    }
   ],
   "source": [
    "# Carregar as tabelas da camada Silver com alias\n",
    "from pyspark.sql.functions import col\n",
    "\n",
    "fato_df = spark.table(\"silver.fato_publications\").alias(\"f\")\n",
    "dim_fund_df = spark.table(\"silver.dim_fund\").alias(\"dfund\")\n",
    "dim_auth_df = spark.table(\"silver.dim_author_affil\").alias(\"dauth\").drop(\"N\")\n",
    "\n",
    "# Primeiro join: unir fato com a dimensão de financiamento utilizando a coluna \"N\"\n",
    "join_fund_df = fato_df.join(dim_fund_df, fato_df[\"N\"] == dim_fund_df[\"N\"], \"left\") \\\n",
    "    .select(\n",
    "        *[col(\"f.\" + c) for c in fato_df.columns],\n",
    "        col(\"dfund.fund_acr\").alias(\"fund_acr\"),\n",
    "        col(\"dfund.fund_no\").alias(\"fund_no\"),\n",
    "        col(\"dfund.fund_sponsor\").alias(\"fund_sponsor\")\n",
    "    )\n",
    "\n",
    "# Segundo join: unir o resultado anterior com a dimensão de autor/afiliação utilizando a coluna \"eid\"\n",
    "# Utilizando on=\"eid\" para que o Spark combine automaticamente os valores da coluna \"eid\"\n",
    "result_df = join_fund_df.join(dim_auth_df, on=\"eid\", how=\"left\") \\\n",
    "    .select(\n",
    "        *[col(c) for c in join_fund_df.columns],\n",
    "        col(\"dauth.doi_dim\").alias(\"doi_dim\"),\n",
    "        col(\"dauth.affilname\").alias(\"affilname\"),\n",
    "        col(\"dauth.affiliation_city\").alias(\"affiliation_city\"),\n",
    "        col(\"dauth.affiliation_country\").alias(\"affiliation_country\")\n",
    "    )\n",
    "\n",
    "# Exibir o resultado final da camada Gold limitado a 5 linhas para testes\n",
    "display(result_df.limit(5))\n",
    "\n",
    "# Opcional: salvar o resultado final da camada Gold em uma tabela Delta\n",
    "result_df.write.format(\"delta\").mode(\"overwrite\").saveAsTable(\"gold.publicacoes_integradas\")\n"
   ]
  },
  {
   "cell_type": "markdown",
   "metadata": {
    "application/vnd.databricks.v1+cell": {
     "cellMetadata": {
      "byteLimit": 2048000,
      "rowLimit": 10000
     },
     "inputWidgets": {},
     "nuid": "e91c3761-8d68-43be-90ae-667d16259f5e",
     "showTitle": false,
     "tableResultSettingsMap": {},
     "title": ""
    }
   },
   "source": [
    "# Análise da qualidade dos dados"
   ]
  },
  {
   "cell_type": "code",
   "execution_count": 0,
   "metadata": {
    "application/vnd.databricks.v1+cell": {
     "cellMetadata": {
      "byteLimit": 2048000,
      "rowLimit": 10000
     },
     "inputWidgets": {},
     "nuid": "f53988bb-9b2a-472d-a920-ede7a976e4bf",
     "showTitle": false,
     "tableResultSettingsMap": {},
     "title": ""
    }
   },
   "outputs": [
    {
     "output_type": "stream",
     "name": "stdout",
     "output_type": "stream",
     "text": [
      "Resultados da verificação de nulos (completude):\n"
     ]
    },
    {
     "output_type": "display_data",
     "data": {
      "text/html": [
       "<style scoped>\n",
       "  .table-result-container {\n",
       "    max-height: 300px;\n",
       "    overflow: auto;\n",
       "  }\n",
       "  table, th, td {\n",
       "    border: 1px solid black;\n",
       "    border-collapse: collapse;\n",
       "  }\n",
       "  th, td {\n",
       "    padding: 5px;\n",
       "  }\n",
       "  th {\n",
       "    text-align: left;\n",
       "  }\n",
       "</style><div class='table-result-container'><table class='table-result'><thead style='background-color: white'><tr><th>N_nulos</th><th>eid_nulos</th><th>doi_nulos</th><th>pii_nulos</th><th>pubmed_id_nulos</th><th>title_nulos</th><th>subtype_nulos</th><th>subtypeDescription_nulos</th><th>creator_nulos</th><th>coverDate_nulos</th><th>Year_Cleaned_nulos</th><th>coverDisplayDate_nulos</th><th>publicationName_nulos</th><th>issn_nulos</th><th>source_id_nulos</th><th>eIssn_nulos</th><th>aggregationType_nulos</th><th>volume_nulos</th><th>issueIdentifier_nulos</th><th>article_number_nulos</th><th>pageRange_nulos</th><th>description_nulos</th><th>authkeywords_nulos</th><th>citedby_count_nulos</th><th>openaccess_nulos</th><th>freetoread_nulos</th><th>freetoreadLabel_nulos</th><th>Subject_Area_nulos</th><th>fund_acr_nulos</th><th>fund_no_nulos</th><th>fund_sponsor_nulos</th><th>doi_dim_nulos</th><th>affilname_nulos</th><th>affiliation_city_nulos</th><th>affiliation_country_nulos</th></tr></thead><tbody><tr><td>0</td><td>1</td><td>15515</td><td>193382</td><td>66507</td><td>5</td><td>5</td><td>4</td><td>23</td><td>250793</td><td>19</td><td>8</td><td>8</td><td>28641</td><td>9</td><td>66006</td><td>13</td><td>1111</td><td>29251</td><td>213090</td><td>40878</td><td>7775</td><td>43484</td><td>0</td><td>97</td><td>99787</td><td>100022</td><td>416</td><td>178669</td><td>16</td><td>175755</td><td>15516</td><td>634</td><td>1633</td><td>733</td></tr></tbody></table></div>"
      ]
     },
     "metadata": {
      "application/vnd.databricks.v1+output": {
       "addedWidgets": {},
       "aggData": [],
       "aggError": "",
       "aggOverflow": false,
       "aggSchema": [],
       "aggSeriesLimitReached": false,
       "aggType": "",
       "arguments": {},
       "columnCustomDisplayInfos": {},
       "data": [
        [
         0,
         1,
         15515,
         193382,
         66507,
         5,
         5,
         4,
         23,
         250793,
         19,
         8,
         8,
         28641,
         9,
         66006,
         13,
         1111,
         29251,
         213090,
         40878,
         7775,
         43484,
         0,
         97,
         99787,
         100022,
         416,
         178669,
         16,
         175755,
         15516,
         634,
         1633,
         733
        ]
       ],
       "datasetInfos": [],
       "dbfsResultPath": null,
       "isJsonSchema": true,
       "metadata": {},
       "overflow": false,
       "plotOptions": {
        "customPlotOptions": {},
        "displayType": "table",
        "pivotAggregation": null,
        "pivotColumns": null,
        "xColumns": null,
        "yColumns": null
       },
       "removedWidgets": [],
       "schema": [
        {
         "metadata": "{}",
         "name": "N_nulos",
         "type": "\"long\""
        },
        {
         "metadata": "{}",
         "name": "eid_nulos",
         "type": "\"long\""
        },
        {
         "metadata": "{}",
         "name": "doi_nulos",
         "type": "\"long\""
        },
        {
         "metadata": "{}",
         "name": "pii_nulos",
         "type": "\"long\""
        },
        {
         "metadata": "{}",
         "name": "pubmed_id_nulos",
         "type": "\"long\""
        },
        {
         "metadata": "{}",
         "name": "title_nulos",
         "type": "\"long\""
        },
        {
         "metadata": "{}",
         "name": "subtype_nulos",
         "type": "\"long\""
        },
        {
         "metadata": "{}",
         "name": "subtypeDescription_nulos",
         "type": "\"long\""
        },
        {
         "metadata": "{}",
         "name": "creator_nulos",
         "type": "\"long\""
        },
        {
         "metadata": "{}",
         "name": "coverDate_nulos",
         "type": "\"long\""
        },
        {
         "metadata": "{}",
         "name": "Year_Cleaned_nulos",
         "type": "\"long\""
        },
        {
         "metadata": "{}",
         "name": "coverDisplayDate_nulos",
         "type": "\"long\""
        },
        {
         "metadata": "{}",
         "name": "publicationName_nulos",
         "type": "\"long\""
        },
        {
         "metadata": "{}",
         "name": "issn_nulos",
         "type": "\"long\""
        },
        {
         "metadata": "{}",
         "name": "source_id_nulos",
         "type": "\"long\""
        },
        {
         "metadata": "{}",
         "name": "eIssn_nulos",
         "type": "\"long\""
        },
        {
         "metadata": "{}",
         "name": "aggregationType_nulos",
         "type": "\"long\""
        },
        {
         "metadata": "{}",
         "name": "volume_nulos",
         "type": "\"long\""
        },
        {
         "metadata": "{}",
         "name": "issueIdentifier_nulos",
         "type": "\"long\""
        },
        {
         "metadata": "{}",
         "name": "article_number_nulos",
         "type": "\"long\""
        },
        {
         "metadata": "{}",
         "name": "pageRange_nulos",
         "type": "\"long\""
        },
        {
         "metadata": "{}",
         "name": "description_nulos",
         "type": "\"long\""
        },
        {
         "metadata": "{}",
         "name": "authkeywords_nulos",
         "type": "\"long\""
        },
        {
         "metadata": "{}",
         "name": "citedby_count_nulos",
         "type": "\"long\""
        },
        {
         "metadata": "{}",
         "name": "openaccess_nulos",
         "type": "\"long\""
        },
        {
         "metadata": "{}",
         "name": "freetoread_nulos",
         "type": "\"long\""
        },
        {
         "metadata": "{}",
         "name": "freetoreadLabel_nulos",
         "type": "\"long\""
        },
        {
         "metadata": "{}",
         "name": "Subject_Area_nulos",
         "type": "\"long\""
        },
        {
         "metadata": "{}",
         "name": "fund_acr_nulos",
         "type": "\"long\""
        },
        {
         "metadata": "{}",
         "name": "fund_no_nulos",
         "type": "\"long\""
        },
        {
         "metadata": "{}",
         "name": "fund_sponsor_nulos",
         "type": "\"long\""
        },
        {
         "metadata": "{}",
         "name": "doi_dim_nulos",
         "type": "\"long\""
        },
        {
         "metadata": "{}",
         "name": "affilname_nulos",
         "type": "\"long\""
        },
        {
         "metadata": "{}",
         "name": "affiliation_city_nulos",
         "type": "\"long\""
        },
        {
         "metadata": "{}",
         "name": "affiliation_country_nulos",
         "type": "\"long\""
        }
       ],
       "type": "table"
      }
     },
     "output_type": "display_data"
    },
    {
     "output_type": "stream",
     "name": "stdout",
     "output_type": "stream",
     "text": [
      "Número de registros duplicados na chave 'eid': 0\nNúmero de registros com valores inválidos na coluna 'openaccess': 1802\nExemplos de registros com openaccess inválido:\n"
     ]
    },
    {
     "output_type": "display_data",
     "data": {
      "text/html": [
       "<style scoped>\n",
       "  .table-result-container {\n",
       "    max-height: 300px;\n",
       "    overflow: auto;\n",
       "  }\n",
       "  table, th, td {\n",
       "    border: 1px solid black;\n",
       "    border-collapse: collapse;\n",
       "  }\n",
       "  th, td {\n",
       "    padding: 5px;\n",
       "  }\n",
       "  th {\n",
       "    text-align: left;\n",
       "  }\n",
       "</style><div class='table-result-container'><table class='table-result'><thead style='background-color: white'><tr><th>N</th><th>eid</th><th>doi</th><th>pii</th><th>pubmed_id</th><th>title</th><th>subtype</th><th>subtypeDescription</th><th>creator</th><th>coverDate</th><th>Year_Cleaned</th><th>coverDisplayDate</th><th>publicationName</th><th>issn</th><th>source_id</th><th>eIssn</th><th>aggregationType</th><th>volume</th><th>issueIdentifier</th><th>article_number</th><th>pageRange</th><th>description</th><th>authkeywords</th><th>citedby_count</th><th>openaccess</th><th>freetoread</th><th>freetoreadLabel</th><th>Subject_Area</th><th>fund_acr</th><th>fund_no</th><th>fund_sponsor</th><th>doi_dim</th><th>affilname</th><th>affiliation_city</th><th>affiliation_country</th></tr></thead><tbody><tr><td>537036</td><td>2-s2.0-22244448072</td><td>10.1590/s1516-31802005000300007</td><td>null</td><td>16021275.0</td><td>Identification of dietary patterns using factor analysis in an epidemiological study in São Paulo</td><td>ar</td><td>Article</td><td>Lobo Marchioni D.M.</td><td>null</td><td>2005</td><td>2 May 2005</td><td>Sao Paulo Medical Journal</td><td>15163180</td><td>18825.0</td><td>null</td><td>Journal</td><td>123</td><td>3</td><td>null</td><td>124-127</td><td>\"Context and objective: Diet and nutrition are environmental factors in health/disease relationships. From the epidemiological viewpoint, diet represents a complex set of highly correlated exposures. Our objective was to identify patterns of food intake in a group of individuals living in São Paulo, and to develop objective dietary measurements for epidemiological purposes. Design and local: Exploratory factor analysis of data in a case-control study in seven teaching hospitals in São Paulo. Methods: The participants were 517 patients (260 oral cancer cases and 257 controls) admitted to the study hospitals between November 1998 and March 2001. The weekly intake frequencies for dairy products, cereals, meat, processed meat, vegetables, pulses, fruits and sweets were assessed by means of a semi-quantitative food frequency questionnaire. Dietary patterns were identified by factor analysis, based on the intake of the eight food groups, using principal component analysis as an extraction method followed by varimax rotation. Results: Factor analysis identified three patterns that accounted for 55% of the total variability within the sample. The first pattern (\"\"prudent\"\") was characterized by vegetable, fruit and meat intake</td><td>the second (\"\"traditional\"\") by cereals (mainly rice) and pulses (mainly beans)</td><td>0</td><td>Diet|Diet surveys|Feeding behavior|Food habits|nutritional assessment</td><td>55</td><td>1</td><td>repositoryvor</td><td>null</td><td>undefined</td><td>null</td><td>10.1590/s1516-31802005000300007</td><td>Rua Dr. Arnaldo 715|Universidade de São Paulo</td><td>Cerqueira Cesar|Sao Paulo</td><td>Brazil</td></tr><tr><td>39049</td><td>2-s2.0-28444463706</td><td>10.2341/04-153</td><td>null</td><td>16382597.0</td><td>Assessing the tooth-restoration interface wear resistance of two cementation techniques: Effect of a surface sealant</td><td>ar</td><td>Article</td><td>Prakki A.</td><td>null</td><td>2005</td><td>November 2005</td><td>Operative Dentistry</td><td>3617734</td><td>22812.0</td><td>null</td><td>Journal</td><td>30</td><td>6</td><td>null</td><td>739-746</td><td>\"This study compared (1) the tooth-restoration interface width of conventional and \"\"resin coating\"\" cementation techniques, (2) the toothbrushing wear resistance of the two interfaces and (3) this study evaluated the influence of a restoration surface sealing on toothbrush wear resistance on both cementation technique interfaces. Mid-coronal buccal surfaces of 40 bovine teeth were ground to obtain a flat enamel surface. For each specimen, a 3 mm x 4 mm x 3 mm dimension rectangular cavity was prepared. The teeth were divided into four groups. Two groups (RC) received a \"\"resin coating\"\" (ED Primer + Tetric Flow) prior to cementation. The remaining two groups (NC) served as non-coated groups. All teeth were restored with composite inlays (Z250) fabricated by the indirect method and were cemented with dual cure resin cement (Panavia F). After finishing the margins, one group from each of the cementation techniques (RC+S and NC+S) had the tooth-restoration interface protected with a restoration surface sealant (Biscover). The specimens were subjected to 100,000 brushing abrasion cycles. The tooth-restoration width was obtained using a Hommel Tester T 1000 - basic profilometer and Turbo Datawin NT 1.34 Software (μm). The interface wear (vertical loss/μm and area/μm2) was calculated with Image Tool 3.0 Software. Data were analyzed with Student t-test, one-way analysis of variance and Tukey test (α=0.05). Mean interface width for the NC group was 67 μm and 72 μm for the RC group. The student t-test showed no significant differences between groups (p=0.53). ANOVA showed significant differences (p<0.01) in vertical loss among groups (NC: 49.30 μm</td><td>NC+S: 7.90 μm</td><td>0</td><td>RC+S: 4.74 μm). Also, ANOVA showed significant differences (p<0.01) in worn areas among groups (NC: 2,008 μm2</td><td>NC+S: 128 μm2</td><td>RC: 1,580 μm2 and RC+S: 88 μm2). No differences were found in tooth-restoration interface width and worn area between conventional and \"\"resin coating\"\" techniques. \"\"Resin coating\"\" interface presented reduced vertical loss. Restoration surface sealing provided reduced wear in tooth-restoration interface for both techniques. ©Operative Dentistry, 2005.\"</td><td>null</td><td>null</td><td>undefined</td><td>null</td><td>10.2341/04-153</td><td>Universidade de São Paulo</td><td>Sao Paulo</td><td>Brazil</td></tr><tr><td>539422</td><td>2-s2.0-29944441859</td><td>null</td><td>null</td><td>null</td><td>Strategies for intervention and prevention of burnout in teaching</td><td>re</td><td>Review</td><td>Barona E.</td><td>null</td><td>2005</td><td>October 2005</td><td>Salud Mental</td><td>1853325</td><td>19332.0</td><td>null</td><td>Journal</td><td>28</td><td>5</td><td>null</td><td>27-33</td><td>\"In the European Union 50 per cent leave their jobs due to stress. Burnout is an English term literally meaning \"\"to be burnt out by work\"\", that is, to be emotionally exhausted. Later on, this term was extended and consolidated by Maschlach and Jackson who considered burnout as a three-dimensional syndrome derived from emotional chronic stress characterized by physical and/or psychological tiredness, a feeling of being unable to work more (emotional exhaustion), a cold and impersonal attitude towards other people, and a feeling that the current job position and the fulfilled tasks are inadequate. From a psychosocial point of view, burnout must not be identified as psychological stress, yet it has to be understood as a response to chronic stress sources developed from relationships between assistance services users and the workers who take care of them. From the psychiatric scope, Olza pointed out that psychological problems that are job related have not been given enough attention. Burnout is one of the major problems that has strong financial, social and personal effects. Our review is centered in the burnout syndrome prevalence among education professionals. In the past years many authors analysed and defended the need of a deep research regarding this subject. These authors also established burnout as a non questionable feature in the case of teaching, taking into account that somatic and psychological problems are common and affect teachers' performance as well as their relationship with students and their teaching quality. Prevention and intervention strategies Burnout research has been centered in describing the syndrome, facilitating variables, and describing syndrome consequences. It has been taken also as a statistical analysis of measure instruments. Alvarez and Fernandez classify the researches reviewed in their work in two categories considering burnout prevention and treatment. The first one is related to primary prevention and the second covers secondary prevention</td><td>it includes researches that examine and compare diverse intervention techniques. Individual strategies This part refers to a preventive and treatment focused approach meant to promote self-adaptation improvement strategies, and stress confronting regarding many personal factors. Physiological techniques Techniques oriented towards physiological arousal and emotional or physical unrest caused by labour stress sources, such as physical relaxation, breath control and biofeedback are considered among others. Behavioural techniques Those techniques are aimed to self-acquired skills and competences to facilitate labour conflict solving. Assertive training, social skills training, problem solving techniques and self-control are considered among others. Cognitive techniques Cognitive approach focuses on the perception, interpretation, and evaluation of labour conflicts and self resources that are at work in the subject. Taking into account that burnout is mediated by irrational thinking derived from stressing events, it is important to confront it according to cognitive techniques in order to change automate thinking. The following are among cognitive techniques: Systematic desensibilization, mind detention, stress inoculation, cognitive restructuration, irrational thinking control, dysfunctional attitude suppression and rational-emotive therapy. Social intervention strategies Social intervention strategies are considered to break isolation and improve socialization processes, strengthening social support trough cooperative work policies. It seems clear that social support crushes the nocive effects produced by stress sources and increases self-capacity to confront them. Sandin points out that social support affects health directly</td><td>0</td><td>burnout teachers performance gets worse and their presence has negative effects on their teaching quality. These reasons moved us to propose the design and implementation of a prevention and intervention program dealing with teacher's stress, trough a research project. We believe that in the future, setting, development, and -most important- evaluation of this kind of programs will be strictly held</td><td>meanwhile, we hope to contribute with this article to promote dysfunction prevention and health improvement, as well as the involvement and monitoring of challenging programs designed to improve single, social and labour competences.\"</td><td>burnout|intervention|Prevention|Programmes for the prevention and control of stress|Stress|Teachers</td><td>15</td><td>null</td><td>undefined</td><td>null</td><td>null</td><td>Instituto de Enseñanza Secundaria San Pedro de Alcántara|Universidad de Extremadura</td><td>Badajoz</td><td>Brazil;Spain</td></tr><tr><td>178991</td><td>2-s2.0-31344445227</td><td>10.1002/ajhb.20464</td><td>null</td><td>16378339.0</td><td>Blood pressure, seasonal body fat, heart rate, and ecological differences in Caboclo populations of the Brazilian Amazon</td><td>ar</td><td>Article</td><td>Silva H.</td><td>null</td><td>2006</td><td>January 2006</td><td>American Journal of Human Biology</td><td>10420533</td><td>12602.0</td><td>15206300</td><td>Journal</td><td>18</td><td>1</td><td>null</td><td>44835</td><td>\"This study compares blood pressure (BP) and related cardiovascular risk factors among three Caboclo communities from the Brazilian Amazon. Its purpose is to investigate possible risk differentials related to variable ecological settings and Western influences. Caxiuanã is characterized as a more \"\"traditional\"\" group, while Aracampina and Santana are viewed as more \"\"transitional\"\" in lifestyle. A total of 348 subjects from the three communities were evaluated in the wet or the dry season or in both. Measurements across the communities were compared by season and sex. Results suggest little seasonal variation in average BP, BP change, body fat, or body fat change among men. Conversely, there is substantial seasonal and inter-community variation among women. Additional analyses reveal (1) an inconsistent association between age and BP across the communities</td><td>(2) that BMI is not associated with BP transitional communities in either season but is associated with both systolic and diastolic pressure in the most traditional community</td><td>0</td><td>rather, their BP appears to be more affected by seasonal stresses. Finally, conditions during the wet season diminish age-related variation in BP, suggesting that during the wet season these Caboclo may be less active. © 2005 Wiley-Liss, Inc.\"</td><td>null</td><td>13</td><td>0</td><td>null</td><td>undefined</td><td>null</td><td>10.1002/ajhb.20464</td><td>Binghamton University State University of New York|The Ohio State University|Universidade Federal do Rio de Janeiro</td><td>Binghamton|Columbus|Rio de Janeiro</td><td>Brazil;United States</td></tr><tr><td>539203</td><td>2-s2.0-31544480892</td><td>10.1590/s1516-44462005000400007</td><td>null</td><td>16358110.0</td><td>Relationship between binge-eating episodes and self-perception of body weight in a nonclinical sample of five Brazilian cities</td><td>ar</td><td>Article</td><td>Siqueira K.S.</td><td>null</td><td>2005</td><td>December 2005</td><td>Revista Brasileira de Psiquiatria</td><td>15164446</td><td>19262.0</td><td>15164446</td><td>Journal</td><td>27</td><td>4</td><td>null</td><td>290-294</td><td>\"Objective: To investigate the relationship between binge-eating episodes and a perception that body weight is above the ideal in a sample of customers interviewed at shopping malls in five Brazilian cities. Methods: In 1999, data were collected over the course of one week (Monday-Friday only) at the largest shopping malls in the cities of Porto Alegre, Salvador, Fortaleza, Goiânia and Curitiba (two malls per city). A total of 2855 participants (917 men and 1938 women) were interviewed. Weight and height measurements were standardized. Binge-eating episodes were identified using a questionnaire including the following questions based on DSM-IV diagnostic criteria: \"\"Have you ever eaten, in a period of two hours or less, an amount of food greater than that most people would eat?\"\" and \"\"If the answer was \"\"yes\"\", did you, during these episodes, feel unable to stop eating or to control how much you were eating?\"\". Results: The prevalence of binge-eating episodes was higher among overweight subjects (15.6%) compared with normal-weight subjects (9.9%) (p = 0.0001) and, among subjects who perceived their body weight to be above the ideal (men: 13.9%</td><td>women: 15.1%) compared with those who perceived their body weight to be ideal or below the ideal (men: 8%</td><td>0</td><td>95% CI: 1.2-2.5). Conclusions: These findings suggest that the perception that body weight is above the ideal, regardless of overweight status, is associated with binge-eating episodes in women.\"</td><td>Body weight|Obesity/epidemiology|Obesity/psychology|Self concept</td><td>23</td><td>1</td><td>null</td><td>undefined</td><td>null</td><td>10.1590/s1516-44462005000400007</td><td>R. S. F. Xavier|Universidade do Estado do Rio de Janeiro|Universidade Federal do Rio de Janeiro</td><td>Rio de Janeiro</td><td>Brazil</td></tr></tbody></table></div>"
      ]
     },
     "metadata": {
      "application/vnd.databricks.v1+output": {
       "addedWidgets": {},
       "aggData": [],
       "aggError": "",
       "aggOverflow": false,
       "aggSchema": [],
       "aggSeriesLimitReached": false,
       "aggType": "",
       "arguments": {},
       "columnCustomDisplayInfos": {},
       "data": [
        [
         "537036",
         "2-s2.0-22244448072",
         "10.1590/s1516-31802005000300007",
         null,
         "16021275.0",
         "Identification of dietary patterns using factor analysis in an epidemiological study in São Paulo",
         "ar",
         "Article",
         "Lobo Marchioni D.M.",
         null,
         2005,
         "2 May 2005",
         "Sao Paulo Medical Journal",
         "15163180",
         "18825.0",
         null,
         "Journal",
         "123",
         "3",
         null,
         "124-127",
         "\"Context and objective: Diet and nutrition are environmental factors in health/disease relationships. From the epidemiological viewpoint, diet represents a complex set of highly correlated exposures. Our objective was to identify patterns of food intake in a group of individuals living in São Paulo, and to develop objective dietary measurements for epidemiological purposes. Design and local: Exploratory factor analysis of data in a case-control study in seven teaching hospitals in São Paulo. Methods: The participants were 517 patients (260 oral cancer cases and 257 controls) admitted to the study hospitals between November 1998 and March 2001. The weekly intake frequencies for dairy products, cereals, meat, processed meat, vegetables, pulses, fruits and sweets were assessed by means of a semi-quantitative food frequency questionnaire. Dietary patterns were identified by factor analysis, based on the intake of the eight food groups, using principal component analysis as an extraction method followed by varimax rotation. Results: Factor analysis identified three patterns that accounted for 55% of the total variability within the sample. The first pattern (\"\"prudent\"\") was characterized by vegetable, fruit and meat intake",
         "the second (\"\"traditional\"\") by cereals (mainly rice) and pulses (mainly beans)",
         0,
         "Diet|Diet surveys|Feeding behavior|Food habits|nutritional assessment",
         "55",
         "1",
         "repositoryvor",
         null,
         "undefined",
         null,
         "10.1590/s1516-31802005000300007",
         "Rua Dr. Arnaldo 715|Universidade de São Paulo",
         "Cerqueira Cesar|Sao Paulo",
         "Brazil"
        ],
        [
         "39049",
         "2-s2.0-28444463706",
         "10.2341/04-153",
         null,
         "16382597.0",
         "Assessing the tooth-restoration interface wear resistance of two cementation techniques: Effect of a surface sealant",
         "ar",
         "Article",
         "Prakki A.",
         null,
         2005,
         "November 2005",
         "Operative Dentistry",
         "3617734",
         "22812.0",
         null,
         "Journal",
         "30",
         "6",
         null,
         "739-746",
         "\"This study compared (1) the tooth-restoration interface width of conventional and \"\"resin coating\"\" cementation techniques, (2) the toothbrushing wear resistance of the two interfaces and (3) this study evaluated the influence of a restoration surface sealing on toothbrush wear resistance on both cementation technique interfaces. Mid-coronal buccal surfaces of 40 bovine teeth were ground to obtain a flat enamel surface. For each specimen, a 3 mm x 4 mm x 3 mm dimension rectangular cavity was prepared. The teeth were divided into four groups. Two groups (RC) received a \"\"resin coating\"\" (ED Primer + Tetric Flow) prior to cementation. The remaining two groups (NC) served as non-coated groups. All teeth were restored with composite inlays (Z250) fabricated by the indirect method and were cemented with dual cure resin cement (Panavia F). After finishing the margins, one group from each of the cementation techniques (RC+S and NC+S) had the tooth-restoration interface protected with a restoration surface sealant (Biscover). The specimens were subjected to 100,000 brushing abrasion cycles. The tooth-restoration width was obtained using a Hommel Tester T 1000 - basic profilometer and Turbo Datawin NT 1.34 Software (μm). The interface wear (vertical loss/μm and area/μm2) was calculated with Image Tool 3.0 Software. Data were analyzed with Student t-test, one-way analysis of variance and Tukey test (α=0.05). Mean interface width for the NC group was 67 μm and 72 μm for the RC group. The student t-test showed no significant differences between groups (p=0.53). ANOVA showed significant differences (p<0.01) in vertical loss among groups (NC: 49.30 μm",
         "NC+S: 7.90 μm",
         0,
         "RC+S: 4.74 μm). Also, ANOVA showed significant differences (p<0.01) in worn areas among groups (NC: 2,008 μm2",
         "NC+S: 128 μm2",
         "RC: 1,580 μm2 and RC+S: 88 μm2). No differences were found in tooth-restoration interface width and worn area between conventional and \"\"resin coating\"\" techniques. \"\"Resin coating\"\" interface presented reduced vertical loss. Restoration surface sealing provided reduced wear in tooth-restoration interface for both techniques. ©Operative Dentistry, 2005.\"",
         null,
         null,
         "undefined",
         null,
         "10.2341/04-153",
         "Universidade de São Paulo",
         "Sao Paulo",
         "Brazil"
        ],
        [
         "539422",
         "2-s2.0-29944441859",
         null,
         null,
         null,
         "Strategies for intervention and prevention of burnout in teaching",
         "re",
         "Review",
         "Barona E.",
         null,
         2005,
         "October 2005",
         "Salud Mental",
         "1853325",
         "19332.0",
         null,
         "Journal",
         "28",
         "5",
         null,
         "27-33",
         "\"In the European Union 50 per cent leave their jobs due to stress. Burnout is an English term literally meaning \"\"to be burnt out by work\"\", that is, to be emotionally exhausted. Later on, this term was extended and consolidated by Maschlach and Jackson who considered burnout as a three-dimensional syndrome derived from emotional chronic stress characterized by physical and/or psychological tiredness, a feeling of being unable to work more (emotional exhaustion), a cold and impersonal attitude towards other people, and a feeling that the current job position and the fulfilled tasks are inadequate. From a psychosocial point of view, burnout must not be identified as psychological stress, yet it has to be understood as a response to chronic stress sources developed from relationships between assistance services users and the workers who take care of them. From the psychiatric scope, Olza pointed out that psychological problems that are job related have not been given enough attention. Burnout is one of the major problems that has strong financial, social and personal effects. Our review is centered in the burnout syndrome prevalence among education professionals. In the past years many authors analysed and defended the need of a deep research regarding this subject. These authors also established burnout as a non questionable feature in the case of teaching, taking into account that somatic and psychological problems are common and affect teachers' performance as well as their relationship with students and their teaching quality. Prevention and intervention strategies Burnout research has been centered in describing the syndrome, facilitating variables, and describing syndrome consequences. It has been taken also as a statistical analysis of measure instruments. Alvarez and Fernandez classify the researches reviewed in their work in two categories considering burnout prevention and treatment. The first one is related to primary prevention and the second covers secondary prevention",
         "it includes researches that examine and compare diverse intervention techniques. Individual strategies This part refers to a preventive and treatment focused approach meant to promote self-adaptation improvement strategies, and stress confronting regarding many personal factors. Physiological techniques Techniques oriented towards physiological arousal and emotional or physical unrest caused by labour stress sources, such as physical relaxation, breath control and biofeedback are considered among others. Behavioural techniques Those techniques are aimed to self-acquired skills and competences to facilitate labour conflict solving. Assertive training, social skills training, problem solving techniques and self-control are considered among others. Cognitive techniques Cognitive approach focuses on the perception, interpretation, and evaluation of labour conflicts and self resources that are at work in the subject. Taking into account that burnout is mediated by irrational thinking derived from stressing events, it is important to confront it according to cognitive techniques in order to change automate thinking. The following are among cognitive techniques: Systematic desensibilization, mind detention, stress inoculation, cognitive restructuration, irrational thinking control, dysfunctional attitude suppression and rational-emotive therapy. Social intervention strategies Social intervention strategies are considered to break isolation and improve socialization processes, strengthening social support trough cooperative work policies. It seems clear that social support crushes the nocive effects produced by stress sources and increases self-capacity to confront them. Sandin points out that social support affects health directly",
         0,
         "burnout teachers performance gets worse and their presence has negative effects on their teaching quality. These reasons moved us to propose the design and implementation of a prevention and intervention program dealing with teacher's stress, trough a research project. We believe that in the future, setting, development, and -most important- evaluation of this kind of programs will be strictly held",
         "meanwhile, we hope to contribute with this article to promote dysfunction prevention and health improvement, as well as the involvement and monitoring of challenging programs designed to improve single, social and labour competences.\"",
         "burnout|intervention|Prevention|Programmes for the prevention and control of stress|Stress|Teachers",
         "15",
         null,
         "undefined",
         null,
         null,
         "Instituto de Enseñanza Secundaria San Pedro de Alcántara|Universidad de Extremadura",
         "Badajoz",
         "Brazil;Spain"
        ],
        [
         "178991",
         "2-s2.0-31344445227",
         "10.1002/ajhb.20464",
         null,
         "16378339.0",
         "Blood pressure, seasonal body fat, heart rate, and ecological differences in Caboclo populations of the Brazilian Amazon",
         "ar",
         "Article",
         "Silva H.",
         null,
         2006,
         "January 2006",
         "American Journal of Human Biology",
         "10420533",
         "12602.0",
         "15206300",
         "Journal",
         "18",
         "1",
         null,
         "44835",
         "\"This study compares blood pressure (BP) and related cardiovascular risk factors among three Caboclo communities from the Brazilian Amazon. Its purpose is to investigate possible risk differentials related to variable ecological settings and Western influences. Caxiuanã is characterized as a more \"\"traditional\"\" group, while Aracampina and Santana are viewed as more \"\"transitional\"\" in lifestyle. A total of 348 subjects from the three communities were evaluated in the wet or the dry season or in both. Measurements across the communities were compared by season and sex. Results suggest little seasonal variation in average BP, BP change, body fat, or body fat change among men. Conversely, there is substantial seasonal and inter-community variation among women. Additional analyses reveal (1) an inconsistent association between age and BP across the communities",
         "(2) that BMI is not associated with BP transitional communities in either season but is associated with both systolic and diastolic pressure in the most traditional community",
         0,
         "rather, their BP appears to be more affected by seasonal stresses. Finally, conditions during the wet season diminish age-related variation in BP, suggesting that during the wet season these Caboclo may be less active. © 2005 Wiley-Liss, Inc.\"",
         null,
         "13",
         "0",
         null,
         "undefined",
         null,
         "10.1002/ajhb.20464",
         "Binghamton University State University of New York|The Ohio State University|Universidade Federal do Rio de Janeiro",
         "Binghamton|Columbus|Rio de Janeiro",
         "Brazil;United States"
        ],
        [
         "539203",
         "2-s2.0-31544480892",
         "10.1590/s1516-44462005000400007",
         null,
         "16358110.0",
         "Relationship between binge-eating episodes and self-perception of body weight in a nonclinical sample of five Brazilian cities",
         "ar",
         "Article",
         "Siqueira K.S.",
         null,
         2005,
         "December 2005",
         "Revista Brasileira de Psiquiatria",
         "15164446",
         "19262.0",
         "15164446",
         "Journal",
         "27",
         "4",
         null,
         "290-294",
         "\"Objective: To investigate the relationship between binge-eating episodes and a perception that body weight is above the ideal in a sample of customers interviewed at shopping malls in five Brazilian cities. Methods: In 1999, data were collected over the course of one week (Monday-Friday only) at the largest shopping malls in the cities of Porto Alegre, Salvador, Fortaleza, Goiânia and Curitiba (two malls per city). A total of 2855 participants (917 men and 1938 women) were interviewed. Weight and height measurements were standardized. Binge-eating episodes were identified using a questionnaire including the following questions based on DSM-IV diagnostic criteria: \"\"Have you ever eaten, in a period of two hours or less, an amount of food greater than that most people would eat?\"\" and \"\"If the answer was \"\"yes\"\", did you, during these episodes, feel unable to stop eating or to control how much you were eating?\"\". Results: The prevalence of binge-eating episodes was higher among overweight subjects (15.6%) compared with normal-weight subjects (9.9%) (p = 0.0001) and, among subjects who perceived their body weight to be above the ideal (men: 13.9%",
         "women: 15.1%) compared with those who perceived their body weight to be ideal or below the ideal (men: 8%",
         0,
         "95% CI: 1.2-2.5). Conclusions: These findings suggest that the perception that body weight is above the ideal, regardless of overweight status, is associated with binge-eating episodes in women.\"",
         "Body weight|Obesity/epidemiology|Obesity/psychology|Self concept",
         "23",
         "1",
         null,
         "undefined",
         null,
         "10.1590/s1516-44462005000400007",
         "R. S. F. Xavier|Universidade do Estado do Rio de Janeiro|Universidade Federal do Rio de Janeiro",
         "Rio de Janeiro",
         "Brazil"
        ]
       ],
       "datasetInfos": [],
       "dbfsResultPath": null,
       "isJsonSchema": true,
       "metadata": {},
       "overflow": false,
       "plotOptions": {
        "customPlotOptions": {},
        "displayType": "table",
        "pivotAggregation": null,
        "pivotColumns": null,
        "xColumns": null,
        "yColumns": null
       },
       "removedWidgets": [],
       "schema": [
        {
         "metadata": "{}",
         "name": "N",
         "type": "\"string\""
        },
        {
         "metadata": "{}",
         "name": "eid",
         "type": "\"string\""
        },
        {
         "metadata": "{}",
         "name": "doi",
         "type": "\"string\""
        },
        {
         "metadata": "{}",
         "name": "pii",
         "type": "\"string\""
        },
        {
         "metadata": "{}",
         "name": "pubmed_id",
         "type": "\"string\""
        },
        {
         "metadata": "{}",
         "name": "title",
         "type": "\"string\""
        },
        {
         "metadata": "{}",
         "name": "subtype",
         "type": "\"string\""
        },
        {
         "metadata": "{}",
         "name": "subtypeDescription",
         "type": "\"string\""
        },
        {
         "metadata": "{}",
         "name": "creator",
         "type": "\"string\""
        },
        {
         "metadata": "{}",
         "name": "coverDate",
         "type": "\"date\""
        },
        {
         "metadata": "{}",
         "name": "Year_Cleaned",
         "type": "\"integer\""
        },
        {
         "metadata": "{}",
         "name": "coverDisplayDate",
         "type": "\"string\""
        },
        {
         "metadata": "{}",
         "name": "publicationName",
         "type": "\"string\""
        },
        {
         "metadata": "{}",
         "name": "issn",
         "type": "\"string\""
        },
        {
         "metadata": "{}",
         "name": "source_id",
         "type": "\"string\""
        },
        {
         "metadata": "{}",
         "name": "eIssn",
         "type": "\"string\""
        },
        {
         "metadata": "{}",
         "name": "aggregationType",
         "type": "\"string\""
        },
        {
         "metadata": "{}",
         "name": "volume",
         "type": "\"string\""
        },
        {
         "metadata": "{}",
         "name": "issueIdentifier",
         "type": "\"string\""
        },
        {
         "metadata": "{}",
         "name": "article_number",
         "type": "\"string\""
        },
        {
         "metadata": "{}",
         "name": "pageRange",
         "type": "\"string\""
        },
        {
         "metadata": "{}",
         "name": "description",
         "type": "\"string\""
        },
        {
         "metadata": "{}",
         "name": "authkeywords",
         "type": "\"string\""
        },
        {
         "metadata": "{}",
         "name": "citedby_count",
         "type": "\"integer\""
        },
        {
         "metadata": "{}",
         "name": "openaccess",
         "type": "\"string\""
        },
        {
         "metadata": "{}",
         "name": "freetoread",
         "type": "\"string\""
        },
        {
         "metadata": "{}",
         "name": "freetoreadLabel",
         "type": "\"string\""
        },
        {
         "metadata": "{}",
         "name": "Subject_Area",
         "type": "\"string\""
        },
        {
         "metadata": "{}",
         "name": "fund_acr",
         "type": "\"string\""
        },
        {
         "metadata": "{}",
         "name": "fund_no",
         "type": "\"string\""
        },
        {
         "metadata": "{}",
         "name": "fund_sponsor",
         "type": "\"string\""
        },
        {
         "metadata": "{}",
         "name": "doi_dim",
         "type": "\"string\""
        },
        {
         "metadata": "{}",
         "name": "affilname",
         "type": "\"string\""
        },
        {
         "metadata": "{}",
         "name": "affiliation_city",
         "type": "\"string\""
        },
        {
         "metadata": "{}",
         "name": "affiliation_country",
         "type": "\"string\""
        }
       ],
       "type": "table"
      }
     },
     "output_type": "display_data"
    },
    {
     "output_type": "stream",
     "name": "stdout",
     "output_type": "stream",
     "text": [
      "Estatísticas descritivas para a coluna 'Year_Cleaned':\n"
     ]
    },
    {
     "output_type": "display_data",
     "data": {
      "text/html": [
       "<style scoped>\n",
       "  .table-result-container {\n",
       "    max-height: 300px;\n",
       "    overflow: auto;\n",
       "  }\n",
       "  table, th, td {\n",
       "    border: 1px solid black;\n",
       "    border-collapse: collapse;\n",
       "  }\n",
       "  th, td {\n",
       "    padding: 5px;\n",
       "  }\n",
       "  th {\n",
       "    text-align: left;\n",
       "  }\n",
       "</style><div class='table-result-container'><table class='table-result'><thead style='background-color: white'><tr><th>summary</th><th>Year_Cleaned</th></tr></thead><tbody><tr><td>count</td><td>250774</td></tr><tr><td>mean</td><td>2014.424234569772</td></tr><tr><td>stddev</td><td>4.706331204684826</td></tr><tr><td>min</td><td>2005</td></tr><tr><td>max</td><td>2021</td></tr></tbody></table></div>"
      ]
     },
     "metadata": {
      "application/vnd.databricks.v1+output": {
       "addedWidgets": {},
       "aggData": [],
       "aggError": "",
       "aggOverflow": false,
       "aggSchema": [],
       "aggSeriesLimitReached": false,
       "aggType": "",
       "arguments": {},
       "columnCustomDisplayInfos": {},
       "data": [
        [
         "count",
         "250774"
        ],
        [
         "mean",
         "2014.424234569772"
        ],
        [
         "stddev",
         "4.706331204684826"
        ],
        [
         "min",
         "2005"
        ],
        [
         "max",
         "2021"
        ]
       ],
       "datasetInfos": [],
       "dbfsResultPath": null,
       "isJsonSchema": true,
       "metadata": {},
       "overflow": false,
       "plotOptions": {
        "customPlotOptions": {},
        "displayType": "table",
        "pivotAggregation": null,
        "pivotColumns": null,
        "xColumns": null,
        "yColumns": null
       },
       "removedWidgets": [],
       "schema": [
        {
         "metadata": "{}",
         "name": "summary",
         "type": "\"string\""
        },
        {
         "metadata": "{}",
         "name": "Year_Cleaned",
         "type": "\"string\""
        }
       ],
       "type": "table"
      }
     },
     "output_type": "display_data"
    }
   ],
   "source": [
    "from pyspark.sql.functions import col, count, when, round\n",
    "\n",
    "# Carrega a tabela Gold com os dados consolidados\n",
    "df_gold = spark.table(\"gold.publicacoes_integradas\")\n",
    "\n",
    "# 1. Completude: Verifica a quantidade de valores nulos ou vazios em cada coluna.\n",
    "# ------------------------------------------------------------\n",
    "# Para cada coluna, conta registros nulos ou com string vazia (caso aplicável)\n",
    "null_checks = df_gold.select([\n",
    "    count(when(col(c).isNull() | (col(c) == \"\"), c)).alias(c + \"_nulos\")\n",
    "    for c in df_gold.columns\n",
    "])\n",
    "print(\"Resultados da verificação de nulos (completude):\")\n",
    "display(null_checks)\n",
    "\n",
    "# 2. Consistência: Verifica duplicidades em colunas que deveriam ser únicas.\n",
    "# ------------------------------------------------------------\n",
    "# Exemplo: Chave primária 'eid' deve ser única\n",
    "duplicados = df_gold.groupBy(\"eid\").count().filter(col(\"count\") > 1)\n",
    "dup_count = duplicados.count()\n",
    "print(\"Número de registros duplicados na chave 'eid':\", dup_count)\n",
    "if dup_count > 0:\n",
    "    print(\"Exemplo de duplicatas:\")\n",
    "    display(duplicados.limit(5))\n",
    "\n",
    "# 3. Validade: Verifica se os valores estão dentro dos padrões esperados.\n",
    "# ------------------------------------------------------------\n",
    "# Validação para a coluna 'openaccess' (0: acesso fechado, 1: acesso aberto)\n",
    "invalid_openaccess = df_gold.filter(~col(\"openaccess\").isin([0, 1]))\n",
    "invalid_count = invalid_openaccess.count()\n",
    "print(\"Número de registros com valores inválidos na coluna 'openaccess':\", invalid_count)\n",
    "if invalid_count > 0:\n",
    "    print(\"Exemplos de registros com openaccess inválido:\")\n",
    "    display(invalid_openaccess.limit(5))\n",
    "\n",
    "# Estatísticas descritivas para uma coluna numérica, ex: 'Year_Cleaned'\n",
    "print(\"Estatísticas descritivas para a coluna 'Year_Cleaned':\")\n",
    "year_stats = df_gold.select(\"Year_Cleaned\").describe()\n",
    "display(year_stats)\n"
   ]
  },
  {
   "cell_type": "markdown",
   "metadata": {
    "application/vnd.databricks.v1+cell": {
     "cellMetadata": {
      "byteLimit": 2048000,
      "rowLimit": 10000
     },
     "inputWidgets": {},
     "nuid": "1100af2d-de56-4b6b-8c0c-1a693b6b679b",
     "showTitle": false,
     "tableResultSettingsMap": {},
     "title": ""
    }
   },
   "source": [
    "# Consultas e Visualizações\n",
    "## 1 – Tendência de Publicações ao Longo dos Anos\n",
    "- A análise mostra o crescimento do número de publicações ao longo de 17 anos consecutivos, evidenciando uma tendência de aumento da produção científica no período analisado."
   ]
  },
  {
   "cell_type": "code",
   "execution_count": 0,
   "metadata": {
    "application/vnd.databricks.v1+cell": {
     "cellMetadata": {
      "byteLimit": 2048000,
      "implicitDf": true,
      "rowLimit": 10000
     },
     "inputWidgets": {},
     "nuid": "4ac0d812-ba92-45bf-b91a-cc2236f0ddad",
     "showTitle": false,
     "tableResultSettingsMap": {},
     "title": ""
    }
   },
   "outputs": [
    {
     "output_type": "display_data",
     "data": {
      "text/html": [
       "<style scoped>\n",
       "  .table-result-container {\n",
       "    max-height: 300px;\n",
       "    overflow: auto;\n",
       "  }\n",
       "  table, th, td {\n",
       "    border: 1px solid black;\n",
       "    border-collapse: collapse;\n",
       "  }\n",
       "  th, td {\n",
       "    padding: 5px;\n",
       "  }\n",
       "  th {\n",
       "    text-align: left;\n",
       "  }\n",
       "</style><div class='table-result-container'><table class='table-result'><thead style='background-color: white'><tr><th>ano</th><th>num_publicacoes</th></tr></thead><tbody><tr><td>null</td><td>19</td></tr><tr><td>2005</td><td>6716</td></tr><tr><td>2006</td><td>8513</td></tr><tr><td>2007</td><td>9610</td></tr><tr><td>2008</td><td>10904</td></tr><tr><td>2009</td><td>11936</td></tr><tr><td>2010</td><td>12691</td></tr><tr><td>2011</td><td>13935</td></tr><tr><td>2012</td><td>14685</td></tr><tr><td>2013</td><td>14610</td></tr><tr><td>2014</td><td>15335</td></tr><tr><td>2015</td><td>15766</td></tr><tr><td>2016</td><td>16347</td></tr><tr><td>2017</td><td>17277</td></tr><tr><td>2018</td><td>18368</td></tr><tr><td>2019</td><td>18396</td></tr><tr><td>2020</td><td>21680</td></tr><tr><td>2021</td><td>24005</td></tr></tbody></table></div>"
      ]
     },
     "metadata": {
      "application/vnd.databricks.v1+output": {
       "addedWidgets": {},
       "aggData": [],
       "aggError": "",
       "aggOverflow": false,
       "aggSchema": [],
       "aggSeriesLimitReached": false,
       "aggType": "",
       "arguments": {},
       "columnCustomDisplayInfos": {},
       "data": [
        [
         null,
         19
        ],
        [
         2005,
         6716
        ],
        [
         2006,
         8513
        ],
        [
         2007,
         9610
        ],
        [
         2008,
         10904
        ],
        [
         2009,
         11936
        ],
        [
         2010,
         12691
        ],
        [
         2011,
         13935
        ],
        [
         2012,
         14685
        ],
        [
         2013,
         14610
        ],
        [
         2014,
         15335
        ],
        [
         2015,
         15766
        ],
        [
         2016,
         16347
        ],
        [
         2017,
         17277
        ],
        [
         2018,
         18368
        ],
        [
         2019,
         18396
        ],
        [
         2020,
         21680
        ],
        [
         2021,
         24005
        ]
       ],
       "datasetInfos": [],
       "dbfsResultPath": null,
       "isJsonSchema": true,
       "metadata": {},
       "overflow": false,
       "plotOptions": {
        "customPlotOptions": {},
        "displayType": "table",
        "pivotAggregation": null,
        "pivotColumns": null,
        "xColumns": null,
        "yColumns": null
       },
       "removedWidgets": [],
       "schema": [
        {
         "metadata": "{}",
         "name": "ano",
         "type": "\"integer\""
        },
        {
         "metadata": "{}",
         "name": "num_publicacoes",
         "type": "\"long\""
        }
       ],
       "type": "table"
      }
     },
     "output_type": "display_data"
    },
    {
     "output_type": "display_data",
     "data": {
      "text/plain": [
       "Databricks visualization. Run in Databricks to view."
      ]
     },
     "metadata": {
      "application/vnd.databricks.v1.subcommand+json": {
       "baseErrorDetails": null,
       "bindings": {},
       "collapsed": false,
       "command": "%sql WITH q AS (SELECT \n  Year_Cleaned AS ano,\n  COUNT(*) AS num_publicacoes\nFROM silver.fato_publications\nGROUP BY Year_Cleaned\nORDER BY ano) SELECT `ano`,`num_publicacoes` FROM q",
       "commandTitle": "Visualization 1",
       "commandType": "auto",
       "commandVersion": 0,
       "commentThread": [],
       "commentsVisible": false,
       "contentSha256Hex": null,
       "customPlotOptions": {
        "redashChart": [
         {
          "key": "type",
          "value": "CHART"
         },
         {
          "key": "options",
          "value": {
           "alignYAxesAtZero": true,
           "coefficient": 1,
           "columnConfigurationMap": {
            "x": {
             "column": "ano",
             "id": "column_84de847c33"
            },
            "y": [
             {
              "column": "num_publicacoes",
              "id": "column_84de847c62"
             }
            ]
           },
           "dateTimeFormat": "DD/MM/YYYY HH:mm",
           "direction": {
            "type": "counterclockwise"
           },
           "error_y": {
            "type": "data",
            "visible": true
           },
           "globalSeriesType": "scatter",
           "legend": {
            "traceorder": "normal"
           },
           "missingValuesAsZero": true,
           "numBins": 10,
           "numberFormat": "0,0.[00000]",
           "percentFormat": "0[.]00%",
           "series": {
            "error_y": {
             "type": "data",
             "visible": true
            },
            "stacking": null
           },
           "seriesOptions": {
            "column_84de847c34": {
             "name": "num_publicacoes",
             "type": "scatter",
             "yAxis": 0
            },
            "num_publicacoes": {
             "type": "scatter",
             "yAxis": 0
            }
           },
           "showDataLabels": false,
           "sizemode": "diameter",
           "sortX": true,
           "sortY": true,
           "swappedAxes": false,
           "textFormat": "",
           "useAggregationsUi": true,
           "valuesOptions": {},
           "version": 2,
           "xAxis": {
            "labels": {
             "enabled": true
            },
            "type": "-"
           },
           "yAxis": [
            {
             "type": "-"
            },
            {
             "opposite": true,
             "type": "-"
            }
           ]
          }
         }
        ]
       },
       "datasetPreviewNameToCmdIdMap": {},
       "diffDeletes": [],
       "diffInserts": [],
       "displayType": "redashChart",
       "error": null,
       "errorDetails": null,
       "errorSummary": null,
       "errorTraceType": null,
       "finishTime": 0,
       "globalVars": {},
       "guid": "",
       "height": "auto",
       "hideCommandCode": false,
       "hideCommandResult": false,
       "iPythonMetadata": null,
       "inputWidgets": {},
       "isLockedInExamMode": false,
       "latestUser": "a user",
       "latestUserId": null,
       "listResultMetadata": null,
       "metadata": {
        "byteLimit": 2048000,
        "implicitDf": true,
        "rowLimit": 10000
       },
       "nuid": "209683db-1980-4fa3-9fd2-1ce1376700ac",
       "origId": 0,
       "parentHierarchy": [],
       "pivotAggregation": null,
       "pivotColumns": null,
       "position": 12.0,
       "resultDbfsErrorMessage": null,
       "resultDbfsStatus": "INLINED_IN_TREE",
       "results": null,
       "showCommandTitle": false,
       "startTime": 0,
       "state": "finished",
       "streamStates": {},
       "subcommandOptions": {
        "queryPlan": {
         "selects": [
          {
           "column": "ano",
           "type": "column"
          },
          {
           "column": "num_publicacoes",
           "type": "column"
          }
         ]
        }
       },
       "submitTime": 0,
       "subtype": "tableResultSubCmd.visualization",
       "tableResultIndex": 0,
       "tableResultSettingsMap": {},
       "useConsistentColors": false,
       "version": "CommandV1",
       "width": "auto",
       "workflows": [],
       "xColumns": null,
       "yColumns": null
      }
     },
     "output_type": "display_data"
    }
   ],
   "source": [
    "%sql\n",
    "-- Consulta SQL para evolução do número de publicações por ano:\n",
    "SELECT \n",
    "  Year_Cleaned AS ano,\n",
    "  COUNT(*) AS num_publicacoes\n",
    "FROM silver.fato_publications\n",
    "GROUP BY Year_Cleaned\n",
    "ORDER BY ano;\n"
   ]
  },
  {
   "cell_type": "markdown",
   "metadata": {
    "application/vnd.databricks.v1+cell": {
     "cellMetadata": {
      "byteLimit": 2048000,
      "rowLimit": 10000
     },
     "inputWidgets": {},
     "nuid": "9666acb1-cc07-4991-b399-f734c3386387",
     "showTitle": false,
     "tableResultSettingsMap": {},
     "title": ""
    }
   },
   "source": [
    "## 2 - Proporção dos tipos de documentos em todo o período\n",
    "- Os dados foram agrupados por tipo de documento para contar o número total de publicações de cada tipo durante o período. Em seguida, é calculada a porcentagem em relação ao total."
   ]
  },
  {
   "cell_type": "code",
   "execution_count": 0,
   "metadata": {
    "application/vnd.databricks.v1+cell": {
     "cellMetadata": {
      "byteLimit": 2048000,
      "implicitDf": true,
      "rowLimit": 10000
     },
     "inputWidgets": {},
     "nuid": "6fe8c43a-3fc7-4bb2-8cd0-d7233ab3578e",
     "showTitle": false,
     "tableResultSettingsMap": {},
     "title": ""
    }
   },
   "outputs": [
    {
     "output_type": "display_data",
     "data": {
      "text/html": [
       "<style scoped>\n",
       "  .table-result-container {\n",
       "    max-height: 300px;\n",
       "    overflow: auto;\n",
       "  }\n",
       "  table, th, td {\n",
       "    border: 1px solid black;\n",
       "    border-collapse: collapse;\n",
       "  }\n",
       "  th, td {\n",
       "    padding: 5px;\n",
       "  }\n",
       "  th {\n",
       "    text-align: left;\n",
       "  }\n",
       "</style><div class='table-result-container'><table class='table-result'><thead style='background-color: white'><tr><th>subtype</th><th>total_publicacoes</th><th>porcentagem</th></tr></thead><tbody><tr><td>ar</td><td>224613</td><td>89.56</td></tr><tr><td>re</td><td>26161</td><td>10.43</td></tr></tbody></table></div>"
      ]
     },
     "metadata": {
      "application/vnd.databricks.v1+output": {
       "addedWidgets": {},
       "aggData": [],
       "aggError": "",
       "aggOverflow": false,
       "aggSchema": [],
       "aggSeriesLimitReached": false,
       "aggType": "",
       "arguments": {},
       "columnCustomDisplayInfos": {},
       "data": [
        [
         "ar",
         224613,
         "89.56"
        ],
        [
         "re",
         26161,
         "10.43"
        ]
       ],
       "datasetInfos": [],
       "dbfsResultPath": null,
       "isJsonSchema": true,
       "metadata": {},
       "overflow": false,
       "plotOptions": {
        "customPlotOptions": {},
        "displayType": "table",
        "pivotAggregation": null,
        "pivotColumns": null,
        "xColumns": null,
        "yColumns": null
       },
       "removedWidgets": [],
       "schema": [
        {
         "metadata": "{}",
         "name": "subtype",
         "type": "\"string\""
        },
        {
         "metadata": "{}",
         "name": "total_publicacoes",
         "type": "\"long\""
        },
        {
         "metadata": "{}",
         "name": "porcentagem",
         "type": "\"decimal(27,2)\""
        }
       ],
       "type": "table"
      }
     },
     "output_type": "display_data"
    },
    {
     "output_type": "display_data",
     "data": {
      "text/plain": [
       "Databricks visualization. Run in Databricks to view."
      ]
     },
     "metadata": {
      "application/vnd.databricks.v1.subcommand+json": {
       "baseErrorDetails": null,
       "bindings": {},
       "collapsed": false,
       "command": "%sql WITH q AS (WITH total AS (\n  SELECT \n    subtype,\n    COUNT(*) AS total_publicacoes\n  FROM silver.fato_publications\n  GROUP BY subtype\n)\nSELECT \n  subtype,\n  total_publicacoes,\n  ROUND(total_publicacoes * 100.0 / (SELECT SUM(total_publicacoes) FROM total), 2) AS porcentagem\nFROM total\nORDER BY total_publicacoes DESC\nLIMIT 2) SELECT `subtype`,SUM(`porcentagem`) `column_74f60bf252`,`subtype` FROM q GROUP BY `subtype`",
       "commandTitle": "Visualization 1",
       "commandType": "auto",
       "commandVersion": 0,
       "commentThread": [],
       "commentsVisible": false,
       "contentSha256Hex": null,
       "customPlotOptions": {
        "redashChart": [
         {
          "key": "type",
          "value": "CHART"
         },
         {
          "key": "options",
          "value": {
           "alignYAxesAtZero": true,
           "coefficient": 1,
           "columnConfigurationMap": {
            "series": {
             "column": "subtype",
             "id": "column_74f60bf253"
            },
            "x": {
             "column": "subtype",
             "id": "column_74f60bf256"
            },
            "y": [
             {
              "column": "porcentagem",
              "id": "column_74f60bf252",
              "transform": "SUM"
             }
            ]
           },
           "dateTimeFormat": "DD/MM/YYYY HH:mm",
           "direction": {
            "type": "counterclockwise"
           },
           "error_y": {
            "type": "data",
            "visible": true
           },
           "globalSeriesType": "column",
           "isAggregationOn": true,
           "legend": {
            "traceorder": "normal"
           },
           "missingValuesAsZero": true,
           "numberFormat": "0,0.[00000]",
           "percentFormat": "0[.]00%",
           "series": {
            "error_y": {
             "type": "data",
             "visible": true
            },
            "stacking": null
           },
           "seriesOptions": {
            "column_74f60bf252": {
             "name": "porcentagem",
             "type": "column",
             "yAxis": 0
            }
           },
           "showDataLabels": false,
           "sizemode": "diameter",
           "sortX": true,
           "sortY": true,
           "swappedAxes": true,
           "textFormat": "",
           "useAggregationsUi": true,
           "valuesOptions": {},
           "version": 2,
           "xAxis": {
            "labels": {
             "enabled": true
            },
            "type": "-"
           },
           "yAxis": [
            {
             "type": "-"
            },
            {
             "opposite": true,
             "type": "-"
            }
           ]
          }
         }
        ]
       },
       "datasetPreviewNameToCmdIdMap": {},
       "diffDeletes": [],
       "diffInserts": [],
       "displayType": "redashChart",
       "error": null,
       "errorDetails": null,
       "errorSummary": null,
       "errorTraceType": null,
       "finishTime": 0,
       "globalVars": {},
       "guid": "",
       "height": "auto",
       "hideCommandCode": false,
       "hideCommandResult": false,
       "iPythonMetadata": null,
       "inputWidgets": {},
       "isLockedInExamMode": false,
       "latestUser": "a user",
       "latestUserId": null,
       "listResultMetadata": null,
       "metadata": {
        "byteLimit": 2048000,
        "implicitDf": true,
        "rowLimit": 10000
       },
       "nuid": "a1095bbb-6446-4a8b-80f0-742bdfb25980",
       "origId": 0,
       "parentHierarchy": [],
       "pivotAggregation": null,
       "pivotColumns": null,
       "position": 12.25,
       "resultDbfsErrorMessage": null,
       "resultDbfsStatus": "INLINED_IN_TREE",
       "results": null,
       "showCommandTitle": false,
       "startTime": 0,
       "state": "finished",
       "streamStates": {},
       "subcommandOptions": {
        "queryPlan": {
         "groups": [
          {
           "column": "subtype",
           "type": "column"
          },
          {
           "column": "subtype",
           "type": "column"
          }
         ],
         "selects": [
          {
           "column": "subtype",
           "type": "column"
          },
          {
           "alias": "column_74f60bf252",
           "args": [
            {
             "column": "porcentagem",
             "type": "column"
            }
           ],
           "function": "SUM",
           "type": "function"
          },
          {
           "column": "subtype",
           "type": "column"
          }
         ]
        }
       },
       "submitTime": 0,
       "subtype": "tableResultSubCmd.visualization",
       "tableResultIndex": 0,
       "tableResultSettingsMap": {},
       "useConsistentColors": false,
       "version": "CommandV1",
       "width": "auto",
       "workflows": [],
       "xColumns": null,
       "yColumns": null
      }
     },
     "output_type": "display_data"
    }
   ],
   "source": [
    "%sql\n",
    "WITH total AS (\n",
    "  SELECT \n",
    "    subtype,\n",
    "    COUNT(*) AS total_publicacoes\n",
    "  FROM silver.fato_publications\n",
    "  GROUP BY subtype\n",
    ")\n",
    "SELECT \n",
    "  subtype,\n",
    "  total_publicacoes,\n",
    "  ROUND(total_publicacoes * 100.0 / (SELECT SUM(total_publicacoes) FROM total), 2) AS porcentagem\n",
    "FROM total\n",
    "ORDER BY total_publicacoes DESC\n",
    "LIMIT 2;\n",
    "\n"
   ]
  },
  {
   "cell_type": "markdown",
   "metadata": {
    "application/vnd.databricks.v1+cell": {
     "cellMetadata": {
      "byteLimit": 2048000,
      "rowLimit": 10000
     },
     "inputWidgets": {},
     "nuid": "8be0cafc-3537-4832-949c-2860d1f8bbf6",
     "showTitle": false,
     "tableResultSettingsMap": {},
     "title": ""
    }
   },
   "source": [
    "## 3 - Distribuição de Publicações por Instituição\n",
    "- Esta consulta agrupa as publicações pelo nome da instituição (affilname) e indica quais instituições possuem mais publicações. As instituições foram extraídas das afiliações dos autores e agregadas. \n",
    "\n",
    "As 10 instituições com maior número de publicações refletem a concentração da produção científica em centros de pesquisa consolidados, no sul e sudeste. Instituições baseadas em São Paulo ocupam as 4 priemiras posições."
   ]
  },
  {
   "cell_type": "code",
   "execution_count": 0,
   "metadata": {
    "application/vnd.databricks.v1+cell": {
     "cellMetadata": {
      "byteLimit": 2048000,
      "implicitDf": true,
      "rowLimit": 10000
     },
     "inputWidgets": {},
     "nuid": "12ff0bdd-6bb5-4c07-979e-728a9a1892e5",
     "showTitle": false,
     "tableResultSettingsMap": {},
     "title": ""
    }
   },
   "outputs": [
    {
     "output_type": "display_data",
     "data": {
      "text/html": [
       "<style scoped>\n",
       "  .table-result-container {\n",
       "    max-height: 300px;\n",
       "    overflow: auto;\n",
       "  }\n",
       "  table, th, td {\n",
       "    border: 1px solid black;\n",
       "    border-collapse: collapse;\n",
       "  }\n",
       "  th, td {\n",
       "    padding: 5px;\n",
       "  }\n",
       "  th {\n",
       "    text-align: left;\n",
       "  }\n",
       "</style><div class='table-result-container'><table class='table-result'><thead style='background-color: white'><tr><th>instituicao</th><th>total_publicacoes</th></tr></thead><tbody><tr><td>Universidade de São Paulo</td><td>17245</td></tr><tr><td>Universidade Federal de São Paulo</td><td>5882</td></tr><tr><td>Universidade Estadual de Campinas</td><td>4374</td></tr><tr><td>\"Universidade Estadual Paulista \"\"Júlio de Mesquita Filho\"\"\"</td><td>3653</td></tr><tr><td>Universidade Federal de Minas Gerais</td><td>3277</td></tr><tr><td>Universidade Federal do Rio de Janeiro</td><td>2520</td></tr><tr><td>Fundacao Oswaldo Cruz</td><td>1957</td></tr><tr><td>Universidade Federal do Rio Grande do Sul</td><td>1551</td></tr><tr><td>Universidade Federal do Parana</td><td>1375</td></tr><tr><td>Universidade Federal de Santa Catarina</td><td>1360</td></tr></tbody></table></div>"
      ]
     },
     "metadata": {
      "application/vnd.databricks.v1+output": {
       "addedWidgets": {},
       "aggData": [],
       "aggError": "",
       "aggOverflow": false,
       "aggSchema": [],
       "aggSeriesLimitReached": false,
       "aggType": "",
       "arguments": {},
       "columnCustomDisplayInfos": {},
       "data": [
        [
         "Universidade de São Paulo",
         17245
        ],
        [
         "Universidade Federal de São Paulo",
         5882
        ],
        [
         "Universidade Estadual de Campinas",
         4374
        ],
        [
         "\"Universidade Estadual Paulista \"\"Júlio de Mesquita Filho\"\"\"",
         3653
        ],
        [
         "Universidade Federal de Minas Gerais",
         3277
        ],
        [
         "Universidade Federal do Rio de Janeiro",
         2520
        ],
        [
         "Fundacao Oswaldo Cruz",
         1957
        ],
        [
         "Universidade Federal do Rio Grande do Sul",
         1551
        ],
        [
         "Universidade Federal do Parana",
         1375
        ],
        [
         "Universidade Federal de Santa Catarina",
         1360
        ]
       ],
       "datasetInfos": [],
       "dbfsResultPath": null,
       "isJsonSchema": true,
       "metadata": {},
       "overflow": false,
       "plotOptions": {
        "customPlotOptions": {},
        "displayType": "table",
        "pivotAggregation": null,
        "pivotColumns": null,
        "xColumns": null,
        "yColumns": null
       },
       "removedWidgets": [],
       "schema": [
        {
         "metadata": "{}",
         "name": "instituicao",
         "type": "\"string\""
        },
        {
         "metadata": "{}",
         "name": "total_publicacoes",
         "type": "\"long\""
        }
       ],
       "type": "table"
      }
     },
     "output_type": "display_data"
    },
    {
     "output_type": "display_data",
     "data": {
      "text/plain": [
       "Databricks visualization. Run in Databricks to view."
      ]
     },
     "metadata": {
      "application/vnd.databricks.v1.subcommand+json": {
       "baseErrorDetails": null,
       "bindings": {},
       "collapsed": false,
       "command": "%sql WITH q AS (SELECT \n  TRIM(instituicao) AS instituicao,\n  COUNT(*) AS total_publicacoes\nFROM gold.publicacoes_integradas\nLATERAL VIEW explode(split(affilname, ';')) t AS instituicao\nGROUP BY TRIM(instituicao)\nORDER BY total_publicacoes DESC\nLIMIT 10) SELECT `instituicao`,SUM(`total_publicacoes`) `column_84de847c36` FROM q GROUP BY `instituicao`",
       "commandTitle": "Visualization 1",
       "commandType": "auto",
       "commandVersion": 0,
       "commentThread": [],
       "commentsVisible": false,
       "contentSha256Hex": null,
       "customPlotOptions": {
        "redashChart": [
         {
          "key": "type",
          "value": "CHART"
         },
         {
          "key": "options",
          "value": {
           "alignYAxesAtZero": true,
           "coefficient": 1,
           "columnConfigurationMap": {
            "x": {
             "column": "instituicao",
             "id": "column_84de847c35"
            },
            "y": [
             {
              "column": "total_publicacoes",
              "id": "column_84de847c36",
              "transform": "SUM"
             }
            ]
           },
           "dateTimeFormat": "DD/MM/YYYY HH:mm",
           "direction": {
            "type": "counterclockwise"
           },
           "error_y": {
            "type": "data",
            "visible": true
           },
           "globalSeriesType": "column",
           "isAggregationOn": true,
           "legend": {
            "traceorder": "normal"
           },
           "missingValuesAsZero": true,
           "numberFormat": "0,0.[00000]",
           "percentFormat": "0[.]00%",
           "reverseX": false,
           "series": {
            "error_y": {
             "type": "data",
             "visible": true
            },
            "stacking": null
           },
           "seriesOptions": {
            "column_84de847c36": {
             "name": "total_publicacoes",
             "yAxis": 0
            }
           },
           "showDataLabels": false,
           "sizemode": "diameter",
           "sortX": false,
           "sortY": true,
           "swappedAxes": true,
           "textFormat": "",
           "useAggregationsUi": true,
           "valuesOptions": {},
           "version": 2,
           "xAxis": {
            "labels": {
             "enabled": true
            },
            "type": "category"
           },
           "yAxis": [
            {
             "type": "-"
            },
            {
             "opposite": true,
             "type": "-"
            }
           ]
          }
         }
        ]
       },
       "datasetPreviewNameToCmdIdMap": {},
       "diffDeletes": [],
       "diffInserts": [],
       "displayType": "redashChart",
       "error": null,
       "errorDetails": null,
       "errorSummary": null,
       "errorTraceType": null,
       "finishTime": 0,
       "globalVars": {},
       "guid": "",
       "height": "auto",
       "hideCommandCode": false,
       "hideCommandResult": false,
       "iPythonMetadata": null,
       "inputWidgets": {},
       "isLockedInExamMode": false,
       "latestUser": "a user",
       "latestUserId": null,
       "listResultMetadata": null,
       "metadata": {
        "byteLimit": 2048000,
        "implicitDf": true,
        "rowLimit": 10000
       },
       "nuid": "2deb2dab-ee69-4ecc-b743-cdbce448fa54",
       "origId": 0,
       "parentHierarchy": [],
       "pivotAggregation": null,
       "pivotColumns": null,
       "position": 13.0,
       "resultDbfsErrorMessage": null,
       "resultDbfsStatus": "INLINED_IN_TREE",
       "results": null,
       "showCommandTitle": false,
       "startTime": 0,
       "state": "finished",
       "streamStates": {},
       "subcommandOptions": {
        "queryPlan": {
         "groups": [
          {
           "column": "instituicao",
           "type": "column"
          }
         ],
         "selects": [
          {
           "column": "instituicao",
           "type": "column"
          },
          {
           "alias": "column_84de847c36",
           "args": [
            {
             "column": "total_publicacoes",
             "type": "column"
            }
           ],
           "function": "SUM",
           "type": "function"
          }
         ]
        }
       },
       "submitTime": 0,
       "subtype": "tableResultSubCmd.visualization",
       "tableResultIndex": 0,
       "tableResultSettingsMap": {},
       "useConsistentColors": false,
       "version": "CommandV1",
       "width": "auto",
       "workflows": [],
       "xColumns": null,
       "yColumns": null
      }
     },
     "output_type": "display_data"
    }
   ],
   "source": [
    "%sql\n",
    "SELECT \n",
    "  TRIM(instituicao) AS instituicao,\n",
    "  COUNT(*) AS total_publicacoes\n",
    "FROM gold.publicacoes_integradas\n",
    "LATERAL VIEW explode(split(affilname, ';')) t AS instituicao\n",
    "GROUP BY TRIM(instituicao)\n",
    "ORDER BY total_publicacoes DESC\n",
    "LIMIT 10;\n"
   ]
  },
  {
   "cell_type": "markdown",
   "metadata": {
    "application/vnd.databricks.v1+cell": {
     "cellMetadata": {
      "byteLimit": 2048000,
      "rowLimit": 10000
     },
     "inputWidgets": {},
     "nuid": "f6c96228-f04b-43fc-96b2-6ff7453056cb",
     "showTitle": false,
     "tableResultSettingsMap": {},
     "title": ""
    }
   },
   "source": [
    "## 4 - Publicações por País\n",
    "- Agrupe as publicações pelo país de afiliação (affiliation_country) para verificar a atuação de cada país na produção científica. \n",
    "\n",
    "Similar à análise institucional, esta consulta revela os países com maior volume de publicações. Os resultados evidenciam uma forte presença de países com maior investimento em pesquisa, como Estados Unidos, Reino Unido e Canadá. O Brasil aparece na primeira posição por se tratar de um dataset específico de publicaçoes de autores brasileiros."
   ]
  },
  {
   "cell_type": "code",
   "execution_count": 0,
   "metadata": {
    "application/vnd.databricks.v1+cell": {
     "cellMetadata": {
      "byteLimit": 2048000,
      "implicitDf": true,
      "rowLimit": 10000
     },
     "inputWidgets": {},
     "nuid": "b19492bf-43d5-45ba-a756-9177d872989f",
     "showTitle": false,
     "tableResultSettingsMap": {},
     "title": ""
    }
   },
   "outputs": [
    {
     "output_type": "display_data",
     "data": {
      "text/html": [
       "<style scoped>\n",
       "  .table-result-container {\n",
       "    max-height: 300px;\n",
       "    overflow: auto;\n",
       "  }\n",
       "  table, th, td {\n",
       "    border: 1px solid black;\n",
       "    border-collapse: collapse;\n",
       "  }\n",
       "  th, td {\n",
       "    padding: 5px;\n",
       "  }\n",
       "  th {\n",
       "    text-align: left;\n",
       "  }\n",
       "</style><div class='table-result-container'><table class='table-result'><thead style='background-color: white'><tr><th>pais</th><th>total_publicacoes</th></tr></thead><tbody><tr><td>Brazil</td><td>249337</td></tr><tr><td>United States</td><td>34675</td></tr><tr><td>United Kingdom</td><td>12676</td></tr><tr><td>Canada</td><td>9230</td></tr><tr><td>Italy</td><td>8084</td></tr><tr><td>Spain</td><td>7694</td></tr><tr><td>Germany</td><td>7542</td></tr><tr><td>France</td><td>7480</td></tr><tr><td>Australia</td><td>6569</td></tr><tr><td>Portugal</td><td>5129</td></tr></tbody></table></div>"
      ]
     },
     "metadata": {
      "application/vnd.databricks.v1+output": {
       "addedWidgets": {},
       "aggData": [],
       "aggError": "",
       "aggOverflow": false,
       "aggSchema": [],
       "aggSeriesLimitReached": false,
       "aggType": "",
       "arguments": {},
       "columnCustomDisplayInfos": {},
       "data": [
        [
         "Brazil",
         249337
        ],
        [
         "United States",
         34675
        ],
        [
         "United Kingdom",
         12676
        ],
        [
         "Canada",
         9230
        ],
        [
         "Italy",
         8084
        ],
        [
         "Spain",
         7694
        ],
        [
         "Germany",
         7542
        ],
        [
         "France",
         7480
        ],
        [
         "Australia",
         6569
        ],
        [
         "Portugal",
         5129
        ]
       ],
       "datasetInfos": [],
       "dbfsResultPath": null,
       "isJsonSchema": true,
       "metadata": {},
       "overflow": false,
       "plotOptions": {
        "customPlotOptions": {},
        "displayType": "table",
        "pivotAggregation": null,
        "pivotColumns": null,
        "xColumns": null,
        "yColumns": null
       },
       "removedWidgets": [],
       "schema": [
        {
         "metadata": "{}",
         "name": "pais",
         "type": "\"string\""
        },
        {
         "metadata": "{}",
         "name": "total_publicacoes",
         "type": "\"long\""
        }
       ],
       "type": "table"
      }
     },
     "output_type": "display_data"
    },
    {
     "output_type": "display_data",
     "data": {
      "text/plain": [
       "Databricks visualization. Run in Databricks to view."
      ]
     },
     "metadata": {
      "application/vnd.databricks.v1.subcommand+json": {
       "baseErrorDetails": null,
       "bindings": {},
       "collapsed": false,
       "command": "%sql WITH q AS (SELECT \n  TRIM(c) AS pais,\n  COUNT(*) AS total_publicacoes\nFROM gold.publicacoes_integradas\nLATERAL VIEW explode(split(affiliation_country, ';')) t AS c\nGROUP BY TRIM(c)\nORDER BY total_publicacoes DESC\nLIMIT 10) SELECT `pais`,SUM(`total_publicacoes`) `column_84de847c42` FROM q GROUP BY `pais`",
       "commandTitle": "Visualization 1",
       "commandType": "auto",
       "commandVersion": 0,
       "commentThread": [],
       "commentsVisible": false,
       "contentSha256Hex": null,
       "customPlotOptions": {
        "redashChart": [
         {
          "key": "type",
          "value": "CHART"
         },
         {
          "key": "options",
          "value": {
           "alignYAxesAtZero": true,
           "coefficient": 1,
           "columnConfigurationMap": {
            "x": {
             "column": "pais",
             "id": "column_84de847c41"
            },
            "y": [
             {
              "column": "total_publicacoes",
              "id": "column_84de847c42",
              "transform": "SUM"
             }
            ]
           },
           "dateTimeFormat": "DD/MM/YYYY HH:mm",
           "direction": {
            "type": "counterclockwise"
           },
           "error_y": {
            "type": "data",
            "visible": true
           },
           "globalSeriesType": "column",
           "isAggregationOn": true,
           "legend": {
            "traceorder": "normal"
           },
           "missingValuesAsZero": true,
           "numberFormat": "0,0.[00000]",
           "percentFormat": "0[.]00%",
           "series": {
            "error_y": {
             "type": "data",
             "visible": true
            },
            "stacking": null
           },
           "seriesOptions": {
            "column_84de847c42": {
             "name": "total_publicacoes",
             "yAxis": 0
            }
           },
           "showDataLabels": false,
           "sizemode": "diameter",
           "sortX": false,
           "sortY": true,
           "swappedAxes": true,
           "textFormat": "",
           "useAggregationsUi": true,
           "valuesOptions": {},
           "version": 2,
           "xAxis": {
            "labels": {
             "enabled": true
            },
            "type": "-"
           },
           "yAxis": [
            {
             "type": "-"
            },
            {
             "opposite": true,
             "type": "-"
            }
           ]
          }
         }
        ]
       },
       "datasetPreviewNameToCmdIdMap": {},
       "diffDeletes": [],
       "diffInserts": [],
       "displayType": "redashChart",
       "error": null,
       "errorDetails": null,
       "errorSummary": null,
       "errorTraceType": null,
       "finishTime": 0,
       "globalVars": {},
       "guid": "",
       "height": "auto",
       "hideCommandCode": false,
       "hideCommandResult": false,
       "iPythonMetadata": null,
       "inputWidgets": {},
       "isLockedInExamMode": false,
       "latestUser": "a user",
       "latestUserId": null,
       "listResultMetadata": null,
       "metadata": {
        "byteLimit": 2048000,
        "implicitDf": true,
        "rowLimit": 10000
       },
       "nuid": "e2202b0d-5e4b-403e-9fde-4a9b06b6a97c",
       "origId": 0,
       "parentHierarchy": [],
       "pivotAggregation": null,
       "pivotColumns": null,
       "position": 15.0,
       "resultDbfsErrorMessage": null,
       "resultDbfsStatus": "INLINED_IN_TREE",
       "results": null,
       "showCommandTitle": false,
       "startTime": 0,
       "state": "finished",
       "streamStates": {},
       "subcommandOptions": {
        "queryPlan": {
         "groups": [
          {
           "column": "pais",
           "type": "column"
          }
         ],
         "selects": [
          {
           "column": "pais",
           "type": "column"
          },
          {
           "alias": "column_84de847c42",
           "args": [
            {
             "column": "total_publicacoes",
             "type": "column"
            }
           ],
           "function": "SUM",
           "type": "function"
          }
         ]
        }
       },
       "submitTime": 0,
       "subtype": "tableResultSubCmd.visualization",
       "tableResultIndex": 0,
       "tableResultSettingsMap": {},
       "useConsistentColors": false,
       "version": "CommandV1",
       "width": "auto",
       "workflows": [],
       "xColumns": null,
       "yColumns": null
      }
     },
     "output_type": "display_data"
    }
   ],
   "source": [
    "%sql\n",
    "SELECT \n",
    "  TRIM(c) AS pais,\n",
    "  COUNT(*) AS total_publicacoes\n",
    "FROM gold.publicacoes_integradas\n",
    "LATERAL VIEW explode(split(affiliation_country, ';')) t AS c\n",
    "GROUP BY TRIM(c)\n",
    "ORDER BY total_publicacoes DESC\n",
    "LIMIT 10;\n"
   ]
  },
  {
   "cell_type": "markdown",
   "metadata": {
    "application/vnd.databricks.v1+cell": {
     "cellMetadata": {
      "byteLimit": 2048000,
      "rowLimit": 10000
     },
     "inputWidgets": {},
     "nuid": "e6f4a3e8-5bf7-4a28-a3f6-474985f45309",
     "showTitle": false,
     "tableResultSettingsMap": {},
     "title": ""
    }
   },
   "source": [
    "## 5 - Top Artigos por Número de Citações\n",
    "- Essa consulta lista os artigos com maior impacto, ordenando-os pelo número de citações. \n",
    "\n",
    "Foram destacados os cinco artigos com maior número de citações. Eles abordam temas relevantes como oncologia, obesidade, COVID-19 e anticoagulantes, sugerindo alto impacto na literatura científica internacional."
   ]
  },
  {
   "cell_type": "code",
   "execution_count": 0,
   "metadata": {
    "application/vnd.databricks.v1+cell": {
     "cellMetadata": {
      "byteLimit": 2048000,
      "implicitDf": true,
      "rowLimit": 10000
     },
     "inputWidgets": {},
     "nuid": "fc5aa88c-1dfc-4ea6-8ba0-5a631ab90fa8",
     "showTitle": false,
     "tableResultSettingsMap": {},
     "title": ""
    }
   },
   "outputs": [
    {
     "output_type": "display_data",
     "data": {
      "text/html": [
       "<style scoped>\n",
       "  .table-result-container {\n",
       "    max-height: 300px;\n",
       "    overflow: auto;\n",
       "  }\n",
       "  table, th, td {\n",
       "    border: 1px solid black;\n",
       "    border-collapse: collapse;\n",
       "  }\n",
       "  th, td {\n",
       "    padding: 5px;\n",
       "  }\n",
       "  th {\n",
       "    text-align: left;\n",
       "  }\n",
       "</style><div class='table-result-container'><table class='table-result'><thead style='background-color: white'><tr><th>title</th><th>citedby_count</th></tr></thead><tbody><tr><td>Sorafenib in advanced hepatocellular carcinoma</td><td>9146</td></tr><tr><td>Global, regional, and national prevalence of overweight and obesity in children and adults during 1980-2013: A systematic analysis for the Global Burden of Disease Study 2013</td><td>8178</td></tr><tr><td>Safety and efficacy of the BNT162b2 mRNA Covid-19 vaccine</td><td>7400</td></tr><tr><td>Apixaban versus warfarin in patients with atrial fibrillation</td><td>6743</td></tr><tr><td>Disability-adjusted life years (DALYs) for 291 diseases and injuries in 21 regions, 1990-2010: A systematic analysis for the Global Burden of Disease Study 2010</td><td>6407</td></tr></tbody></table></div>"
      ]
     },
     "metadata": {
      "application/vnd.databricks.v1+output": {
       "addedWidgets": {},
       "aggData": [],
       "aggError": "",
       "aggOverflow": false,
       "aggSchema": [],
       "aggSeriesLimitReached": false,
       "aggType": "",
       "arguments": {},
       "columnCustomDisplayInfos": {},
       "data": [
        [
         "Sorafenib in advanced hepatocellular carcinoma",
         9146
        ],
        [
         "Global, regional, and national prevalence of overweight and obesity in children and adults during 1980-2013: A systematic analysis for the Global Burden of Disease Study 2013",
         8178
        ],
        [
         "Safety and efficacy of the BNT162b2 mRNA Covid-19 vaccine",
         7400
        ],
        [
         "Apixaban versus warfarin in patients with atrial fibrillation",
         6743
        ],
        [
         "Disability-adjusted life years (DALYs) for 291 diseases and injuries in 21 regions, 1990-2010: A systematic analysis for the Global Burden of Disease Study 2010",
         6407
        ]
       ],
       "datasetInfos": [],
       "dbfsResultPath": null,
       "isJsonSchema": true,
       "metadata": {},
       "overflow": false,
       "plotOptions": {
        "customPlotOptions": {},
        "displayType": "table",
        "pivotAggregation": null,
        "pivotColumns": null,
        "xColumns": null,
        "yColumns": null
       },
       "removedWidgets": [],
       "schema": [
        {
         "metadata": "{}",
         "name": "title",
         "type": "\"string\""
        },
        {
         "metadata": "{}",
         "name": "citedby_count",
         "type": "\"integer\""
        }
       ],
       "type": "table"
      }
     },
     "output_type": "display_data"
    },
    {
     "output_type": "display_data",
     "data": {
      "text/plain": [
       "Databricks visualization. Run in Databricks to view."
      ]
     },
     "metadata": {
      "application/vnd.databricks.v1.subcommand+json": {
       "baseErrorDetails": null,
       "bindings": {},
       "collapsed": false,
       "command": "%sql\nSELECT \n  title,\n  citedby_count\nFROM gold.publicacoes_integradas\nORDER BY citedby_count DESC\nLIMIT 5;\n",
       "commandTitle": "Visualization 1",
       "commandType": "auto",
       "commandVersion": 0,
       "commentThread": [],
       "commentsVisible": false,
       "contentSha256Hex": null,
       "customPlotOptions": {
        "redashChart": [
         {
          "key": "type",
          "value": "TABLE"
         },
         {
          "key": "options",
          "value": {
           "columns": [
            {
             "alignContent": "left",
             "allowHTML": false,
             "allowSearch": false,
             "booleanValues": [
              "false",
              "true"
             ],
             "displayAs": "string",
             "highlightLinks": false,
             "imageHeight": "",
             "imageTitleTemplate": "{{ @ }}",
             "imageUrlTemplate": "{{ @ }}",
             "imageWidth": "",
             "linkOpenInNewTab": true,
             "linkTextTemplate": "{{ @ }}",
             "linkTitleTemplate": "{{ @ }}",
             "linkUrlTemplate": "{{ @ }}",
             "name": "title",
             "order": 100000,
             "preserveWhitespace": false,
             "title": "title",
             "type": "string",
             "useMonospaceFont": false,
             "visible": true
            },
            {
             "alignContent": "right",
             "allowHTML": false,
             "allowSearch": false,
             "booleanValues": [
              "false",
              "true"
             ],
             "displayAs": "number",
             "highlightLinks": false,
             "imageHeight": "",
             "imageTitleTemplate": "{{ @ }}",
             "imageUrlTemplate": "{{ @ }}",
             "imageWidth": "",
             "linkOpenInNewTab": true,
             "linkTextTemplate": "{{ @ }}",
             "linkTitleTemplate": "{{ @ }}",
             "linkUrlTemplate": "{{ @ }}",
             "name": "citedby_count",
             "numberFormat": "0",
             "order": 100001,
             "preserveWhitespace": false,
             "title": "citedby_count",
             "type": "integer",
             "useMonospaceFont": false,
             "visible": true
            }
           ],
           "condensed": true,
           "itemsPerPage": 25,
           "paginationSize": "default",
           "version": 2,
           "withRowNumber": false
          }
         }
        ]
       },
       "datasetPreviewNameToCmdIdMap": {},
       "diffDeletes": [],
       "diffInserts": [],
       "displayType": "redashChart",
       "error": null,
       "errorDetails": null,
       "errorSummary": null,
       "errorTraceType": null,
       "finishTime": 0,
       "globalVars": {},
       "guid": "",
       "height": "auto",
       "hideCommandCode": false,
       "hideCommandResult": false,
       "iPythonMetadata": null,
       "inputWidgets": {},
       "isLockedInExamMode": false,
       "latestUser": "a user",
       "latestUserId": null,
       "listResultMetadata": null,
       "metadata": {
        "byteLimit": 2048000,
        "implicitDf": true,
        "rowLimit": 10000
       },
       "nuid": "4d69f428-67e6-446e-a4ed-fb5ce6c0db10",
       "origId": 0,
       "parentHierarchy": [],
       "pivotAggregation": null,
       "pivotColumns": null,
       "position": 16.0,
       "resultDbfsErrorMessage": null,
       "resultDbfsStatus": "INLINED_IN_TREE",
       "results": null,
       "showCommandTitle": false,
       "startTime": 0,
       "state": "finished",
       "streamStates": {},
       "subcommandOptions": {},
       "submitTime": 0,
       "subtype": "tableResultSubCmd.visualization",
       "tableResultIndex": 0,
       "tableResultSettingsMap": {},
       "useConsistentColors": false,
       "version": "CommandV1",
       "width": "auto",
       "workflows": [],
       "xColumns": null,
       "yColumns": null
      }
     },
     "output_type": "display_data"
    }
   ],
   "source": [
    "%sql\n",
    "SELECT \n",
    "  title,\n",
    "  citedby_count\n",
    "FROM gold.publicacoes_integradas\n",
    "ORDER BY citedby_count DESC\n",
    "LIMIT 5;\n"
   ]
  },
  {
   "cell_type": "markdown",
   "metadata": {
    "application/vnd.databricks.v1+cell": {
     "cellMetadata": {
      "byteLimit": 2048000,
      "rowLimit": 10000
     },
     "inputWidgets": {},
     "nuid": "d70dfebb-5425-4c33-976b-14f9ceebccb1",
     "showTitle": false,
     "tableResultSettingsMap": {},
     "title": ""
    }
   },
   "source": [
    "## 6 - Análise de Financiamento – Publicações por Sponsor\n",
    "- Caso sua dimensão de financiamento inclua a coluna fund_sponsor, esta consulta agrupa as publicações por sponsor e conta quantas publicações estão associadas a cada um.\n",
    "\n",
    "A análise das agencias de financiamneto identificou os principais financiadores relacionados às publicações. Os dados permitem observar a atuação de agências nacionais e internacionais de fomento à pesquisa."
   ]
  },
  {
   "cell_type": "code",
   "execution_count": 0,
   "metadata": {
    "application/vnd.databricks.v1+cell": {
     "cellMetadata": {
      "byteLimit": 2048000,
      "implicitDf": true,
      "rowLimit": 10000
     },
     "inputWidgets": {},
     "nuid": "fd6607fd-18f1-400c-996e-dc4e10a879eb",
     "showTitle": false,
     "tableResultSettingsMap": {},
     "title": ""
    }
   },
   "outputs": [
    {
     "output_type": "display_data",
     "data": {
      "text/html": [
       "<style scoped>\n",
       "  .table-result-container {\n",
       "    max-height: 300px;\n",
       "    overflow: auto;\n",
       "  }\n",
       "  table, th, td {\n",
       "    border: 1px solid black;\n",
       "    border-collapse: collapse;\n",
       "  }\n",
       "  th, td {\n",
       "    padding: 5px;\n",
       "  }\n",
       "  th {\n",
       "    text-align: left;\n",
       "  }\n",
       "</style><div class='table-result-container'><table class='table-result'><thead style='background-color: white'><tr><th>fund_sponsor</th><th>total_publicacoes</th></tr></thead><tbody><tr><td>null</td><td>175755</td></tr><tr><td>Coordenação de Aperfeiçoamento de Pessoal de Nível Superior</td><td>15984</td></tr><tr><td>Fundação de Amparo à Pesquisa do Estado de São Paulo</td><td>15676</td></tr><tr><td>Conselho Nacional de Desenvolvimento Científico e Tecnológico</td><td>10829</td></tr><tr><td>National Institutes of Health</td><td>4832</td></tr><tr><td>National Institute of Allergy and Infectious Diseases</td><td>973</td></tr><tr><td>National Heart, Lung, and Blood Institute</td><td>773</td></tr><tr><td>National Cancer Institute</td><td>765</td></tr><tr><td>Fundação Carlos Chagas Filho de Amparo à Pesquisa do Estado do Rio de Janeiro</td><td>566</td></tr><tr><td>Medical Research Council</td><td>551</td></tr></tbody></table></div>"
      ]
     },
     "metadata": {
      "application/vnd.databricks.v1+output": {
       "addedWidgets": {},
       "aggData": [],
       "aggError": "",
       "aggOverflow": false,
       "aggSchema": [],
       "aggSeriesLimitReached": false,
       "aggType": "",
       "arguments": {},
       "columnCustomDisplayInfos": {},
       "data": [
        [
         null,
         175755
        ],
        [
         "Coordenação de Aperfeiçoamento de Pessoal de Nível Superior",
         15984
        ],
        [
         "Fundação de Amparo à Pesquisa do Estado de São Paulo",
         15676
        ],
        [
         "Conselho Nacional de Desenvolvimento Científico e Tecnológico",
         10829
        ],
        [
         "National Institutes of Health",
         4832
        ],
        [
         "National Institute of Allergy and Infectious Diseases",
         973
        ],
        [
         "National Heart, Lung, and Blood Institute",
         773
        ],
        [
         "National Cancer Institute",
         765
        ],
        [
         "Fundação Carlos Chagas Filho de Amparo à Pesquisa do Estado do Rio de Janeiro",
         566
        ],
        [
         "Medical Research Council",
         551
        ]
       ],
       "datasetInfos": [],
       "dbfsResultPath": null,
       "isJsonSchema": true,
       "metadata": {},
       "overflow": false,
       "plotOptions": {
        "customPlotOptions": {},
        "displayType": "table",
        "pivotAggregation": null,
        "pivotColumns": null,
        "xColumns": null,
        "yColumns": null
       },
       "removedWidgets": [],
       "schema": [
        {
         "metadata": "{}",
         "name": "fund_sponsor",
         "type": "\"string\""
        },
        {
         "metadata": "{}",
         "name": "total_publicacoes",
         "type": "\"long\""
        }
       ],
       "type": "table"
      }
     },
     "output_type": "display_data"
    },
    {
     "output_type": "display_data",
     "data": {
      "text/plain": [
       "Databricks visualization. Run in Databricks to view."
      ]
     },
     "metadata": {
      "application/vnd.databricks.v1.subcommand+json": {
       "baseErrorDetails": null,
       "bindings": {},
       "collapsed": false,
       "command": "%sql WITH q AS (SELECT \n  fund_sponsor,\n  COUNT(*) AS total_publicacoes\nFROM gold.publicacoes_integradas\nGROUP BY fund_sponsor\nORDER BY total_publicacoes DESC\nLIMIT 10) SELECT `fund_sponsor`,SUM(`total_publicacoes`) `column_84de847c51` FROM q GROUP BY `fund_sponsor`",
       "commandTitle": "Visualization 1",
       "commandType": "auto",
       "commandVersion": 0,
       "commentThread": [],
       "commentsVisible": false,
       "contentSha256Hex": null,
       "customPlotOptions": {
        "redashChart": [
         {
          "key": "type",
          "value": "CHART"
         },
         {
          "key": "options",
          "value": {
           "alignYAxesAtZero": true,
           "coefficient": 1,
           "columnConfigurationMap": {
            "x": {
             "column": "fund_sponsor",
             "id": "column_84de847c50"
            },
            "y": [
             {
              "column": "total_publicacoes",
              "id": "column_84de847c51",
              "transform": "SUM"
             }
            ]
           },
           "dateTimeFormat": "DD/MM/YYYY HH:mm",
           "direction": {
            "type": "counterclockwise"
           },
           "error_y": {
            "type": "data",
            "visible": true
           },
           "globalSeriesType": "column",
           "isAggregationOn": true,
           "legend": {
            "traceorder": "normal"
           },
           "missingValuesAsZero": true,
           "numberFormat": "0,0.[00000]",
           "percentFormat": "0[.]00%",
           "series": {
            "error_y": {
             "type": "data",
             "visible": true
            },
            "stacking": null
           },
           "seriesOptions": {
            "column_84de847c51": {
             "name": "total_publicacoes",
             "yAxis": 0
            }
           },
           "showDataLabels": false,
           "sizemode": "diameter",
           "sortX": false,
           "sortY": true,
           "swappedAxes": true,
           "textFormat": "",
           "useAggregationsUi": true,
           "valuesOptions": {},
           "version": 2,
           "xAxis": {
            "labels": {
             "enabled": true
            },
            "type": "-"
           },
           "yAxis": [
            {
             "type": "-"
            },
            {
             "opposite": true,
             "type": "-"
            }
           ]
          }
         }
        ]
       },
       "datasetPreviewNameToCmdIdMap": {},
       "diffDeletes": [],
       "diffInserts": [],
       "displayType": "redashChart",
       "error": null,
       "errorDetails": null,
       "errorSummary": null,
       "errorTraceType": null,
       "finishTime": 0,
       "globalVars": {},
       "guid": "",
       "height": "auto",
       "hideCommandCode": false,
       "hideCommandResult": false,
       "iPythonMetadata": null,
       "inputWidgets": {},
       "isLockedInExamMode": false,
       "latestUser": "a user",
       "latestUserId": null,
       "listResultMetadata": null,
       "metadata": {
        "byteLimit": 2048000,
        "implicitDf": true,
        "rowLimit": 10000
       },
       "nuid": "bacfcd0a-ea0e-458b-9e87-167e0212b377",
       "origId": 0,
       "parentHierarchy": [],
       "pivotAggregation": null,
       "pivotColumns": null,
       "position": 17.0,
       "resultDbfsErrorMessage": null,
       "resultDbfsStatus": "INLINED_IN_TREE",
       "results": null,
       "showCommandTitle": false,
       "startTime": 0,
       "state": "finished",
       "streamStates": {},
       "subcommandOptions": {
        "queryPlan": {
         "groups": [
          {
           "column": "fund_sponsor",
           "type": "column"
          }
         ],
         "selects": [
          {
           "column": "fund_sponsor",
           "type": "column"
          },
          {
           "alias": "column_84de847c51",
           "args": [
            {
             "column": "total_publicacoes",
             "type": "column"
            }
           ],
           "function": "SUM",
           "type": "function"
          }
         ]
        }
       },
       "submitTime": 0,
       "subtype": "tableResultSubCmd.visualization",
       "tableResultIndex": 0,
       "tableResultSettingsMap": {},
       "useConsistentColors": false,
       "version": "CommandV1",
       "width": "auto",
       "workflows": [],
       "xColumns": null,
       "yColumns": null
      }
     },
     "output_type": "display_data"
    }
   ],
   "source": [
    "%sql\n",
    "SELECT \n",
    "  fund_sponsor,\n",
    "  COUNT(*) AS total_publicacoes\n",
    "FROM gold.publicacoes_integradas\n",
    "GROUP BY fund_sponsor\n",
    "ORDER BY total_publicacoes DESC\n",
    "LIMIT 10;\n"
   ]
  },
  {
   "cell_type": "markdown",
   "metadata": {
    "application/vnd.databricks.v1+cell": {
     "cellMetadata": {
      "byteLimit": 2048000,
      "rowLimit": 10000
     },
     "inputWidgets": {},
     "nuid": "2d70c68e-b39b-410c-96b1-8e4534cc7de0",
     "showTitle": false,
     "tableResultSettingsMap": {},
     "title": ""
    }
   },
   "source": [
    "## 7 - Evolução da Média de Citações ao Longo dos Anos\n",
    "- Essa consulta agrupa as publicações pelo ano (usando o campo Year_Cleaned) e calcula a média de citações por ano. \n",
    "\n",
    "Essa consulta revela a variação do impacto médio dos artigos ao longo do tempo, calculando a média de citações por ano. Isso ajuda a avaliar não apenas a quantidade, mas também a qualidade e influência das publicações."
   ]
  },
  {
   "cell_type": "code",
   "execution_count": 0,
   "metadata": {
    "application/vnd.databricks.v1+cell": {
     "cellMetadata": {
      "byteLimit": 2048000,
      "implicitDf": true,
      "rowLimit": 10000
     },
     "inputWidgets": {},
     "nuid": "f408f04f-2edb-42ba-9bfe-7108acc73f58",
     "showTitle": false,
     "tableResultSettingsMap": {},
     "title": ""
    }
   },
   "outputs": [
    {
     "output_type": "display_data",
     "data": {
      "text/html": [
       "<style scoped>\n",
       "  .table-result-container {\n",
       "    max-height: 300px;\n",
       "    overflow: auto;\n",
       "  }\n",
       "  table, th, td {\n",
       "    border: 1px solid black;\n",
       "    border-collapse: collapse;\n",
       "  }\n",
       "  th, td {\n",
       "    padding: 5px;\n",
       "  }\n",
       "  th {\n",
       "    text-align: left;\n",
       "  }\n",
       "</style><div class='table-result-container'><table class='table-result'><thead style='background-color: white'><tr><th>ano</th><th>media_citacoes</th></tr></thead><tbody><tr><td>null</td><td>0.0</td></tr><tr><td>2005</td><td>33.427635497319834</td></tr><tr><td>2006</td><td>28.083989192998942</td></tr><tr><td>2007</td><td>27.59885535900104</td></tr><tr><td>2008</td><td>27.870597945707996</td></tr><tr><td>2009</td><td>24.87550268096515</td></tr><tr><td>2010</td><td>25.350011819399576</td></tr><tr><td>2011</td><td>23.70692500897022</td></tr><tr><td>2012</td><td>23.69159005788219</td></tr><tr><td>2013</td><td>23.746269678302532</td></tr><tr><td>2014</td><td>22.647342680143463</td></tr><tr><td>2015</td><td>23.03000126855258</td></tr><tr><td>2016</td><td>22.19459227992904</td></tr><tr><td>2017</td><td>21.745789199513805</td></tr><tr><td>2018</td><td>16.834494773519165</td></tr></tbody></table></div>"
      ]
     },
     "metadata": {
      "application/vnd.databricks.v1+output": {
       "addedWidgets": {},
       "aggData": [],
       "aggError": "",
       "aggOverflow": false,
       "aggSchema": [],
       "aggSeriesLimitReached": false,
       "aggType": "",
       "arguments": {},
       "columnCustomDisplayInfos": {},
       "data": [
        [
         null,
         0.0
        ],
        [
         2005,
         33.427635497319834
        ],
        [
         2006,
         28.083989192998942
        ],
        [
         2007,
         27.59885535900104
        ],
        [
         2008,
         27.870597945707996
        ],
        [
         2009,
         24.87550268096515
        ],
        [
         2010,
         25.350011819399576
        ],
        [
         2011,
         23.70692500897022
        ],
        [
         2012,
         23.69159005788219
        ],
        [
         2013,
         23.746269678302532
        ],
        [
         2014,
         22.647342680143463
        ],
        [
         2015,
         23.03000126855258
        ],
        [
         2016,
         22.19459227992904
        ],
        [
         2017,
         21.745789199513805
        ],
        [
         2018,
         16.834494773519165
        ]
       ],
       "datasetInfos": [],
       "dbfsResultPath": null,
       "isJsonSchema": true,
       "metadata": {},
       "overflow": false,
       "plotOptions": {
        "customPlotOptions": {},
        "displayType": "table",
        "pivotAggregation": null,
        "pivotColumns": null,
        "xColumns": null,
        "yColumns": null
       },
       "removedWidgets": [],
       "schema": [
        {
         "metadata": "{}",
         "name": "ano",
         "type": "\"integer\""
        },
        {
         "metadata": "{}",
         "name": "media_citacoes",
         "type": "\"double\""
        }
       ],
       "type": "table"
      }
     },
     "output_type": "display_data"
    },
    {
     "output_type": "display_data",
     "data": {
      "text/plain": [
       "Databricks visualization. Run in Databricks to view."
      ]
     },
     "metadata": {
      "application/vnd.databricks.v1.subcommand+json": {
       "baseErrorDetails": null,
       "bindings": {},
       "collapsed": false,
       "command": "%sql WITH q AS (SELECT \n  Year_Cleaned AS ano,\n  AVG(citedby_count) AS media_citacoes\nFROM gold.publicacoes_integradas\nGROUP BY Year_Cleaned\nORDER BY ano\nLIMIT 15) SELECT `ano`,`media_citacoes` FROM q",
       "commandTitle": "Visualization 1",
       "commandType": "auto",
       "commandVersion": 0,
       "commentThread": [],
       "commentsVisible": false,
       "contentSha256Hex": null,
       "customPlotOptions": {
        "redashChart": [
         {
          "key": "type",
          "value": "CHART"
         },
         {
          "key": "options",
          "value": {
           "alignYAxesAtZero": true,
           "coefficient": 1,
           "columnConfigurationMap": {
            "x": {
             "column": "ano",
             "id": "column_84de847c53"
            },
            "y": [
             {
              "column": "media_citacoes",
              "id": "column_84de847c56"
             }
            ]
           },
           "dateTimeFormat": "DD/MM/YYYY HH:mm",
           "direction": {
            "type": "counterclockwise"
           },
           "error_y": {
            "type": "data",
            "visible": true
           },
           "globalSeriesType": "scatter",
           "legend": {
            "traceorder": "normal"
           },
           "missingValuesAsZero": true,
           "numBins": 10,
           "numberFormat": "0,0.[00000]",
           "percentFormat": "0[.]00%",
           "series": {
            "error_y": {
             "type": "data",
             "visible": true
            },
            "stacking": null
           },
           "seriesOptions": {
            "column_84de847c54": {
             "name": "media_citacoes",
             "type": "scatter",
             "yAxis": 0
            },
            "media_citacoes": {
             "color": "#3BD973",
             "type": "scatter",
             "yAxis": 0
            }
           },
           "showDataLabels": false,
           "sizemode": "diameter",
           "sortX": true,
           "sortY": true,
           "swappedAxes": false,
           "textFormat": "",
           "useAggregationsUi": true,
           "valuesOptions": {},
           "version": 2,
           "xAxis": {
            "labels": {
             "enabled": true
            },
            "type": "-"
           },
           "yAxis": [
            {
             "type": "-"
            },
            {
             "opposite": true,
             "type": "-"
            }
           ]
          }
         }
        ]
       },
       "datasetPreviewNameToCmdIdMap": {},
       "diffDeletes": [],
       "diffInserts": [],
       "displayType": "redashChart",
       "error": null,
       "errorDetails": null,
       "errorSummary": null,
       "errorTraceType": null,
       "finishTime": 0,
       "globalVars": {},
       "guid": "",
       "height": "auto",
       "hideCommandCode": false,
       "hideCommandResult": false,
       "iPythonMetadata": null,
       "inputWidgets": {},
       "isLockedInExamMode": false,
       "latestUser": "a user",
       "latestUserId": null,
       "listResultMetadata": null,
       "metadata": {
        "byteLimit": 2048000,
        "implicitDf": true,
        "rowLimit": 10000
       },
       "nuid": "1fde7769-99b0-46de-87ed-dd493d5561b6",
       "origId": 0,
       "parentHierarchy": [],
       "pivotAggregation": null,
       "pivotColumns": null,
       "position": 18.0,
       "resultDbfsErrorMessage": null,
       "resultDbfsStatus": "INLINED_IN_TREE",
       "results": null,
       "showCommandTitle": false,
       "startTime": 0,
       "state": "finished",
       "streamStates": {},
       "subcommandOptions": {
        "queryPlan": {
         "selects": [
          {
           "column": "ano",
           "type": "column"
          },
          {
           "column": "media_citacoes",
           "type": "column"
          }
         ]
        }
       },
       "submitTime": 0,
       "subtype": "tableResultSubCmd.visualization",
       "tableResultIndex": 0,
       "tableResultSettingsMap": {},
       "useConsistentColors": false,
       "version": "CommandV1",
       "width": "auto",
       "workflows": [],
       "xColumns": null,
       "yColumns": null
      }
     },
     "output_type": "display_data"
    }
   ],
   "source": [
    "%sql\n",
    "SELECT \n",
    "  Year_Cleaned AS ano,\n",
    "  AVG(citedby_count) AS media_citacoes\n",
    "FROM gold.publicacoes_integradas\n",
    "GROUP BY Year_Cleaned\n",
    "ORDER BY ano\n",
    "LIMIT 15;\n"
   ]
  },
  {
   "cell_type": "markdown",
   "metadata": {
    "application/vnd.databricks.v1+cell": {
     "cellMetadata": {
      "byteLimit": 2048000,
      "rowLimit": 10000
     },
     "inputWidgets": {},
     "nuid": "1fe62876-19f8-4862-9d26-16b53c702752",
     "showTitle": false,
     "tableResultSettingsMap": {},
     "title": ""
    }
   },
   "source": [
    "## 8 - Temas de pesquisa\n",
    "- Nessa abordagem, usamos split para dividir os títulos em palavras e explode para gerar uma linha por palavra. Em seguida, agrupamos e contamos as ocorrências. Na visualização as palavars mais frequentes nos títulos das publicações (acima de 3 letras).\n",
    "\n"
   ]
  },
  {
   "cell_type": "code",
   "execution_count": 0,
   "metadata": {
    "application/vnd.databricks.v1+cell": {
     "cellMetadata": {
      "byteLimit": 2048000,
      "implicitDf": true,
      "rowLimit": 10000
     },
     "inputWidgets": {},
     "nuid": "c6b4947c-9589-469f-a7c7-e42dcff0e758",
     "showTitle": false,
     "tableResultSettingsMap": {},
     "title": ""
    }
   },
   "outputs": [
    {
     "output_type": "display_data",
     "data": {
      "text/html": [
       "<style scoped>\n",
       "  .table-result-container {\n",
       "    max-height: 300px;\n",
       "    overflow: auto;\n",
       "  }\n",
       "  table, th, td {\n",
       "    border: 1px solid black;\n",
       "    border-collapse: collapse;\n",
       "  }\n",
       "  th, td {\n",
       "    padding: 5px;\n",
       "  }\n",
       "  th {\n",
       "    text-align: left;\n",
       "  }\n",
       "</style><div class='table-result-container'><table class='table-result'><thead style='background-color: white'><tr><th>word</th><th>frequency</th></tr></thead><tbody><tr><td>of</td><td>218563</td></tr><tr><td>in</td><td>168531</td></tr><tr><td>and</td><td>147448</td></tr><tr><td>the</td><td>115593</td></tr><tr><td>a</td><td>73739</td></tr><tr><td>with</td><td>55593</td></tr><tr><td>for</td><td>37709</td></tr><tr><td>to</td><td>31975</td></tr><tr><td>on</td><td>28986</td></tr><tr><td>patients</td><td>25080</td></tr><tr><td>brazil</td><td>21596</td></tr><tr><td>study</td><td>19921</td></tr><tr><td>from</td><td>17259</td></tr><tr><td>by</td><td>15457</td></tr><tr><td>an</td><td>13840</td></tr><tr><td>health</td><td>13445</td></tr><tr><td>analysis</td><td>13178</td></tr><tr><td>brazilian</td><td>13002</td></tr><tr><td>treatment</td><td>11712</td></tr><tr><td>disease</td><td>11707</td></tr><tr><td>review</td><td>11330</td></tr><tr><td>associated</td><td>10931</td></tr><tr><td>clinical</td><td>10595</td></tr><tr><td>s</td><td>9438</td></tr><tr><td>after</td><td>9232</td></tr><tr><td>effects</td><td>9073</td></tr><tr><td>between</td><td>8689</td></tr><tr><td>case</td><td>8542</td></tr><tr><td>evaluation</td><td>8473</td></tr><tr><td>children</td><td>8451</td></tr><tr><td>cancer</td><td>8142</td></tr><tr><td>factors</td><td>7916</td></tr><tr><td>care</td><td>7661</td></tr><tr><td>as</td><td>7567</td></tr><tr><td>risk</td><td>7369</td></tr><tr><td>women</td><td>7200</td></tr><tr><td>is</td><td>7085</td></tr><tr><td>among</td><td>6892</td></tr><tr><td>during</td><td>6880</td></tr><tr><td>effect</td><td>6868</td></tr><tr><td>report</td><td>6852</td></tr><tr><td>cell</td><td>6798</td></tr><tr><td>syndrome</td><td>6648</td></tr><tr><td>systematic</td><td>6459</td></tr><tr><td>rats</td><td>6245</td></tr><tr><td>activity</td><td>6128</td></tr><tr><td>therapy</td><td>6070</td></tr><tr><td>use</td><td>5922</td></tr><tr><td>1</td><td>5913</td></tr><tr><td>2</td><td>5792</td></tr><tr><td>human</td><td>5787</td></tr><tr><td>chronic</td><td>5512</td></tr><tr><td>using</td><td>5479</td></tr><tr><td>acute</td><td>5302</td></tr><tr><td>infection</td><td>5294</td></tr><tr><td>quality</td><td>5191</td></tr><tr><td>based</td><td>5060</td></tr><tr><td>at</td><td>5044</td></tr><tr><td>trial</td><td>4928</td></tr><tr><td>association</td><td>4823</td></tr><tr><td>induced</td><td>4806</td></tr><tr><td>high</td><td>4751</td></tr><tr><td>state</td><td>4702</td></tr><tr><td>prevalence</td><td>4686</td></tr><tr><td>physical</td><td>4640</td></tr><tr><td>life</td><td>4635</td></tr><tr><td>assessment</td><td>4596</td></tr><tr><td>adolescents</td><td>4582</td></tr><tr><td>randomized</td><td>4546</td></tr><tr><td>low</td><td>4465</td></tr><tr><td>related</td><td>4437</td></tr><tr><td>oral</td><td>4418</td></tr><tr><td>exercise</td><td>4369</td></tr><tr><td>sup</td><td>4333</td></tr><tr><td>diagnosis</td><td>4272</td></tr><tr><td>different</td><td>4270</td></tr><tr><td>or</td><td>4233</td></tr><tr><td>impact</td><td>4231</td></tr><tr><td>training</td><td>4207</td></tr><tr><td>cells</td><td>4190</td></tr><tr><td>type</td><td>4106</td></tr><tr><td>surgery</td><td>4054</td></tr><tr><td>expression</td><td>4005</td></tr><tr><td>influence</td><td>3963</td></tr><tr><td>system</td><td>3930</td></tr><tr><td>new</td><td>3927</td></tr><tr><td>blood</td><td>3890</td></tr><tr><td>primary</td><td>3878</td></tr><tr><td>non</td><td>3829</td></tr><tr><td>o</td><td>3822</td></tr><tr><td>elderly</td><td>3795</td></tr><tr><td>adults</td><td>3790</td></tr><tr><td>model</td><td>3775</td></tr><tr><td>hiv</td><td>3695</td></tr><tr><td>muscle</td><td>3612</td></tr><tr><td>comparison</td><td>3527</td></tr><tr><td>population</td><td>3520</td></tr><tr><td>control</td><td>3514</td></tr><tr><td>development</td><td>3509</td></tr><tr><td>response</td><td>3500</td></tr></tbody></table></div>"
      ]
     },
     "metadata": {
      "application/vnd.databricks.v1+output": {
       "addedWidgets": {},
       "aggData": [],
       "aggError": "",
       "aggOverflow": false,
       "aggSchema": [],
       "aggSeriesLimitReached": false,
       "aggType": "",
       "arguments": {},
       "columnCustomDisplayInfos": {},
       "data": [
        [
         "of",
         218563
        ],
        [
         "in",
         168531
        ],
        [
         "and",
         147448
        ],
        [
         "the",
         115593
        ],
        [
         "a",
         73739
        ],
        [
         "with",
         55593
        ],
        [
         "for",
         37709
        ],
        [
         "to",
         31975
        ],
        [
         "on",
         28986
        ],
        [
         "patients",
         25080
        ],
        [
         "brazil",
         21596
        ],
        [
         "study",
         19921
        ],
        [
         "from",
         17259
        ],
        [
         "by",
         15457
        ],
        [
         "an",
         13840
        ],
        [
         "health",
         13445
        ],
        [
         "analysis",
         13178
        ],
        [
         "brazilian",
         13002
        ],
        [
         "treatment",
         11712
        ],
        [
         "disease",
         11707
        ],
        [
         "review",
         11330
        ],
        [
         "associated",
         10931
        ],
        [
         "clinical",
         10595
        ],
        [
         "s",
         9438
        ],
        [
         "after",
         9232
        ],
        [
         "effects",
         9073
        ],
        [
         "between",
         8689
        ],
        [
         "case",
         8542
        ],
        [
         "evaluation",
         8473
        ],
        [
         "children",
         8451
        ],
        [
         "cancer",
         8142
        ],
        [
         "factors",
         7916
        ],
        [
         "care",
         7661
        ],
        [
         "as",
         7567
        ],
        [
         "risk",
         7369
        ],
        [
         "women",
         7200
        ],
        [
         "is",
         7085
        ],
        [
         "among",
         6892
        ],
        [
         "during",
         6880
        ],
        [
         "effect",
         6868
        ],
        [
         "report",
         6852
        ],
        [
         "cell",
         6798
        ],
        [
         "syndrome",
         6648
        ],
        [
         "systematic",
         6459
        ],
        [
         "rats",
         6245
        ],
        [
         "activity",
         6128
        ],
        [
         "therapy",
         6070
        ],
        [
         "use",
         5922
        ],
        [
         "1",
         5913
        ],
        [
         "2",
         5792
        ],
        [
         "human",
         5787
        ],
        [
         "chronic",
         5512
        ],
        [
         "using",
         5479
        ],
        [
         "acute",
         5302
        ],
        [
         "infection",
         5294
        ],
        [
         "quality",
         5191
        ],
        [
         "based",
         5060
        ],
        [
         "at",
         5044
        ],
        [
         "trial",
         4928
        ],
        [
         "association",
         4823
        ],
        [
         "induced",
         4806
        ],
        [
         "high",
         4751
        ],
        [
         "state",
         4702
        ],
        [
         "prevalence",
         4686
        ],
        [
         "physical",
         4640
        ],
        [
         "life",
         4635
        ],
        [
         "assessment",
         4596
        ],
        [
         "adolescents",
         4582
        ],
        [
         "randomized",
         4546
        ],
        [
         "low",
         4465
        ],
        [
         "related",
         4437
        ],
        [
         "oral",
         4418
        ],
        [
         "exercise",
         4369
        ],
        [
         "sup",
         4333
        ],
        [
         "diagnosis",
         4272
        ],
        [
         "different",
         4270
        ],
        [
         "or",
         4233
        ],
        [
         "impact",
         4231
        ],
        [
         "training",
         4207
        ],
        [
         "cells",
         4190
        ],
        [
         "type",
         4106
        ],
        [
         "surgery",
         4054
        ],
        [
         "expression",
         4005
        ],
        [
         "influence",
         3963
        ],
        [
         "system",
         3930
        ],
        [
         "new",
         3927
        ],
        [
         "blood",
         3890
        ],
        [
         "primary",
         3878
        ],
        [
         "non",
         3829
        ],
        [
         "o",
         3822
        ],
        [
         "elderly",
         3795
        ],
        [
         "adults",
         3790
        ],
        [
         "model",
         3775
        ],
        [
         "hiv",
         3695
        ],
        [
         "muscle",
         3612
        ],
        [
         "comparison",
         3527
        ],
        [
         "population",
         3520
        ],
        [
         "control",
         3514
        ],
        [
         "development",
         3509
        ],
        [
         "response",
         3500
        ]
       ],
       "datasetInfos": [],
       "dbfsResultPath": null,
       "isJsonSchema": true,
       "metadata": {},
       "overflow": false,
       "plotOptions": {
        "customPlotOptions": {},
        "displayType": "table",
        "pivotAggregation": null,
        "pivotColumns": null,
        "xColumns": null,
        "yColumns": null
       },
       "removedWidgets": [],
       "schema": [
        {
         "metadata": "{}",
         "name": "word",
         "type": "\"string\""
        },
        {
         "metadata": "{}",
         "name": "frequency",
         "type": "\"long\""
        }
       ],
       "type": "table"
      }
     },
     "output_type": "display_data"
    },
    {
     "output_type": "display_data",
     "data": {
      "text/plain": [
       "Databricks visualization. Run in Databricks to view."
      ]
     },
     "metadata": {
      "application/vnd.databricks.v1.subcommand+json": {
       "baseErrorDetails": null,
       "bindings": {},
       "collapsed": false,
       "command": "%sql\nWITH words AS (\n  SELECT explode(split(lower(title), '\\\\W+')) AS word\n  FROM gold.publicacoes_integradas\n  WHERE title IS NOT NULL\n)\nSELECT word, count(*) AS frequency\nFROM words\nWHERE word <> ''\nGROUP BY word\nORDER BY frequency DESC\nLIMIT 100;\n",
       "commandTitle": "Visualization 1",
       "commandType": "auto",
       "commandVersion": 0,
       "commentThread": [],
       "commentsVisible": false,
       "contentSha256Hex": null,
       "customPlotOptions": {
        "redashChart": [
         {
          "key": "type",
          "value": "WORD_CLOUD"
         },
         {
          "key": "options",
          "value": {
           "column": "word",
           "frequenciesColumn": "frequency",
           "wordCountLimit": {
            "max": null,
            "min": null
           },
           "wordLengthLimit": {
            "max": null,
            "min": 4
           }
          }
         }
        ]
       },
       "datasetPreviewNameToCmdIdMap": {},
       "diffDeletes": [],
       "diffInserts": [],
       "displayType": "redashChart",
       "error": null,
       "errorDetails": null,
       "errorSummary": null,
       "errorTraceType": null,
       "finishTime": 0,
       "globalVars": {},
       "guid": "",
       "height": "auto",
       "hideCommandCode": false,
       "hideCommandResult": false,
       "iPythonMetadata": null,
       "inputWidgets": {},
       "isLockedInExamMode": false,
       "latestUser": "a user",
       "latestUserId": null,
       "listResultMetadata": null,
       "metadata": {
        "byteLimit": 2048000,
        "implicitDf": true,
        "rowLimit": 10000
       },
       "nuid": "5edb354a-a6b4-4bdd-9f14-1bf328ff299b",
       "origId": 0,
       "parentHierarchy": [],
       "pivotAggregation": null,
       "pivotColumns": null,
       "position": 19.0,
       "resultDbfsErrorMessage": null,
       "resultDbfsStatus": "INLINED_IN_TREE",
       "results": null,
       "showCommandTitle": false,
       "startTime": 0,
       "state": "finished",
       "streamStates": {},
       "subcommandOptions": {},
       "submitTime": 0,
       "subtype": "tableResultSubCmd.visualization",
       "tableResultIndex": 0,
       "tableResultSettingsMap": {},
       "useConsistentColors": false,
       "version": "CommandV1",
       "width": "auto",
       "workflows": [],
       "xColumns": null,
       "yColumns": null
      }
     },
     "output_type": "display_data"
    }
   ],
   "source": [
    "%sql\n",
    "WITH words AS (\n",
    "  SELECT explode(split(lower(title), '\\\\W+')) AS word\n",
    "  FROM gold.publicacoes_integradas\n",
    "  WHERE title IS NOT NULL\n",
    ")\n",
    "SELECT word, count(*) AS frequency\n",
    "FROM words\n",
    "WHERE word <> ''\n",
    "GROUP BY word\n",
    "ORDER BY frequency DESC\n",
    "LIMIT 100;\n"
   ]
  }
 ],
 "metadata": {
  "application/vnd.databricks.v1+notebook": {
   "computePreferences": null,
   "dashboards": [],
   "environmentMetadata": {
    "base_environment": "",
    "environment_version": "1"
   },
   "inputWidgetPreferences": null,
   "language": "python",
   "notebookMetadata": {
    "mostRecentlyExecutedCommandWithImplicitDF": {
     "commandId": 2439017735153709,
     "dataframes": [
      "_sqldf"
     ]
    },
    "pythonIndentUnit": 4
   },
   "notebookName": "MVP PUC-Rio Engenharia de dados 2025",
   "widgets": {}
  }
 },
 "nbformat": 4,
 "nbformat_minor": 0
}